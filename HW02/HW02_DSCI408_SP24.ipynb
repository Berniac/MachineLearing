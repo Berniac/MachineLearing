{
 "cells": [
  {
   "cell_type": "markdown",
   "id": "e9afd332",
   "metadata": {
    "papermill": {
     "duration": 0.01191,
     "end_time": "2023-02-22T17:06:52.071808",
     "exception": false,
     "start_time": "2023-02-22T17:06:52.059898",
     "status": "completed"
    },
    "tags": []
   },
   "source": [
    "# Homework 02\n",
    "\n",
    "**Bernard Mwamburi**"
   ]
  },
  {
   "cell_type": "markdown",
   "id": "cfcef00d",
   "metadata": {
    "papermill": {
     "duration": 0.010023,
     "end_time": "2023-02-22T17:06:52.133105",
     "exception": false,
     "start_time": "2023-02-22T17:06:52.123082",
     "status": "completed"
    },
    "tags": []
   },
   "source": [
    "## Preparing the Environment\n",
    "\n",
    "Use the cell below to import NumPy, Pandas, and the Pyplot library of Matplotlib, using the standard aliases. Also import the following tools from Scikit-Learn: `LogisticRegresion`, `StandardScaler`, `cross_val_score`, `cross_val_predict`, `classification_report`, `confusion_matrix`, and `RocCurveDisplay`. "
   ]
  },
  {
   "cell_type": "code",
   "execution_count": 1,
   "id": "48ccd4d5",
   "metadata": {
    "execution": {
     "iopub.execute_input": "2023-02-22T17:06:52.157027Z",
     "iopub.status.busy": "2023-02-22T17:06:52.156583Z",
     "iopub.status.idle": "2023-02-22T17:06:53.658731Z",
     "shell.execute_reply": "2023-02-22T17:06:53.657638Z"
    },
    "papermill": {
     "duration": 1.516759,
     "end_time": "2023-02-22T17:06:53.661659",
     "exception": false,
     "start_time": "2023-02-22T17:06:52.144900",
     "status": "completed"
    },
    "tags": []
   },
   "outputs": [],
   "source": [
    "import numpy as np\n",
    "import pandas as pd\n",
    "import matplotlib.pyplot as plt\n",
    "\n",
    "from sklearn.model_selection import train_test_split, cross_val_score, cross_val_predict\n",
    "from sklearn.preprocessing import StandardScaler\n",
    "from sklearn.linear_model import LogisticRegression\n",
    "from sklearn.metrics import confusion_matrix, classification_report, RocCurveDisplay, roc_curve, precision_recall_curve\n",
    "%matplotlib inline"
   ]
  },
  {
   "cell_type": "markdown",
   "id": "d7f706f7",
   "metadata": {
    "papermill": {
     "duration": 0.010159,
     "end_time": "2023-02-22T17:06:53.682315",
     "exception": false,
     "start_time": "2023-02-22T17:06:53.672156",
     "status": "completed"
    },
    "tags": []
   },
   "source": [
    "# Part 1: Breast Cancer Dataset"
   ]
  },
  {
   "cell_type": "markdown",
   "id": "d7ed5227",
   "metadata": {
    "papermill": {
     "duration": 0.009939,
     "end_time": "2023-02-22T17:06:53.702779",
     "exception": false,
     "start_time": "2023-02-22T17:06:53.692840",
     "status": "completed"
    },
    "tags": []
   },
   "source": [
    "In Part 1, you will be working with oncological data to build a model that classifies breast cancer tumors as \"malignant\" or \"benign\". You can find more information about the dataset, including a description of the features here: [Kaggle: Wisconsin Breast Cancer Data Set](https://www.kaggle.com/datasets/uciml/breast-cancer-wisconsin-data)\n",
    "\n",
    "Use the cell below to load the dataset `breast_cancer.csv` into a DataFrame. Shuffle the DataFrame (setting `random_state=1`), print its shape, and then display the head of the DataFrame. \n"
   ]
  },
  {
   "cell_type": "code",
   "execution_count": 2,
   "id": "30194e06",
   "metadata": {
    "execution": {
     "iopub.execute_input": "2023-02-22T17:06:53.725282Z",
     "iopub.status.busy": "2023-02-22T17:06:53.724856Z",
     "iopub.status.idle": "2023-02-22T17:06:53.783196Z",
     "shell.execute_reply": "2023-02-22T17:06:53.781770Z"
    },
    "papermill": {
     "duration": 0.072595,
     "end_time": "2023-02-22T17:06:53.785718",
     "exception": false,
     "start_time": "2023-02-22T17:06:53.713123",
     "status": "completed"
    },
    "tags": []
   },
   "outputs": [
    {
     "name": "stdout",
     "output_type": "stream",
     "text": [
      "(569, 32)\n"
     ]
    },
    {
     "data": {
      "text/html": [
       "<div>\n",
       "<style scoped>\n",
       "    .dataframe tbody tr th:only-of-type {\n",
       "        vertical-align: middle;\n",
       "    }\n",
       "\n",
       "    .dataframe tbody tr th {\n",
       "        vertical-align: top;\n",
       "    }\n",
       "\n",
       "    .dataframe thead th {\n",
       "        text-align: right;\n",
       "    }\n",
       "</style>\n",
       "<table border=\"1\" class=\"dataframe\">\n",
       "  <thead>\n",
       "    <tr style=\"text-align: right;\">\n",
       "      <th></th>\n",
       "      <th>id</th>\n",
       "      <th>diagnosis</th>\n",
       "      <th>radius_mean</th>\n",
       "      <th>texture_mean</th>\n",
       "      <th>perimeter_mean</th>\n",
       "      <th>area_mean</th>\n",
       "      <th>smoothness_mean</th>\n",
       "      <th>compactness_mean</th>\n",
       "      <th>concavity_mean</th>\n",
       "      <th>concave points_mean</th>\n",
       "      <th>...</th>\n",
       "      <th>radius_worst</th>\n",
       "      <th>texture_worst</th>\n",
       "      <th>perimeter_worst</th>\n",
       "      <th>area_worst</th>\n",
       "      <th>smoothness_worst</th>\n",
       "      <th>compactness_worst</th>\n",
       "      <th>concavity_worst</th>\n",
       "      <th>concave points_worst</th>\n",
       "      <th>symmetry_worst</th>\n",
       "      <th>fractal_dimension_worst</th>\n",
       "    </tr>\n",
       "  </thead>\n",
       "  <tbody>\n",
       "    <tr>\n",
       "      <th>421</th>\n",
       "      <td>906564</td>\n",
       "      <td>B</td>\n",
       "      <td>14.69</td>\n",
       "      <td>13.98</td>\n",
       "      <td>98.22</td>\n",
       "      <td>656.1</td>\n",
       "      <td>0.10310</td>\n",
       "      <td>0.18360</td>\n",
       "      <td>0.14500</td>\n",
       "      <td>0.06300</td>\n",
       "      <td>...</td>\n",
       "      <td>16.46</td>\n",
       "      <td>18.34</td>\n",
       "      <td>114.10</td>\n",
       "      <td>809.2</td>\n",
       "      <td>0.1312</td>\n",
       "      <td>0.36350</td>\n",
       "      <td>0.3219</td>\n",
       "      <td>0.11080</td>\n",
       "      <td>0.2827</td>\n",
       "      <td>0.09208</td>\n",
       "    </tr>\n",
       "    <tr>\n",
       "      <th>47</th>\n",
       "      <td>85715</td>\n",
       "      <td>M</td>\n",
       "      <td>13.17</td>\n",
       "      <td>18.66</td>\n",
       "      <td>85.98</td>\n",
       "      <td>534.6</td>\n",
       "      <td>0.11580</td>\n",
       "      <td>0.12310</td>\n",
       "      <td>0.12260</td>\n",
       "      <td>0.07340</td>\n",
       "      <td>...</td>\n",
       "      <td>15.67</td>\n",
       "      <td>27.95</td>\n",
       "      <td>102.80</td>\n",
       "      <td>759.4</td>\n",
       "      <td>0.1786</td>\n",
       "      <td>0.41660</td>\n",
       "      <td>0.5006</td>\n",
       "      <td>0.20880</td>\n",
       "      <td>0.3900</td>\n",
       "      <td>0.11790</td>\n",
       "    </tr>\n",
       "    <tr>\n",
       "      <th>292</th>\n",
       "      <td>891670</td>\n",
       "      <td>B</td>\n",
       "      <td>12.95</td>\n",
       "      <td>16.02</td>\n",
       "      <td>83.14</td>\n",
       "      <td>513.7</td>\n",
       "      <td>0.10050</td>\n",
       "      <td>0.07943</td>\n",
       "      <td>0.06155</td>\n",
       "      <td>0.03370</td>\n",
       "      <td>...</td>\n",
       "      <td>13.74</td>\n",
       "      <td>19.93</td>\n",
       "      <td>88.81</td>\n",
       "      <td>585.4</td>\n",
       "      <td>0.1483</td>\n",
       "      <td>0.20680</td>\n",
       "      <td>0.2241</td>\n",
       "      <td>0.10560</td>\n",
       "      <td>0.3380</td>\n",
       "      <td>0.09584</td>\n",
       "    </tr>\n",
       "    <tr>\n",
       "      <th>186</th>\n",
       "      <td>874217</td>\n",
       "      <td>M</td>\n",
       "      <td>18.31</td>\n",
       "      <td>18.58</td>\n",
       "      <td>118.60</td>\n",
       "      <td>1041.0</td>\n",
       "      <td>0.08588</td>\n",
       "      <td>0.08468</td>\n",
       "      <td>0.08169</td>\n",
       "      <td>0.05814</td>\n",
       "      <td>...</td>\n",
       "      <td>21.31</td>\n",
       "      <td>26.36</td>\n",
       "      <td>139.20</td>\n",
       "      <td>1410.0</td>\n",
       "      <td>0.1234</td>\n",
       "      <td>0.24450</td>\n",
       "      <td>0.3538</td>\n",
       "      <td>0.15710</td>\n",
       "      <td>0.3206</td>\n",
       "      <td>0.06938</td>\n",
       "    </tr>\n",
       "    <tr>\n",
       "      <th>414</th>\n",
       "      <td>905680</td>\n",
       "      <td>M</td>\n",
       "      <td>15.13</td>\n",
       "      <td>29.81</td>\n",
       "      <td>96.71</td>\n",
       "      <td>719.5</td>\n",
       "      <td>0.08320</td>\n",
       "      <td>0.04605</td>\n",
       "      <td>0.04686</td>\n",
       "      <td>0.02739</td>\n",
       "      <td>...</td>\n",
       "      <td>17.26</td>\n",
       "      <td>36.91</td>\n",
       "      <td>110.10</td>\n",
       "      <td>931.4</td>\n",
       "      <td>0.1148</td>\n",
       "      <td>0.09866</td>\n",
       "      <td>0.1547</td>\n",
       "      <td>0.06575</td>\n",
       "      <td>0.3233</td>\n",
       "      <td>0.06165</td>\n",
       "    </tr>\n",
       "  </tbody>\n",
       "</table>\n",
       "<p>5 rows × 32 columns</p>\n",
       "</div>"
      ],
      "text/plain": [
       "         id diagnosis  radius_mean  texture_mean  perimeter_mean  area_mean  \\\n",
       "421  906564         B        14.69         13.98           98.22      656.1   \n",
       "47    85715         M        13.17         18.66           85.98      534.6   \n",
       "292  891670         B        12.95         16.02           83.14      513.7   \n",
       "186  874217         M        18.31         18.58          118.60     1041.0   \n",
       "414  905680         M        15.13         29.81           96.71      719.5   \n",
       "\n",
       "     smoothness_mean  compactness_mean  concavity_mean  concave points_mean  \\\n",
       "421          0.10310           0.18360         0.14500              0.06300   \n",
       "47           0.11580           0.12310         0.12260              0.07340   \n",
       "292          0.10050           0.07943         0.06155              0.03370   \n",
       "186          0.08588           0.08468         0.08169              0.05814   \n",
       "414          0.08320           0.04605         0.04686              0.02739   \n",
       "\n",
       "     ...  radius_worst  texture_worst  perimeter_worst  area_worst  \\\n",
       "421  ...         16.46          18.34           114.10       809.2   \n",
       "47   ...         15.67          27.95           102.80       759.4   \n",
       "292  ...         13.74          19.93            88.81       585.4   \n",
       "186  ...         21.31          26.36           139.20      1410.0   \n",
       "414  ...         17.26          36.91           110.10       931.4   \n",
       "\n",
       "     smoothness_worst  compactness_worst  concavity_worst  \\\n",
       "421            0.1312            0.36350           0.3219   \n",
       "47             0.1786            0.41660           0.5006   \n",
       "292            0.1483            0.20680           0.2241   \n",
       "186            0.1234            0.24450           0.3538   \n",
       "414            0.1148            0.09866           0.1547   \n",
       "\n",
       "     concave points_worst  symmetry_worst  fractal_dimension_worst  \n",
       "421               0.11080          0.2827                  0.09208  \n",
       "47                0.20880          0.3900                  0.11790  \n",
       "292               0.10560          0.3380                  0.09584  \n",
       "186               0.15710          0.3206                  0.06938  \n",
       "414               0.06575          0.3233                  0.06165  \n",
       "\n",
       "[5 rows x 32 columns]"
      ]
     },
     "execution_count": 2,
     "metadata": {},
     "output_type": "execute_result"
    }
   ],
   "source": [
    "cancer = pd.read_csv(\"breast_cancer.csv\")\n",
    "cancer = cancer.sample(frac=1, random_state=1)\n",
    "print(cancer.shape)\n",
    "cancer.head()"
   ]
  },
  {
   "cell_type": "markdown",
   "id": "8d2cb051",
   "metadata": {
    "papermill": {
     "duration": 0.010381,
     "end_time": "2023-02-22T17:06:53.807052",
     "exception": false,
     "start_time": "2023-02-22T17:06:53.796671",
     "status": "completed"
    },
    "tags": []
   },
   "source": [
    "Use the cell below to print the names of the columns of the DataFrame. "
   ]
  },
  {
   "cell_type": "code",
   "execution_count": 3,
   "id": "f478a059",
   "metadata": {
    "execution": {
     "iopub.execute_input": "2023-02-22T17:06:53.830250Z",
     "iopub.status.busy": "2023-02-22T17:06:53.829831Z",
     "iopub.status.idle": "2023-02-22T17:06:53.836218Z",
     "shell.execute_reply": "2023-02-22T17:06:53.834818Z"
    },
    "papermill": {
     "duration": 0.021767,
     "end_time": "2023-02-22T17:06:53.839534",
     "exception": false,
     "start_time": "2023-02-22T17:06:53.817767",
     "status": "completed"
    },
    "tags": []
   },
   "outputs": [
    {
     "data": {
      "text/plain": [
       "array(['id', 'diagnosis', 'radius_mean', 'texture_mean', 'perimeter_mean',\n",
       "       'area_mean', 'smoothness_mean', 'compactness_mean',\n",
       "       'concavity_mean', 'concave points_mean', 'symmetry_mean',\n",
       "       'fractal_dimension_mean', 'radius_se', 'texture_se',\n",
       "       'perimeter_se', 'area_se', 'smoothness_se', 'compactness_se',\n",
       "       'concavity_se', 'concave points_se', 'symmetry_se',\n",
       "       'fractal_dimension_se', 'radius_worst', 'texture_worst',\n",
       "       'perimeter_worst', 'area_worst', 'smoothness_worst',\n",
       "       'compactness_worst', 'concavity_worst', 'concave points_worst',\n",
       "       'symmetry_worst', 'fractal_dimension_worst'], dtype=object)"
      ]
     },
     "execution_count": 3,
     "metadata": {},
     "output_type": "execute_result"
    }
   ],
   "source": [
    "cancer.columns.values"
   ]
  },
  {
   "cell_type": "markdown",
   "id": "1d43d6d6",
   "metadata": {
    "papermill": {
     "duration": 0.010534,
     "end_time": "2023-02-22T17:06:53.862039",
     "exception": false,
     "start_time": "2023-02-22T17:06:53.851505",
     "status": "completed"
    },
    "tags": []
   },
   "source": [
    "The `diagnosis` column will represent our label. The `id` column is a unique identifier for rows and will be ignored. All other columns represent numerical features. \n",
    "\n",
    "Use the `value_counts` method to display a DataFrame showing the proportions of observations with each class ('B' or 'M'). **Note:** There is an example of this is Lesson 02. "
   ]
  },
  {
   "cell_type": "code",
   "execution_count": 4,
   "id": "752fc15b",
   "metadata": {
    "execution": {
     "iopub.execute_input": "2023-02-22T17:06:53.885924Z",
     "iopub.status.busy": "2023-02-22T17:06:53.885469Z",
     "iopub.status.idle": "2023-02-22T17:06:53.903516Z",
     "shell.execute_reply": "2023-02-22T17:06:53.902385Z"
    },
    "papermill": {
     "duration": 0.032902,
     "end_time": "2023-02-22T17:06:53.905745",
     "exception": false,
     "start_time": "2023-02-22T17:06:53.872843",
     "status": "completed"
    },
    "tags": []
   },
   "outputs": [
    {
     "data": {
      "text/html": [
       "<div>\n",
       "<style scoped>\n",
       "    .dataframe tbody tr th:only-of-type {\n",
       "        vertical-align: middle;\n",
       "    }\n",
       "\n",
       "    .dataframe tbody tr th {\n",
       "        vertical-align: top;\n",
       "    }\n",
       "\n",
       "    .dataframe thead th {\n",
       "        text-align: right;\n",
       "    }\n",
       "</style>\n",
       "<table border=\"1\" class=\"dataframe\">\n",
       "  <thead>\n",
       "    <tr style=\"text-align: right;\">\n",
       "      <th></th>\n",
       "      <th>diagnosis</th>\n",
       "    </tr>\n",
       "  </thead>\n",
       "  <tbody>\n",
       "    <tr>\n",
       "      <th>B</th>\n",
       "      <td>0.627417</td>\n",
       "    </tr>\n",
       "    <tr>\n",
       "      <th>M</th>\n",
       "      <td>0.372583</td>\n",
       "    </tr>\n",
       "  </tbody>\n",
       "</table>\n",
       "</div>"
      ],
      "text/plain": [
       "   diagnosis\n",
       "B   0.627417\n",
       "M   0.372583"
      ]
     },
     "execution_count": 4,
     "metadata": {},
     "output_type": "execute_result"
    }
   ],
   "source": [
    "cancer.diagnosis.value_counts(normalize=True).to_frame()"
   ]
  },
  {
   "cell_type": "markdown",
   "id": "3f226d67",
   "metadata": {
    "papermill": {
     "duration": 0.010566,
     "end_time": "2023-02-22T17:06:53.927331",
     "exception": false,
     "start_time": "2023-02-22T17:06:53.916765",
     "status": "completed"
    },
    "tags": []
   },
   "source": [
    "Create a feature array and a label array. Name these `X1` and `y1`, or something similar."
   ]
  },
  {
   "cell_type": "code",
   "execution_count": 5,
   "id": "0c6b6a11",
   "metadata": {
    "execution": {
     "iopub.execute_input": "2023-02-22T17:06:53.951478Z",
     "iopub.status.busy": "2023-02-22T17:06:53.950947Z",
     "iopub.status.idle": "2023-02-22T17:06:53.957853Z",
     "shell.execute_reply": "2023-02-22T17:06:53.956985Z"
    },
    "papermill": {
     "duration": 0.021847,
     "end_time": "2023-02-22T17:06:53.960298",
     "exception": false,
     "start_time": "2023-02-22T17:06:53.938451",
     "status": "completed"
    },
    "tags": []
   },
   "outputs": [],
   "source": [
    "features = ['radius_mean', 'texture_mean', 'perimeter_mean',\n",
    "            'area_mean', 'smoothness_mean', 'compactness_mean',\n",
    "            'concavity_mean', 'concave points_mean', 'symmetry_mean',\n",
    "            'fractal_dimension_mean', 'radius_se', 'texture_se',\n",
    "            'perimeter_se', 'area_se', 'smoothness_se', 'compactness_se',\n",
    "            'concavity_se', 'concave points_se', 'symmetry_se',\n",
    "            'fractal_dimension_se', 'radius_worst', 'texture_worst',\n",
    "            'perimeter_worst', 'area_worst', 'smoothness_worst',\n",
    "            'compactness_worst', 'concavity_worst', 'concave points_worst',\n",
    "            'symmetry_worst', 'fractal_dimension_worst']\n",
    "X1 = cancer[features]\n",
    "y1 = cancer.diagnosis"
   ]
  },
  {
   "cell_type": "code",
   "execution_count": 6,
   "id": "bfd20b61",
   "metadata": {},
   "outputs": [
    {
     "data": {
      "text/plain": [
       "(569, 30)"
      ]
     },
     "execution_count": 6,
     "metadata": {},
     "output_type": "execute_result"
    }
   ],
   "source": [
    "X1.shape"
   ]
  },
  {
   "cell_type": "markdown",
   "id": "f4480c06",
   "metadata": {
    "papermill": {
     "duration": 0.010572,
     "end_time": "2023-02-22T17:06:53.981885",
     "exception": false,
     "start_time": "2023-02-22T17:06:53.971313",
     "status": "completed"
    },
    "tags": []
   },
   "source": [
    "Create an instance of `StandardScaler` and use it to scale the feature array. Provide a different name for the scaled feature array. "
   ]
  },
  {
   "cell_type": "code",
   "execution_count": 7,
   "id": "622b4d5f",
   "metadata": {
    "execution": {
     "iopub.execute_input": "2023-02-22T17:06:54.005683Z",
     "iopub.status.busy": "2023-02-22T17:06:54.005268Z",
     "iopub.status.idle": "2023-02-22T17:06:54.012269Z",
     "shell.execute_reply": "2023-02-22T17:06:54.011035Z"
    },
    "papermill": {
     "duration": 0.022026,
     "end_time": "2023-02-22T17:06:54.014880",
     "exception": false,
     "start_time": "2023-02-22T17:06:53.992854",
     "status": "completed"
    },
    "tags": []
   },
   "outputs": [],
   "source": [
    "scaler = StandardScaler()\n",
    "X1_scaled = scaler.fit_transform(X1)"
   ]
  },
  {
   "cell_type": "markdown",
   "id": "fc7a831a",
   "metadata": {
    "papermill": {
     "duration": 0.010899,
     "end_time": "2023-02-22T17:06:54.037069",
     "exception": false,
     "start_time": "2023-02-22T17:06:54.026170",
     "status": "completed"
    },
    "tags": []
   },
   "source": [
    "Perform the following steps in the cell below: (1) Create an instance of `LogisticRegression`, (2) train it on dataset (using the scaled features), (3) print the model's training accuracy.\n",
    "\n",
    "**Note**: If you receive a warning about convergence, increase the `max_iter` parameter until the warning goes away. "
   ]
  },
  {
   "cell_type": "code",
   "execution_count": 8,
   "id": "16bea13b",
   "metadata": {
    "execution": {
     "iopub.execute_input": "2023-02-22T17:06:54.061776Z",
     "iopub.status.busy": "2023-02-22T17:06:54.061356Z",
     "iopub.status.idle": "2023-02-22T17:06:54.293503Z",
     "shell.execute_reply": "2023-02-22T17:06:54.291938Z"
    },
    "papermill": {
     "duration": 0.249092,
     "end_time": "2023-02-22T17:06:54.297733",
     "exception": false,
     "start_time": "2023-02-22T17:06:54.048641",
     "status": "completed"
    },
    "tags": []
   },
   "outputs": [
    {
     "name": "stdout",
     "output_type": "stream",
     "text": [
      "Training accuracy: 1.0\n"
     ]
    }
   ],
   "source": [
    "logReg = LogisticRegression(penalty=None, max_iter=500)\n",
    "logReg.fit(X1_scaled, y1)\n",
    "print(f\"Training accuracy: {logReg.score(X1_scaled, y1)}\")"
   ]
  },
  {
   "cell_type": "markdown",
   "id": "3e912c27",
   "metadata": {
    "papermill": {
     "duration": 0.027901,
     "end_time": "2023-02-22T17:06:54.353998",
     "exception": false,
     "start_time": "2023-02-22T17:06:54.326097",
     "status": "completed"
    },
    "tags": []
   },
   "source": [
    "Use `cross_val_score` to perform 10-fold cross validation to estimate the model's accuracy on out-of-sample observations. Print the CV score. You don't need print the scores for the different folds. If you receive convergence warnings, you might need to further increase `max_iter` from the previous cell. "
   ]
  },
  {
   "cell_type": "code",
   "execution_count": 9,
   "id": "e26b5dd3",
   "metadata": {
    "execution": {
     "iopub.execute_input": "2023-02-22T17:06:54.410800Z",
     "iopub.status.busy": "2023-02-22T17:06:54.410411Z",
     "iopub.status.idle": "2023-02-22T17:06:55.250525Z",
     "shell.execute_reply": "2023-02-22T17:06:55.249252Z"
    },
    "papermill": {
     "duration": 0.874342,
     "end_time": "2023-02-22T17:06:55.256935",
     "exception": false,
     "start_time": "2023-02-22T17:06:54.382593",
     "status": "completed"
    },
    "tags": []
   },
   "outputs": [
    {
     "name": "stdout",
     "output_type": "stream",
     "text": [
      "Cross Validation score: 0.9543233082706767\n"
     ]
    }
   ],
   "source": [
    "print(f\"Cross Validation score: {cross_val_score(logReg, X1_scaled, y1, scoring='accuracy', cv=10).mean()}\")"
   ]
  },
  {
   "cell_type": "markdown",
   "id": "139b033e",
   "metadata": {
    "papermill": {
     "duration": 0.028389,
     "end_time": "2023-02-22T17:06:55.315283",
     "exception": false,
     "start_time": "2023-02-22T17:06:55.286894",
     "status": "completed"
    },
    "tags": []
   },
   "source": [
    "Use `cross_val_predict` to generate out-of-sample class predictions for the dataset. Then use it again to create out-of-sample class probability estimates for the dataset. Use 10-fold CV in both cases and stored the results in arrays. Print the shapes of these two arrays. "
   ]
  },
  {
   "cell_type": "code",
   "execution_count": 10,
   "id": "35aff341",
   "metadata": {
    "execution": {
     "iopub.execute_input": "2023-02-22T17:06:55.371039Z",
     "iopub.status.busy": "2023-02-22T17:06:55.370607Z",
     "iopub.status.idle": "2023-02-22T17:06:57.010579Z",
     "shell.execute_reply": "2023-02-22T17:06:57.009300Z"
    },
    "papermill": {
     "duration": 1.669255,
     "end_time": "2023-02-22T17:06:57.013786",
     "exception": false,
     "start_time": "2023-02-22T17:06:55.344531",
     "status": "completed"
    },
    "tags": []
   },
   "outputs": [
    {
     "name": "stdout",
     "output_type": "stream",
     "text": [
      "(569,)\n",
      "(569, 2)\n"
     ]
    }
   ],
   "source": [
    "cv_predict = cross_val_predict(logReg, X1_scaled, y1, cv=10)\n",
    "cv_pred_proba = cross_val_predict(logReg, X1_scaled, y1, cv=10, method='predict_proba')\n",
    "\n",
    "print(cv_predict.shape)\n",
    "print(cv_pred_proba.shape)"
   ]
  },
  {
   "cell_type": "markdown",
   "id": "8c169ac6",
   "metadata": {
    "papermill": {
     "duration": 0.029854,
     "end_time": "2023-02-22T17:06:57.072617",
     "exception": false,
     "start_time": "2023-02-22T17:06:57.042763",
     "status": "completed"
    },
    "tags": []
   },
   "source": [
    "Use the out-of-sample class predictions to create a confusion matrix. Display the confusion matrix as a DataFrame, with rows and columns named `'B'` and `'M'`. "
   ]
  },
  {
   "cell_type": "code",
   "execution_count": 11,
   "id": "4376fef1",
   "metadata": {
    "execution": {
     "iopub.execute_input": "2023-02-22T17:06:57.130965Z",
     "iopub.status.busy": "2023-02-22T17:06:57.130568Z",
     "iopub.status.idle": "2023-02-22T17:06:57.144996Z",
     "shell.execute_reply": "2023-02-22T17:06:57.144132Z"
    },
    "papermill": {
     "duration": 0.04357,
     "end_time": "2023-02-22T17:06:57.147064",
     "exception": false,
     "start_time": "2023-02-22T17:06:57.103494",
     "status": "completed"
    },
    "tags": []
   },
   "outputs": [
    {
     "data": {
      "text/html": [
       "<div>\n",
       "<style scoped>\n",
       "    .dataframe tbody tr th:only-of-type {\n",
       "        vertical-align: middle;\n",
       "    }\n",
       "\n",
       "    .dataframe tbody tr th {\n",
       "        vertical-align: top;\n",
       "    }\n",
       "\n",
       "    .dataframe thead th {\n",
       "        text-align: right;\n",
       "    }\n",
       "</style>\n",
       "<table border=\"1\" class=\"dataframe\">\n",
       "  <thead>\n",
       "    <tr style=\"text-align: right;\">\n",
       "      <th></th>\n",
       "      <th>B</th>\n",
       "      <th>M</th>\n",
       "    </tr>\n",
       "  </thead>\n",
       "  <tbody>\n",
       "    <tr>\n",
       "      <th>B</th>\n",
       "      <td>343</td>\n",
       "      <td>14</td>\n",
       "    </tr>\n",
       "    <tr>\n",
       "      <th>M</th>\n",
       "      <td>12</td>\n",
       "      <td>200</td>\n",
       "    </tr>\n",
       "  </tbody>\n",
       "</table>\n",
       "</div>"
      ],
      "text/plain": [
       "     B    M\n",
       "B  343   14\n",
       "M   12  200"
      ]
     },
     "execution_count": 11,
     "metadata": {},
     "output_type": "execute_result"
    }
   ],
   "source": [
    "cm = confusion_matrix(y1, cv_predict)\n",
    "pd.DataFrame(cm, columns=['B', 'M'], index=['B', 'M'])"
   ]
  },
  {
   "cell_type": "markdown",
   "id": "f3e2724e",
   "metadata": {
    "papermill": {
     "duration": 0.01109,
     "end_time": "2023-02-22T17:06:57.169679",
     "exception": false,
     "start_time": "2023-02-22T17:06:57.158589",
     "status": "completed"
    },
    "tags": []
   },
   "source": [
    "Use the out-of-sample class predictions to display a classification report. "
   ]
  },
  {
   "cell_type": "code",
   "execution_count": 12,
   "id": "d7dfbdd1",
   "metadata": {
    "execution": {
     "iopub.execute_input": "2023-02-22T17:06:57.194575Z",
     "iopub.status.busy": "2023-02-22T17:06:57.193798Z",
     "iopub.status.idle": "2023-02-22T17:06:57.215890Z",
     "shell.execute_reply": "2023-02-22T17:06:57.215054Z"
    },
    "papermill": {
     "duration": 0.038243,
     "end_time": "2023-02-22T17:06:57.219296",
     "exception": false,
     "start_time": "2023-02-22T17:06:57.181053",
     "status": "completed"
    },
    "tags": []
   },
   "outputs": [
    {
     "name": "stdout",
     "output_type": "stream",
     "text": [
      "              precision    recall  f1-score   support\n",
      "\n",
      "           B       0.97      0.96      0.96       357\n",
      "           M       0.93      0.94      0.94       212\n",
      "\n",
      "    accuracy                           0.95       569\n",
      "   macro avg       0.95      0.95      0.95       569\n",
      "weighted avg       0.95      0.95      0.95       569\n",
      "\n"
     ]
    }
   ],
   "source": [
    "print(classification_report(y1, cv_predict))"
   ]
  },
  {
   "cell_type": "markdown",
   "id": "ebdf63a3",
   "metadata": {
    "papermill": {
     "duration": 0.011004,
     "end_time": "2023-02-22T17:06:57.242150",
     "exception": false,
     "start_time": "2023-02-22T17:06:57.231146",
     "status": "completed"
    },
    "tags": []
   },
   "source": [
    "Use the out-of-sample class probability estimates to dispay an ROC curve. You will need to set `pos_label='M'`. "
   ]
  },
  {
   "cell_type": "code",
   "execution_count": 13,
   "id": "3ac01e9d",
   "metadata": {
    "execution": {
     "iopub.execute_input": "2023-02-22T17:06:57.266739Z",
     "iopub.status.busy": "2023-02-22T17:06:57.266320Z",
     "iopub.status.idle": "2023-02-22T17:06:57.507947Z",
     "shell.execute_reply": "2023-02-22T17:06:57.506745Z"
    },
    "papermill": {
     "duration": 0.257434,
     "end_time": "2023-02-22T17:06:57.510992",
     "exception": false,
     "start_time": "2023-02-22T17:06:57.253558",
     "status": "completed"
    },
    "scrolled": true,
    "tags": []
   },
   "outputs": [
    {
     "data": {
      "image/png": "[encoded data removed]",
      "text/plain": [
       "<Figure size 640x480 with 1 Axes>"
      ]
     },
     "metadata": {},
     "output_type": "display_data"
    }
   ],
   "source": [
    "roc_curve = RocCurveDisplay.from_predictions(y1, cv_pred_proba[:,1], pos_label='M')"
   ]
  },
  {
   "cell_type": "markdown",
   "id": "8eb0107f",
   "metadata": {
    "papermill": {
     "duration": 0.011576,
     "end_time": "2023-02-22T17:06:57.534590",
     "exception": false,
     "start_time": "2023-02-22T17:06:57.523014",
     "status": "completed"
    },
    "tags": []
   },
   "source": [
    "Use `cross_val_score` to perform 10-fold cross validation to estimate the model's AUC score on out-of-sample observations. Print the CV score. You don't need print the scores for the different folds."
   ]
  },
  {
   "cell_type": "code",
   "execution_count": 14,
   "id": "2f744bb1",
   "metadata": {
    "execution": {
     "iopub.execute_input": "2023-02-22T17:06:57.560482Z",
     "iopub.status.busy": "2023-02-22T17:06:57.559806Z",
     "iopub.status.idle": "2023-02-22T17:06:58.414038Z",
     "shell.execute_reply": "2023-02-22T17:06:58.412502Z"
    },
    "papermill": {
     "duration": 0.874413,
     "end_time": "2023-02-22T17:06:58.420873",
     "exception": false,
     "start_time": "2023-02-22T17:06:57.546460",
     "status": "completed"
    },
    "scrolled": true,
    "tags": []
   },
   "outputs": [
    {
     "name": "stdout",
     "output_type": "stream",
     "text": [
      "Cross validation score: 0.9843585515014086\n"
     ]
    }
   ],
   "source": [
    "print(f\"Cross validation score: {cross_val_score(logReg, X1_scaled, y1, cv=10, scoring='roc_auc').mean()}\")"
   ]
  },
  {
   "cell_type": "markdown",
   "id": "53d44e3d",
   "metadata": {},
   "source": [
    "y1_pred = cross_val_predict(logReg, X1_scaled, y1, method='decision_function')"
   ]
  },
  {
   "cell_type": "markdown",
   "id": "a192f08b",
   "metadata": {},
   "source": [
    "precisions, recalls, thresholds = precision_recall_curve(y1, y1_pred)\n",
    "plt.plot(thresholds, precisions[:-1], \"b--\", label=\"Precision\", linewidth=2)\n",
    "plt.plot(thresholds, recalls[:-1], \"g-\", label=\"Recall\", linewidth=2)\n",
    "plt.vlines(threshold, 0, 1.0, \"k\", \"dotted\", label=\"threshold\")\n",
    "\n",
    "idx = (thresholds >= threshold).argmax()  # first index ≥ threshold\n",
    "plt.plot(thresholds[idx], precisions[idx], \"bo\")\n",
    "plt.plot(thresholds[idx], recalls[idx], \"go\")\n",
    "plt.axis([-50000, 50000, 0, 1])\n",
    "plt.grid()\n",
    "plt.xlabel(\"Threshold\")\n",
    "plt.legend(loc=\"center right\")\n",
    "plt.show()"
   ]
  },
  {
   "cell_type": "markdown",
   "id": "471ab1b3",
   "metadata": {
    "papermill": {
     "duration": 0.030552,
     "end_time": "2023-02-22T17:06:58.482489",
     "exception": false,
     "start_time": "2023-02-22T17:06:58.451937",
     "status": "completed"
    },
    "tags": []
   },
   "source": [
    "# Part 2: Mobile Device Data\n",
    "\n",
    "In Part 2, you will be working with a synthetic dataset containing information about several mobile devices. Your goal is to build a model to predict which of four price groups a mobile device falls into based on its characteristics. You can find more information about the dataset, including a description of the features here: [Kaggle: Mobile Price Classification](https://www.kaggle.com/datasets/iabhishekofficial/mobile-price-classification) "
   ]
  },
  {
   "cell_type": "markdown",
   "id": "3b2a41b1",
   "metadata": {
    "papermill": {
     "duration": 0.021082,
     "end_time": "2023-02-22T17:06:58.534548",
     "exception": false,
     "start_time": "2023-02-22T17:06:58.513466",
     "status": "completed"
    },
    "tags": []
   },
   "source": [
    "Use the cell below to load the dataset `mobile.csv` into a DataFrame. Shuffle the DataFrame (setting random_state=1), print its shape, and then display the head of the DataFrame."
   ]
  },
  {
   "cell_type": "code",
   "execution_count": 15,
   "id": "e9056365",
   "metadata": {
    "execution": {
     "iopub.execute_input": "2023-02-22T17:06:58.560788Z",
     "iopub.status.busy": "2023-02-22T17:06:58.560361Z",
     "iopub.status.idle": "2023-02-22T17:06:58.601249Z",
     "shell.execute_reply": "2023-02-22T17:06:58.599648Z"
    },
    "papermill": {
     "duration": 0.05694,
     "end_time": "2023-02-22T17:06:58.603651",
     "exception": false,
     "start_time": "2023-02-22T17:06:58.546711",
     "status": "completed"
    },
    "tags": []
   },
   "outputs": [
    {
     "name": "stdout",
     "output_type": "stream",
     "text": [
      "(2000, 21)\n"
     ]
    },
    {
     "data": {
      "text/html": [
       "<div>\n",
       "<style scoped>\n",
       "    .dataframe tbody tr th:only-of-type {\n",
       "        vertical-align: middle;\n",
       "    }\n",
       "\n",
       "    .dataframe tbody tr th {\n",
       "        vertical-align: top;\n",
       "    }\n",
       "\n",
       "    .dataframe thead th {\n",
       "        text-align: right;\n",
       "    }\n",
       "</style>\n",
       "<table border=\"1\" class=\"dataframe\">\n",
       "  <thead>\n",
       "    <tr style=\"text-align: right;\">\n",
       "      <th></th>\n",
       "      <th>battery_power</th>\n",
       "      <th>blue</th>\n",
       "      <th>clock_speed</th>\n",
       "      <th>dual_sim</th>\n",
       "      <th>fc</th>\n",
       "      <th>four_g</th>\n",
       "      <th>int_memory</th>\n",
       "      <th>m_dep</th>\n",
       "      <th>mobile_wt</th>\n",
       "      <th>n_cores</th>\n",
       "      <th>...</th>\n",
       "      <th>px_height</th>\n",
       "      <th>px_width</th>\n",
       "      <th>ram</th>\n",
       "      <th>sc_h</th>\n",
       "      <th>sc_w</th>\n",
       "      <th>talk_time</th>\n",
       "      <th>three_g</th>\n",
       "      <th>touch_screen</th>\n",
       "      <th>wifi</th>\n",
       "      <th>price_group</th>\n",
       "    </tr>\n",
       "  </thead>\n",
       "  <tbody>\n",
       "    <tr>\n",
       "      <th>674</th>\n",
       "      <td>1034</td>\n",
       "      <td>0</td>\n",
       "      <td>2.6</td>\n",
       "      <td>1</td>\n",
       "      <td>2</td>\n",
       "      <td>1</td>\n",
       "      <td>45</td>\n",
       "      <td>0.3</td>\n",
       "      <td>190</td>\n",
       "      <td>3</td>\n",
       "      <td>...</td>\n",
       "      <td>182</td>\n",
       "      <td>1293</td>\n",
       "      <td>969</td>\n",
       "      <td>15</td>\n",
       "      <td>1</td>\n",
       "      <td>7</td>\n",
       "      <td>1</td>\n",
       "      <td>0</td>\n",
       "      <td>0</td>\n",
       "      <td>Group 0</td>\n",
       "    </tr>\n",
       "    <tr>\n",
       "      <th>1699</th>\n",
       "      <td>1002</td>\n",
       "      <td>1</td>\n",
       "      <td>1.8</td>\n",
       "      <td>0</td>\n",
       "      <td>1</td>\n",
       "      <td>0</td>\n",
       "      <td>45</td>\n",
       "      <td>0.7</td>\n",
       "      <td>180</td>\n",
       "      <td>7</td>\n",
       "      <td>...</td>\n",
       "      <td>948</td>\n",
       "      <td>1007</td>\n",
       "      <td>1234</td>\n",
       "      <td>19</td>\n",
       "      <td>13</td>\n",
       "      <td>18</td>\n",
       "      <td>1</td>\n",
       "      <td>1</td>\n",
       "      <td>0</td>\n",
       "      <td>Group 0</td>\n",
       "    </tr>\n",
       "    <tr>\n",
       "      <th>1282</th>\n",
       "      <td>609</td>\n",
       "      <td>1</td>\n",
       "      <td>0.5</td>\n",
       "      <td>0</td>\n",
       "      <td>4</td>\n",
       "      <td>1</td>\n",
       "      <td>10</td>\n",
       "      <td>0.1</td>\n",
       "      <td>81</td>\n",
       "      <td>6</td>\n",
       "      <td>...</td>\n",
       "      <td>113</td>\n",
       "      <td>1524</td>\n",
       "      <td>1905</td>\n",
       "      <td>16</td>\n",
       "      <td>3</td>\n",
       "      <td>18</td>\n",
       "      <td>1</td>\n",
       "      <td>1</td>\n",
       "      <td>1</td>\n",
       "      <td>Group 1</td>\n",
       "    </tr>\n",
       "    <tr>\n",
       "      <th>1315</th>\n",
       "      <td>1510</td>\n",
       "      <td>0</td>\n",
       "      <td>0.6</td>\n",
       "      <td>1</td>\n",
       "      <td>1</td>\n",
       "      <td>0</td>\n",
       "      <td>32</td>\n",
       "      <td>0.7</td>\n",
       "      <td>135</td>\n",
       "      <td>3</td>\n",
       "      <td>...</td>\n",
       "      <td>963</td>\n",
       "      <td>1520</td>\n",
       "      <td>854</td>\n",
       "      <td>8</td>\n",
       "      <td>2</td>\n",
       "      <td>10</td>\n",
       "      <td>1</td>\n",
       "      <td>0</td>\n",
       "      <td>1</td>\n",
       "      <td>Group 1</td>\n",
       "    </tr>\n",
       "    <tr>\n",
       "      <th>1210</th>\n",
       "      <td>805</td>\n",
       "      <td>1</td>\n",
       "      <td>1.7</td>\n",
       "      <td>1</td>\n",
       "      <td>0</td>\n",
       "      <td>1</td>\n",
       "      <td>58</td>\n",
       "      <td>0.9</td>\n",
       "      <td>168</td>\n",
       "      <td>3</td>\n",
       "      <td>...</td>\n",
       "      <td>81</td>\n",
       "      <td>1544</td>\n",
       "      <td>3397</td>\n",
       "      <td>7</td>\n",
       "      <td>6</td>\n",
       "      <td>2</td>\n",
       "      <td>1</td>\n",
       "      <td>0</td>\n",
       "      <td>0</td>\n",
       "      <td>Group 2</td>\n",
       "    </tr>\n",
       "  </tbody>\n",
       "</table>\n",
       "<p>5 rows × 21 columns</p>\n",
       "</div>"
      ],
      "text/plain": [
       "      battery_power  blue  clock_speed  dual_sim  fc  four_g  int_memory  \\\n",
       "674            1034     0          2.6         1   2       1          45   \n",
       "1699           1002     1          1.8         0   1       0          45   \n",
       "1282            609     1          0.5         0   4       1          10   \n",
       "1315           1510     0          0.6         1   1       0          32   \n",
       "1210            805     1          1.7         1   0       1          58   \n",
       "\n",
       "      m_dep  mobile_wt  n_cores  ...  px_height  px_width   ram  sc_h  sc_w  \\\n",
       "674     0.3        190        3  ...        182      1293   969    15     1   \n",
       "1699    0.7        180        7  ...        948      1007  1234    19    13   \n",
       "1282    0.1         81        6  ...        113      1524  1905    16     3   \n",
       "1315    0.7        135        3  ...        963      1520   854     8     2   \n",
       "1210    0.9        168        3  ...         81      1544  3397     7     6   \n",
       "\n",
       "      talk_time  three_g  touch_screen  wifi  price_group  \n",
       "674           7        1             0     0      Group 0  \n",
       "1699         18        1             1     0      Group 0  \n",
       "1282         18        1             1     1      Group 1  \n",
       "1315         10        1             0     1      Group 1  \n",
       "1210          2        1             0     0      Group 2  \n",
       "\n",
       "[5 rows x 21 columns]"
      ]
     },
     "execution_count": 15,
     "metadata": {},
     "output_type": "execute_result"
    }
   ],
   "source": [
    "mobile = pd.read_csv('mobile.csv')\n",
    "mobile = mobile.sample(frac=1, random_state=1)\n",
    "print(mobile.shape)\n",
    "mobile.head()"
   ]
  },
  {
   "cell_type": "markdown",
   "id": "14772f50",
   "metadata": {
    "papermill": {
     "duration": 0.01193,
     "end_time": "2023-02-22T17:06:58.627958",
     "exception": false,
     "start_time": "2023-02-22T17:06:58.616028",
     "status": "completed"
    },
    "tags": []
   },
   "source": [
    "Use the cell below to print the names of the columns of the DataFrame."
   ]
  },
  {
   "cell_type": "code",
   "execution_count": 16,
   "id": "f18cb152",
   "metadata": {
    "execution": {
     "iopub.execute_input": "2023-02-22T17:06:58.654407Z",
     "iopub.status.busy": "2023-02-22T17:06:58.653927Z",
     "iopub.status.idle": "2023-02-22T17:06:58.660818Z",
     "shell.execute_reply": "2023-02-22T17:06:58.659421Z"
    },
    "papermill": {
     "duration": 0.023801,
     "end_time": "2023-02-22T17:06:58.664013",
     "exception": false,
     "start_time": "2023-02-22T17:06:58.640212",
     "status": "completed"
    },
    "tags": []
   },
   "outputs": [
    {
     "data": {
      "text/plain": [
       "array(['battery_power', 'blue', 'clock_speed', 'dual_sim', 'fc', 'four_g',\n",
       "       'int_memory', 'm_dep', 'mobile_wt', 'n_cores', 'pc', 'px_height',\n",
       "       'px_width', 'ram', 'sc_h', 'sc_w', 'talk_time', 'three_g',\n",
       "       'touch_screen', 'wifi', 'price_group'], dtype=object)"
      ]
     },
     "execution_count": 16,
     "metadata": {},
     "output_type": "execute_result"
    }
   ],
   "source": [
    "mobile.columns.values"
   ]
  },
  {
   "cell_type": "markdown",
   "id": "5fba75b9",
   "metadata": {
    "papermill": {
     "duration": 0.012085,
     "end_time": "2023-02-22T17:06:58.689773",
     "exception": false,
     "start_time": "2023-02-22T17:06:58.677688",
     "status": "completed"
    },
    "tags": []
   },
   "source": [
    "The `price_group` column will represent our label. All other columns represent numerical features.\n",
    "\n",
    "Use the value_counts method to display a DataFrame showing the proportions of observations with each class. Note: There is an example of this is Lesson 02."
   ]
  },
  {
   "cell_type": "code",
   "execution_count": 17,
   "id": "3eb37e81",
   "metadata": {
    "execution": {
     "iopub.execute_input": "2023-02-22T17:06:58.716396Z",
     "iopub.status.busy": "2023-02-22T17:06:58.715933Z",
     "iopub.status.idle": "2023-02-22T17:06:58.728564Z",
     "shell.execute_reply": "2023-02-22T17:06:58.727330Z"
    },
    "papermill": {
     "duration": 0.028703,
     "end_time": "2023-02-22T17:06:58.730851",
     "exception": false,
     "start_time": "2023-02-22T17:06:58.702148",
     "status": "completed"
    },
    "tags": []
   },
   "outputs": [
    {
     "data": {
      "text/html": [
       "<div>\n",
       "<style scoped>\n",
       "    .dataframe tbody tr th:only-of-type {\n",
       "        vertical-align: middle;\n",
       "    }\n",
       "\n",
       "    .dataframe tbody tr th {\n",
       "        vertical-align: top;\n",
       "    }\n",
       "\n",
       "    .dataframe thead th {\n",
       "        text-align: right;\n",
       "    }\n",
       "</style>\n",
       "<table border=\"1\" class=\"dataframe\">\n",
       "  <thead>\n",
       "    <tr style=\"text-align: right;\">\n",
       "      <th></th>\n",
       "      <th>price_group</th>\n",
       "    </tr>\n",
       "  </thead>\n",
       "  <tbody>\n",
       "    <tr>\n",
       "      <th>Group 0</th>\n",
       "      <td>0.25</td>\n",
       "    </tr>\n",
       "    <tr>\n",
       "      <th>Group 1</th>\n",
       "      <td>0.25</td>\n",
       "    </tr>\n",
       "    <tr>\n",
       "      <th>Group 2</th>\n",
       "      <td>0.25</td>\n",
       "    </tr>\n",
       "    <tr>\n",
       "      <th>Group 3</th>\n",
       "      <td>0.25</td>\n",
       "    </tr>\n",
       "  </tbody>\n",
       "</table>\n",
       "</div>"
      ],
      "text/plain": [
       "         price_group\n",
       "Group 0         0.25\n",
       "Group 1         0.25\n",
       "Group 2         0.25\n",
       "Group 3         0.25"
      ]
     },
     "execution_count": 17,
     "metadata": {},
     "output_type": "execute_result"
    }
   ],
   "source": [
    "mobile.price_group.value_counts(normalize=True).to_frame()"
   ]
  },
  {
   "cell_type": "markdown",
   "id": "29132b59",
   "metadata": {
    "papermill": {
     "duration": 0.012811,
     "end_time": "2023-02-22T17:06:58.756339",
     "exception": false,
     "start_time": "2023-02-22T17:06:58.743528",
     "status": "completed"
    },
    "tags": []
   },
   "source": [
    "Create a feature array and a label array. Name these `X2` and `y2`, or something similar."
   ]
  },
  {
   "cell_type": "code",
   "execution_count": 18,
   "id": "02f6b975",
   "metadata": {
    "execution": {
     "iopub.execute_input": "2023-02-22T17:06:58.783292Z",
     "iopub.status.busy": "2023-02-22T17:06:58.782886Z",
     "iopub.status.idle": "2023-02-22T17:06:58.790761Z",
     "shell.execute_reply": "2023-02-22T17:06:58.789213Z"
    },
    "papermill": {
     "duration": 0.024634,
     "end_time": "2023-02-22T17:06:58.793443",
     "exception": false,
     "start_time": "2023-02-22T17:06:58.768809",
     "status": "completed"
    },
    "tags": []
   },
   "outputs": [],
   "source": [
    "features2 = ['battery_power', 'blue', 'clock_speed', 'dual_sim', 'fc', 'four_g',\n",
    "             'int_memory', 'm_dep', 'mobile_wt', 'n_cores', 'pc', 'px_height',\n",
    "             'px_width', 'ram', 'sc_h', 'sc_w', 'talk_time', 'three_g',\n",
    "             'touch_screen', 'wifi']\n",
    "\n",
    "X2 = mobile[features2]\n",
    "y2 = mobile.price_group"
   ]
  },
  {
   "cell_type": "markdown",
   "id": "18d7068b",
   "metadata": {
    "papermill": {
     "duration": 0.01251,
     "end_time": "2023-02-22T17:06:58.818809",
     "exception": false,
     "start_time": "2023-02-22T17:06:58.806299",
     "status": "completed"
    },
    "tags": []
   },
   "source": [
    "Create an instance of `StandardScaler` and use it to scale the feature array. Provide a different name for the scaled feature array."
   ]
  },
  {
   "cell_type": "code",
   "execution_count": 19,
   "id": "27ecf3c4",
   "metadata": {
    "execution": {
     "iopub.execute_input": "2023-02-22T17:06:58.845776Z",
     "iopub.status.busy": "2023-02-22T17:06:58.845355Z",
     "iopub.status.idle": "2023-02-22T17:06:58.851451Z",
     "shell.execute_reply": "2023-02-22T17:06:58.850537Z"
    },
    "papermill": {
     "duration": 0.022062,
     "end_time": "2023-02-22T17:06:58.853629",
     "exception": false,
     "start_time": "2023-02-22T17:06:58.831567",
     "status": "completed"
    },
    "tags": []
   },
   "outputs": [],
   "source": [
    "scaler2 = StandardScaler()\n",
    "\n",
    "X2_scaled = scaler2.fit_transform(X2)"
   ]
  },
  {
   "cell_type": "markdown",
   "id": "5aaf03d9",
   "metadata": {
    "papermill": {
     "duration": 0.012178,
     "end_time": "2023-02-22T17:06:58.878270",
     "exception": false,
     "start_time": "2023-02-22T17:06:58.866092",
     "status": "completed"
    },
    "tags": []
   },
   "source": [
    "Perform the following steps in the cell below: (1) Create an instance of `LogisticRegression`, (2) train it on dataset (using the scaled features), (3) print the model's training accuracy.\n",
    "\n",
    "Note: If you receive a warning about convergence, increase the max_iter parameter until the warning goes away."
   ]
  },
  {
   "cell_type": "code",
   "execution_count": 20,
   "id": "5dbb3d54",
   "metadata": {
    "execution": {
     "iopub.execute_input": "2023-02-22T17:06:58.905152Z",
     "iopub.status.busy": "2023-02-22T17:06:58.904775Z",
     "iopub.status.idle": "2023-02-22T17:07:00.962957Z",
     "shell.execute_reply": "2023-02-22T17:07:00.961554Z"
    },
    "papermill": {
     "duration": 2.075895,
     "end_time": "2023-02-22T17:07:00.966809",
     "exception": false,
     "start_time": "2023-02-22T17:06:58.890914",
     "status": "completed"
    },
    "tags": []
   },
   "outputs": [
    {
     "name": "stdout",
     "output_type": "stream",
     "text": [
      "Training Accuracy: 0.99\n"
     ]
    }
   ],
   "source": [
    "logReg2 = LogisticRegression(penalty=None, max_iter=20000)\n",
    "\n",
    "logReg2.fit(X2_scaled, y2)\n",
    "print(f\"Training Accuracy: {logReg2.score(X2_scaled, y2)}\")"
   ]
  },
  {
   "cell_type": "markdown",
   "id": "8e4c1ac5",
   "metadata": {
    "papermill": {
     "duration": 0.012371,
     "end_time": "2023-02-22T17:07:00.992481",
     "exception": false,
     "start_time": "2023-02-22T17:07:00.980110",
     "status": "completed"
    },
    "tags": []
   },
   "source": [
    "Use `cross_val_score` to perform 10-fold cross validation to estimate the model's accuracy on out-of-sample observations. Print the CV score. You don't need print the scores for the different folds. If you receive convergence warnings, you might need to further increase `max_iter` from the previous cell. "
   ]
  },
  {
   "cell_type": "code",
   "execution_count": 21,
   "id": "4afe58a1",
   "metadata": {
    "execution": {
     "iopub.execute_input": "2023-02-22T17:07:01.020073Z",
     "iopub.status.busy": "2023-02-22T17:07:01.019670Z",
     "iopub.status.idle": "2023-02-22T17:07:25.432347Z",
     "shell.execute_reply": "2023-02-22T17:07:25.430547Z"
    },
    "papermill": {
     "duration": 24.429886,
     "end_time": "2023-02-22T17:07:25.435341",
     "exception": false,
     "start_time": "2023-02-22T17:07:01.005455",
     "status": "completed"
    },
    "tags": []
   },
   "outputs": [
    {
     "name": "stdout",
     "output_type": "stream",
     "text": [
      "Cross Validation Score: 0.966\n"
     ]
    }
   ],
   "source": [
    "print(f\"Cross Validation Score: {cross_val_score(logReg2, X2_scaled, y2, scoring='accuracy', cv=10).mean()}\")"
   ]
  },
  {
   "cell_type": "markdown",
   "id": "d8783de3",
   "metadata": {
    "papermill": {
     "duration": 0.01235,
     "end_time": "2023-02-22T17:07:25.460654",
     "exception": false,
     "start_time": "2023-02-22T17:07:25.448304",
     "status": "completed"
    },
    "tags": []
   },
   "source": [
    "Use `cross_val_predict` to generate out-of-sample class predictions for the dataset, using 10-fold CV. Using the same cell, then use the out-of-sample class predictions to create a confusion matrix. Display the confusion matrix as a DataFrame, with rows and columns named 0, 1, 2, and 3. "
   ]
  },
  {
   "cell_type": "code",
   "execution_count": 22,
   "id": "a9b51f07",
   "metadata": {
    "execution": {
     "iopub.execute_input": "2023-02-22T17:07:25.488412Z",
     "iopub.status.busy": "2023-02-22T17:07:25.487966Z",
     "iopub.status.idle": "2023-02-22T17:07:48.147356Z",
     "shell.execute_reply": "2023-02-22T17:07:48.145767Z"
    },
    "papermill": {
     "duration": 22.676973,
     "end_time": "2023-02-22T17:07:48.150319",
     "exception": false,
     "start_time": "2023-02-22T17:07:25.473346",
     "status": "completed"
    },
    "tags": []
   },
   "outputs": [
    {
     "data": {
      "text/html": [
       "<div>\n",
       "<style scoped>\n",
       "    .dataframe tbody tr th:only-of-type {\n",
       "        vertical-align: middle;\n",
       "    }\n",
       "\n",
       "    .dataframe tbody tr th {\n",
       "        vertical-align: top;\n",
       "    }\n",
       "\n",
       "    .dataframe thead th {\n",
       "        text-align: right;\n",
       "    }\n",
       "</style>\n",
       "<table border=\"1\" class=\"dataframe\">\n",
       "  <thead>\n",
       "    <tr style=\"text-align: right;\">\n",
       "      <th></th>\n",
       "      <th>0</th>\n",
       "      <th>1</th>\n",
       "      <th>2</th>\n",
       "      <th>3</th>\n",
       "    </tr>\n",
       "  </thead>\n",
       "  <tbody>\n",
       "    <tr>\n",
       "      <th>0</th>\n",
       "      <td>489</td>\n",
       "      <td>11</td>\n",
       "      <td>0</td>\n",
       "      <td>0</td>\n",
       "    </tr>\n",
       "    <tr>\n",
       "      <th>1</th>\n",
       "      <td>12</td>\n",
       "      <td>479</td>\n",
       "      <td>9</td>\n",
       "      <td>0</td>\n",
       "    </tr>\n",
       "    <tr>\n",
       "      <th>2</th>\n",
       "      <td>0</td>\n",
       "      <td>12</td>\n",
       "      <td>477</td>\n",
       "      <td>11</td>\n",
       "    </tr>\n",
       "    <tr>\n",
       "      <th>3</th>\n",
       "      <td>0</td>\n",
       "      <td>0</td>\n",
       "      <td>13</td>\n",
       "      <td>487</td>\n",
       "    </tr>\n",
       "  </tbody>\n",
       "</table>\n",
       "</div>"
      ],
      "text/plain": [
       "     0    1    2    3\n",
       "0  489   11    0    0\n",
       "1   12  479    9    0\n",
       "2    0   12  477   11\n",
       "3    0    0   13  487"
      ]
     },
     "execution_count": 22,
     "metadata": {},
     "output_type": "execute_result"
    }
   ],
   "source": [
    "cv_predict2 = cross_val_predict(logReg2, X2_scaled, y2, cv=10)\n",
    "\n",
    "cm2 = confusion_matrix(y2, cv_predict2)\n",
    "pd.DataFrame(cm2, index=[0,1,2,3], columns=[0,1,2,3])"
   ]
  },
  {
   "cell_type": "markdown",
   "id": "f049b7a2",
   "metadata": {
    "papermill": {
     "duration": 0.012709,
     "end_time": "2023-02-22T17:07:48.176214",
     "exception": false,
     "start_time": "2023-02-22T17:07:48.163505",
     "status": "completed"
    },
    "tags": []
   },
   "source": [
    "Use the out-of-sample class predictions to display a classification report."
   ]
  },
  {
   "cell_type": "code",
   "execution_count": 23,
   "id": "d0d5f451",
   "metadata": {
    "execution": {
     "iopub.execute_input": "2023-02-22T17:07:48.204041Z",
     "iopub.status.busy": "2023-02-22T17:07:48.203633Z",
     "iopub.status.idle": "2023-02-22T17:07:48.262663Z",
     "shell.execute_reply": "2023-02-22T17:07:48.261034Z"
    },
    "papermill": {
     "duration": 0.07617,
     "end_time": "2023-02-22T17:07:48.265384",
     "exception": false,
     "start_time": "2023-02-22T17:07:48.189214",
     "status": "completed"
    },
    "tags": []
   },
   "outputs": [
    {
     "name": "stdout",
     "output_type": "stream",
     "text": [
      "              precision    recall  f1-score   support\n",
      "\n",
      "     Group 0       0.98      0.98      0.98       500\n",
      "     Group 1       0.95      0.96      0.96       500\n",
      "     Group 2       0.96      0.95      0.95       500\n",
      "     Group 3       0.98      0.97      0.98       500\n",
      "\n",
      "    accuracy                           0.97      2000\n",
      "   macro avg       0.97      0.97      0.97      2000\n",
      "weighted avg       0.97      0.97      0.97      2000\n",
      "\n"
     ]
    }
   ],
   "source": [
    "print(classification_report(y2, cv_predict2))"
   ]
  }
 ],
 "metadata": {
  "kernelspec": {
   "display_name": "Python 3 (ipykernel)",
   "language": "python",
   "name": "python3"
  },
  "language_info": {
   "codemirror_mode": {
    "name": "ipython",
    "version": 3
   },
   "file_extension": ".py",
   "mimetype": "text/x-python",
   "name": "python",
   "nbconvert_exporter": "python",
   "pygments_lexer": "ipython3",
   "version": "3.10.9"
  },
  "papermill": {
   "default_parameters": {},
   "duration": 135.400913,
   "end_time": "2023-02-22T17:08:57.929386",
   "environment_variables": {},
   "exception": null,
   "input_path": "__notebook__.ipynb",
   "output_path": "__notebook__.ipynb",
   "parameters": {},
   "start_time": "2023-02-22T17:06:42.528473",
   "version": "2.3.4"
  }
 },
 "nbformat": 4,
 "nbformat_minor": 5
}
