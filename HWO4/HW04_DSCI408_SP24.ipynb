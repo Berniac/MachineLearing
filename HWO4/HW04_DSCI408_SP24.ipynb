{
 "cells": [
  {
   "cell_type": "markdown",
   "id": "1f7c6604",
   "metadata": {
    "papermill": {
     "duration": 0.011706,
     "end_time": "2023-03-24T21:39:54.508464",
     "exception": false,
     "start_time": "2023-03-24T21:39:54.496758",
     "status": "completed"
    },
    "tags": []
   },
   "source": [
    "# Homework 04\n",
    "\n",
    "**Bernard Mwamburi**"
   ]
  },
  {
   "cell_type": "markdown",
   "id": "e167aa7f",
   "metadata": {
    "papermill": {
     "duration": 0.010518,
     "end_time": "2023-03-24T21:39:54.529615",
     "exception": false,
     "start_time": "2023-03-24T21:39:54.519097",
     "status": "completed"
    },
    "tags": []
   },
   "source": [
    "# Preparing the Environment\n",
    "\n",
    "Use the cell below to import NumPy, Pandas, and the Pyplot library of Matplotlib, using the standard aliases. \n",
    "\n",
    "Also import the following tools from Scikit-Learn: `LogisticRegresion`, `DecisionTreeClassifier`, `RandomForestClassifier`, `KNeighborsClassifier`, `GridSearchCV`, `cross_val_score`, `cross_val_predict`, `classification_report`, and `confusion_matrix`."
   ]
  },
  {
   "cell_type": "code",
   "execution_count": 1,
   "id": "ac803748",
   "metadata": {
    "_cell_guid": "b1076dfc-b9ad-4769-8c92-a6c4dae69d19",
    "_uuid": "8f2839f25d086af736a60e9eeb907d3b93b6e0e5",
    "execution": {
     "iopub.execute_input": "2023-03-24T21:39:54.552820Z",
     "iopub.status.busy": "2023-03-24T21:39:54.552417Z",
     "iopub.status.idle": "2023-03-24T21:39:56.637630Z",
     "shell.execute_reply": "2023-03-24T21:39:56.636033Z"
    },
    "papermill": {
     "duration": 2.101843,
     "end_time": "2023-03-24T21:39:56.641774",
     "exception": false,
     "start_time": "2023-03-24T21:39:54.539931",
     "status": "completed"
    },
    "tags": []
   },
   "outputs": [],
   "source": [
    "import numpy as np\n",
    "import pandas as pd\n",
    "import matplotlib.pyplot as plt\n",
    "\n",
    "from sklearn.linear_model import LogisticRegression\n",
    "from sklearn.tree import DecisionTreeClassifier\n",
    "from sklearn.ensemble import RandomForestClassifier\n",
    "from sklearn.neighbors import KNeighborsClassifier\n",
    "\n",
    "from sklearn.model_selection import cross_val_score, cross_val_predict\n",
    "from sklearn.model_selection import GridSearchCV\n",
    "from sklearn.metrics import classification_report, confusion_matrix"
   ]
  },
  {
   "cell_type": "markdown",
   "id": "29f50238",
   "metadata": {
    "papermill": {
     "duration": 0.011954,
     "end_time": "2023-03-24T21:39:56.664313",
     "exception": false,
     "start_time": "2023-03-24T21:39:56.652359",
     "status": "completed"
    },
    "tags": []
   },
   "source": [
    "Run the cell below to suppress scientific notation for NumPy arrays. "
   ]
  },
  {
   "cell_type": "code",
   "execution_count": 2,
   "id": "11db6fa0",
   "metadata": {
    "execution": {
     "iopub.execute_input": "2023-03-24T21:39:56.690153Z",
     "iopub.status.busy": "2023-03-24T21:39:56.689478Z",
     "iopub.status.idle": "2023-03-24T21:39:56.695491Z",
     "shell.execute_reply": "2023-03-24T21:39:56.694073Z"
    },
    "papermill": {
     "duration": 0.021765,
     "end_time": "2023-03-24T21:39:56.698294",
     "exception": false,
     "start_time": "2023-03-24T21:39:56.676529",
     "status": "completed"
    },
    "tags": []
   },
   "outputs": [],
   "source": [
    "np.set_printoptions(suppress=True)"
   ]
  },
  {
   "cell_type": "markdown",
   "id": "31b45b95",
   "metadata": {
    "papermill": {
     "duration": 0.01096,
     "end_time": "2023-03-24T21:39:56.720786",
     "exception": false,
     "start_time": "2023-03-24T21:39:56.709826",
     "status": "completed"
    },
    "tags": []
   },
   "source": [
    "# Part 1: Load and Explore Data\n",
    "\n",
    "In this assignment, you will be working with the MNIST dataset. This dataset consists of several thousand black-and-white images of handwritten digits from 0 - 9. Your goal will be to create a model capable of identifying the digit displayed in an image based on the values of pixels within the image. \n",
    "\n",
    "You can learn more about this dataset here: https://www.kaggle.com/c/digit-recognizer\n",
    "\n",
    "The images in the dataset are 28x28 black-and-white images. As such, each image contains 784 pixel values. These pixel values are represented as integers ranging from 0 to 255. Rather than working with image files, you will be provided with CSV files that contain the pixel values. Each row in the CSV files will contain the pixel values for a single image. \n",
    "\n",
    "**1A.** Use the cell below to load the dataset `digit-recognizer/train.csv` into a DataFrame. Shuffle the DataFrame (setting `random_state=1`), print its shape, and then display the head of the DataFrame. "
   ]
  },
  {
   "cell_type": "code",
   "execution_count": 3,
   "id": "8204f0cb",
   "metadata": {
    "execution": {
     "iopub.execute_input": "2023-03-24T21:39:56.746426Z",
     "iopub.status.busy": "2023-03-24T21:39:56.745999Z",
     "iopub.status.idle": "2023-03-24T21:40:01.463169Z",
     "shell.execute_reply": "2023-03-24T21:40:01.461458Z"
    },
    "papermill": {
     "duration": 4.734415,
     "end_time": "2023-03-24T21:40:01.467628",
     "exception": false,
     "start_time": "2023-03-24T21:39:56.733213",
     "status": "completed"
    },
    "tags": []
   },
   "outputs": [
    {
     "name": "stdout",
     "output_type": "stream",
     "text": [
      "(42000, 785)\n"
     ]
    },
    {
     "data": {
      "text/html": [
       "<div>\n",
       "<style scoped>\n",
       "    .dataframe tbody tr th:only-of-type {\n",
       "        vertical-align: middle;\n",
       "    }\n",
       "\n",
       "    .dataframe tbody tr th {\n",
       "        vertical-align: top;\n",
       "    }\n",
       "\n",
       "    .dataframe thead th {\n",
       "        text-align: right;\n",
       "    }\n",
       "</style>\n",
       "<table border=\"1\" class=\"dataframe\">\n",
       "  <thead>\n",
       "    <tr style=\"text-align: right;\">\n",
       "      <th></th>\n",
       "      <th>label</th>\n",
       "      <th>pixel0</th>\n",
       "      <th>pixel1</th>\n",
       "      <th>pixel2</th>\n",
       "      <th>pixel3</th>\n",
       "      <th>pixel4</th>\n",
       "      <th>pixel5</th>\n",
       "      <th>pixel6</th>\n",
       "      <th>pixel7</th>\n",
       "      <th>pixel8</th>\n",
       "      <th>...</th>\n",
       "      <th>pixel774</th>\n",
       "      <th>pixel775</th>\n",
       "      <th>pixel776</th>\n",
       "      <th>pixel777</th>\n",
       "      <th>pixel778</th>\n",
       "      <th>pixel779</th>\n",
       "      <th>pixel780</th>\n",
       "      <th>pixel781</th>\n",
       "      <th>pixel782</th>\n",
       "      <th>pixel783</th>\n",
       "    </tr>\n",
       "  </thead>\n",
       "  <tbody>\n",
       "    <tr>\n",
       "      <th>29633</th>\n",
       "      <td>1</td>\n",
       "      <td>0</td>\n",
       "      <td>0</td>\n",
       "      <td>0</td>\n",
       "      <td>0</td>\n",
       "      <td>0</td>\n",
       "      <td>0</td>\n",
       "      <td>0</td>\n",
       "      <td>0</td>\n",
       "      <td>0</td>\n",
       "      <td>...</td>\n",
       "      <td>0</td>\n",
       "      <td>0</td>\n",
       "      <td>0</td>\n",
       "      <td>0</td>\n",
       "      <td>0</td>\n",
       "      <td>0</td>\n",
       "      <td>0</td>\n",
       "      <td>0</td>\n",
       "      <td>0</td>\n",
       "      <td>0</td>\n",
       "    </tr>\n",
       "    <tr>\n",
       "      <th>345</th>\n",
       "      <td>5</td>\n",
       "      <td>0</td>\n",
       "      <td>0</td>\n",
       "      <td>0</td>\n",
       "      <td>0</td>\n",
       "      <td>0</td>\n",
       "      <td>0</td>\n",
       "      <td>0</td>\n",
       "      <td>0</td>\n",
       "      <td>0</td>\n",
       "      <td>...</td>\n",
       "      <td>0</td>\n",
       "      <td>0</td>\n",
       "      <td>0</td>\n",
       "      <td>0</td>\n",
       "      <td>0</td>\n",
       "      <td>0</td>\n",
       "      <td>0</td>\n",
       "      <td>0</td>\n",
       "      <td>0</td>\n",
       "      <td>0</td>\n",
       "    </tr>\n",
       "    <tr>\n",
       "      <th>36369</th>\n",
       "      <td>2</td>\n",
       "      <td>0</td>\n",
       "      <td>0</td>\n",
       "      <td>0</td>\n",
       "      <td>0</td>\n",
       "      <td>0</td>\n",
       "      <td>0</td>\n",
       "      <td>0</td>\n",
       "      <td>0</td>\n",
       "      <td>0</td>\n",
       "      <td>...</td>\n",
       "      <td>0</td>\n",
       "      <td>0</td>\n",
       "      <td>0</td>\n",
       "      <td>0</td>\n",
       "      <td>0</td>\n",
       "      <td>0</td>\n",
       "      <td>0</td>\n",
       "      <td>0</td>\n",
       "      <td>0</td>\n",
       "      <td>0</td>\n",
       "    </tr>\n",
       "    <tr>\n",
       "      <th>16624</th>\n",
       "      <td>8</td>\n",
       "      <td>0</td>\n",
       "      <td>0</td>\n",
       "      <td>0</td>\n",
       "      <td>0</td>\n",
       "      <td>0</td>\n",
       "      <td>0</td>\n",
       "      <td>0</td>\n",
       "      <td>0</td>\n",
       "      <td>0</td>\n",
       "      <td>...</td>\n",
       "      <td>0</td>\n",
       "      <td>0</td>\n",
       "      <td>0</td>\n",
       "      <td>0</td>\n",
       "      <td>0</td>\n",
       "      <td>0</td>\n",
       "      <td>0</td>\n",
       "      <td>0</td>\n",
       "      <td>0</td>\n",
       "      <td>0</td>\n",
       "    </tr>\n",
       "    <tr>\n",
       "      <th>14389</th>\n",
       "      <td>4</td>\n",
       "      <td>0</td>\n",
       "      <td>0</td>\n",
       "      <td>0</td>\n",
       "      <td>0</td>\n",
       "      <td>0</td>\n",
       "      <td>0</td>\n",
       "      <td>0</td>\n",
       "      <td>0</td>\n",
       "      <td>0</td>\n",
       "      <td>...</td>\n",
       "      <td>0</td>\n",
       "      <td>0</td>\n",
       "      <td>0</td>\n",
       "      <td>0</td>\n",
       "      <td>0</td>\n",
       "      <td>0</td>\n",
       "      <td>0</td>\n",
       "      <td>0</td>\n",
       "      <td>0</td>\n",
       "      <td>0</td>\n",
       "    </tr>\n",
       "  </tbody>\n",
       "</table>\n",
       "<p>5 rows × 785 columns</p>\n",
       "</div>"
      ],
      "text/plain": [
       "       label  pixel0  pixel1  pixel2  pixel3  pixel4  pixel5  pixel6  pixel7  \\\n",
       "29633      1       0       0       0       0       0       0       0       0   \n",
       "345        5       0       0       0       0       0       0       0       0   \n",
       "36369      2       0       0       0       0       0       0       0       0   \n",
       "16624      8       0       0       0       0       0       0       0       0   \n",
       "14389      4       0       0       0       0       0       0       0       0   \n",
       "\n",
       "       pixel8  ...  pixel774  pixel775  pixel776  pixel777  pixel778  \\\n",
       "29633       0  ...         0         0         0         0         0   \n",
       "345         0  ...         0         0         0         0         0   \n",
       "36369       0  ...         0         0         0         0         0   \n",
       "16624       0  ...         0         0         0         0         0   \n",
       "14389       0  ...         0         0         0         0         0   \n",
       "\n",
       "       pixel779  pixel780  pixel781  pixel782  pixel783  \n",
       "29633         0         0         0         0         0  \n",
       "345           0         0         0         0         0  \n",
       "36369         0         0         0         0         0  \n",
       "16624         0         0         0         0         0  \n",
       "14389         0         0         0         0         0  \n",
       "\n",
       "[5 rows x 785 columns]"
      ]
     },
     "execution_count": 3,
     "metadata": {},
     "output_type": "execute_result"
    }
   ],
   "source": [
    "# 1A\n",
    "train = pd.read_csv('train.csv')\n",
    "train = train.sample(frac = 1, random_state=1)\n",
    "print(train.shape)\n",
    "train.head()"
   ]
  },
  {
   "cell_type": "markdown",
   "id": "9eb3b988",
   "metadata": {
    "papermill": {
     "duration": 0.012532,
     "end_time": "2023-03-24T21:40:01.493250",
     "exception": false,
     "start_time": "2023-03-24T21:40:01.480718",
     "status": "completed"
    },
    "tags": []
   },
   "source": [
    "This dataset is relatively large. For the sake of reducing runtime of this notebook, we will use only 10,000 observations when performing hyperparameter tuning and model selection. \n",
    "\n",
    "**1B**. Create a DataFrame named `df_sample` that contains 10,000 rows sampled at random from the DataFrame created in the previous cell. Set `random_state=1` when performing the sampling. Print the shape of the new DataFrame. "
   ]
  },
  {
   "cell_type": "code",
   "execution_count": 4,
   "id": "6e935837",
   "metadata": {
    "execution": {
     "iopub.execute_input": "2023-03-24T21:40:01.521699Z",
     "iopub.status.busy": "2023-03-24T21:40:01.519929Z",
     "iopub.status.idle": "2023-03-24T21:40:01.612358Z",
     "shell.execute_reply": "2023-03-24T21:40:01.610082Z"
    },
    "papermill": {
     "duration": 0.11205,
     "end_time": "2023-03-24T21:40:01.617582",
     "exception": false,
     "start_time": "2023-03-24T21:40:01.505532",
     "status": "completed"
    },
    "tags": []
   },
   "outputs": [
    {
     "name": "stdout",
     "output_type": "stream",
     "text": [
      "(10000, 785)\n"
     ]
    }
   ],
   "source": [
    "# 1B\n",
    "df_sample = train.sample(n=10000, random_state=1)\n",
    "print(df_sample.shape)"
   ]
  },
  {
   "cell_type": "markdown",
   "id": "2cf5a873",
   "metadata": {
    "papermill": {
     "duration": 0.011328,
     "end_time": "2023-03-24T21:40:01.640992",
     "exception": false,
     "start_time": "2023-03-24T21:40:01.629664",
     "status": "completed"
    },
    "tags": []
   },
   "source": [
    "**1C.** Create feature and label arrays named `X_sample` and `y_sample`. Use only the 10,000 observations from the sample. Print the shape of both arrays. "
   ]
  },
  {
   "cell_type": "code",
   "execution_count": 5,
   "id": "93c0c6a3",
   "metadata": {
    "execution": {
     "iopub.execute_input": "2023-03-24T21:40:01.669757Z",
     "iopub.status.busy": "2023-03-24T21:40:01.667913Z",
     "iopub.status.idle": "2023-03-24T21:40:01.684839Z",
     "shell.execute_reply": "2023-03-24T21:40:01.682625Z"
    },
    "papermill": {
     "duration": 0.036786,
     "end_time": "2023-03-24T21:40:01.690335",
     "exception": false,
     "start_time": "2023-03-24T21:40:01.653549",
     "status": "completed"
    },
    "tags": []
   },
   "outputs": [
    {
     "name": "stdout",
     "output_type": "stream",
     "text": [
      "\n",
      "Shape of feature array: (10000, 784)\n",
      "Shape of target array:  (10000,)\n",
      "\n"
     ]
    }
   ],
   "source": [
    "# 1C\n",
    "X_sample = df_sample.drop(columns = 'label', inplace=False).values\n",
    "y_sample = df_sample.label.values\n",
    "\n",
    "print(f\"\"\"\n",
    "Shape of feature array: {X_sample.shape}\n",
    "Shape of target array:  {y_sample.shape}\n",
    "\"\"\")"
   ]
  },
  {
   "cell_type": "markdown",
   "id": "4bf17da4",
   "metadata": {
    "papermill": {
     "duration": 0.013664,
     "end_time": "2023-03-24T21:40:01.715631",
     "exception": false,
     "start_time": "2023-03-24T21:40:01.701967",
     "status": "completed"
    },
    "tags": []
   },
   "source": [
    "**1D.** Run the code below as is. The code below creates a 2x4 grid of subplots displaying the first 8 digits in the sample, and also prints the labels for these observations. Note that the rows are reshaped into 28x28 arrays in order to be displayed as images. "
   ]
  },
  {
   "cell_type": "code",
   "execution_count": 6,
   "id": "650c513e",
   "metadata": {
    "execution": {
     "iopub.execute_input": "2023-03-24T21:40:01.742561Z",
     "iopub.status.busy": "2023-03-24T21:40:01.742121Z",
     "iopub.status.idle": "2023-03-24T21:40:02.108781Z",
     "shell.execute_reply": "2023-03-24T21:40:02.107403Z"
    },
    "papermill": {
     "duration": 0.383303,
     "end_time": "2023-03-24T21:40:02.111696",
     "exception": false,
     "start_time": "2023-03-24T21:40:01.728393",
     "status": "completed"
    },
    "tags": []
   },
   "outputs": [
    {
     "data": {
      "image/png": "[encoded data removed]",
      "text/plain": [
       "<Figure size 640x480 with 8 Axes>"
      ]
     },
     "metadata": {},
     "output_type": "display_data"
    },
    {
     "name": "stdout",
     "output_type": "stream",
     "text": [
      "[1 7 5 2 1 5 3 1]\n"
     ]
    }
   ],
   "source": [
    "# 1D\n",
    "for i in range(8):\n",
    "    plt.subplot(2,4,i+1)\n",
    "    digit = X_sample[i,:].reshape(28,28)\n",
    "    plt.imshow(digit, cmap='Greys')\n",
    "    plt.axis('off')\n",
    "plt.show()\n",
    "\n",
    "print(y_sample[:8])"
   ]
  },
  {
   "cell_type": "markdown",
   "id": "939a4228",
   "metadata": {
    "papermill": {
     "duration": 0.012115,
     "end_time": "2023-03-24T21:40:02.136605",
     "exception": false,
     "start_time": "2023-03-24T21:40:02.124490",
     "status": "completed"
    },
    "tags": []
   },
   "source": [
    "**1E.** Some of our algorithms will have better performance if we scale the pixel values. Since we know the pixel values all range from 0 to 255, we will simply divide the feature array by 255 to get a scaled feature array with values between 0 and 1. Perform this task in the next cell and name the scaled feature array `X_scaled`. "
   ]
  },
  {
   "cell_type": "code",
   "execution_count": 7,
   "id": "7fc63687",
   "metadata": {
    "execution": {
     "iopub.execute_input": "2023-03-24T21:40:02.163181Z",
     "iopub.status.busy": "2023-03-24T21:40:02.162204Z",
     "iopub.status.idle": "2023-03-24T21:40:02.195420Z",
     "shell.execute_reply": "2023-03-24T21:40:02.193605Z"
    },
    "papermill": {
     "duration": 0.049962,
     "end_time": "2023-03-24T21:40:02.198732",
     "exception": false,
     "start_time": "2023-03-24T21:40:02.148770",
     "status": "completed"
    },
    "tags": []
   },
   "outputs": [],
   "source": [
    "# 1E\n",
    "X_scaled = X_sample/255"
   ]
  },
  {
   "cell_type": "markdown",
   "id": "9838247f",
   "metadata": {
    "papermill": {
     "duration": 0.012261,
     "end_time": "2023-03-24T21:40:02.222360",
     "exception": false,
     "start_time": "2023-03-24T21:40:02.210099",
     "status": "completed"
    },
    "tags": []
   },
   "source": [
    "# Part 2: Model Selection\n",
    "\n",
    "We will now perform model selection and hyperparameter tuning. For this assignment, you will consider logistic regression, decision tree, random forest, and KNN models. \n",
    "\n",
    "**IMPORTANT NOTE:** For the sake of time, we will be using **5-fold** cross-validation throughout Part 2, rather than 10-fold cross-validation. "
   ]
  },
  {
   "cell_type": "markdown",
   "id": "c1364ef9",
   "metadata": {
    "papermill": {
     "duration": 0.01393,
     "end_time": "2023-03-24T21:40:02.248766",
     "exception": false,
     "start_time": "2023-03-24T21:40:02.234836",
     "status": "completed"
    },
    "tags": []
   },
   "source": [
    "### Logistic Regression\n",
    "\n",
    "**2A.** In the cell below, create a logistic regression model, setting `penalty='none'`, `solver='saga'`, and `tol=0.01`. The last two parameters are set to help with convergence. Estimate the model's out-of-sample accuracy using **5-fold** cross validation. Print the result rounded to 4 decimal places in a message of the following form: \n",
    "\n",
    "    CV Score: ____\n",
    "\n",
    "You might need to adjust the max_iter parameter of your model to avoid convergence warnings. Note that you are not asked to actually fit a model on the full dataset at this point."
   ]
  },
  {
   "cell_type": "code",
   "execution_count": 8,
   "id": "256b7a95",
   "metadata": {
    "execution": {
     "iopub.execute_input": "2023-03-24T21:40:02.277112Z",
     "iopub.status.busy": "2023-03-24T21:40:02.276626Z",
     "iopub.status.idle": "2023-03-24T21:40:51.289124Z",
     "shell.execute_reply": "2023-03-24T21:40:51.287168Z"
    },
    "papermill": {
     "duration": 49.04142,
     "end_time": "2023-03-24T21:40:51.303699",
     "exception": false,
     "start_time": "2023-03-24T21:40:02.262279",
     "status": "completed"
    },
    "tags": []
   },
   "outputs": [
    {
     "name": "stderr",
     "output_type": "stream",
     "text": [
      "C:\\Users\\MRT\\anaconda3\\lib\\site-packages\\sklearn\\linear_model\\_logistic.py:1173: FutureWarning: `penalty='none'`has been deprecated in 1.2 and will be removed in 1.4. To keep the past behaviour, set `penalty=None`.\n",
      "  warnings.warn(\n",
      "C:\\Users\\MRT\\anaconda3\\lib\\site-packages\\sklearn\\linear_model\\_logistic.py:1173: FutureWarning: `penalty='none'`has been deprecated in 1.2 and will be removed in 1.4. To keep the past behaviour, set `penalty=None`.\n",
      "  warnings.warn(\n",
      "C:\\Users\\MRT\\anaconda3\\lib\\site-packages\\sklearn\\linear_model\\_logistic.py:1173: FutureWarning: `penalty='none'`has been deprecated in 1.2 and will be removed in 1.4. To keep the past behaviour, set `penalty=None`.\n",
      "  warnings.warn(\n",
      "C:\\Users\\MRT\\anaconda3\\lib\\site-packages\\sklearn\\linear_model\\_logistic.py:1173: FutureWarning: `penalty='none'`has been deprecated in 1.2 and will be removed in 1.4. To keep the past behaviour, set `penalty=None`.\n",
      "  warnings.warn(\n",
      "C:\\Users\\MRT\\anaconda3\\lib\\site-packages\\sklearn\\linear_model\\_logistic.py:1173: FutureWarning: `penalty='none'`has been deprecated in 1.2 and will be removed in 1.4. To keep the past behaviour, set `penalty=None`.\n",
      "  warnings.warn(\n"
     ]
    },
    {
     "name": "stdout",
     "output_type": "stream",
     "text": [
      "CV Score: 0.9064\n",
      "CPU times: total: 1min 6s\n",
      "Wall time: 1min 8s\n"
     ]
    }
   ],
   "source": [
    "%%time \n",
    "# 2A\n",
    "lr_mod = LogisticRegression(penalty='none', solver = 'saga',tol=0.01, max_iter=1000)\n",
    "cv_score = cross_val_score(lr_mod, X_scaled, y_sample, cv=5).mean()\n",
    "\n",
    "print(f\"CV Score: {np.round(cv_score, 4)}\")"
   ]
  },
  {
   "cell_type": "markdown",
   "id": "517571bf",
   "metadata": {
    "papermill": {
     "duration": 0.012368,
     "end_time": "2023-03-24T21:40:51.330163",
     "exception": false,
     "start_time": "2023-03-24T21:40:51.317795",
     "status": "completed"
    },
    "tags": []
   },
   "source": [
    "### K-Nearest Neighbors\n",
    "\n",
    "**2B.** Use `GridSearchCV` to perform hyperparameter tuning for KNN models, according to the following specifications:\n",
    "* Tune over the `n_neighbors` parameter, considering at least 8 values for this parameter. \n",
    "* Adjust the list of hyperparameter values as needed in order to find the best possible value. \n",
    "* Name your `GridSearchCV` object `knn_grid` to be consistent with code provided in the next step.\n",
    "* Use the scaled sample data. \n",
    "* Use **5-fold** cross_validation. \n",
    "* Use the `best_estimator_` attribute to extract the best model found. \n",
    "* Summarize your results by printing messages of the type shown below, with numerical values rounded to four decimal places.\n",
    "\n",
    "```\n",
    "Best Parameters: ____\n",
    "Best CV Score:   ____\n",
    "Training Acc:    ____\n",
    "```"
   ]
  },
  {
   "cell_type": "code",
   "execution_count": 9,
   "id": "aec7e4b0",
   "metadata": {
    "execution": {
     "iopub.execute_input": "2023-03-24T21:40:51.358386Z",
     "iopub.status.busy": "2023-03-24T21:40:51.357882Z",
     "iopub.status.idle": "2023-03-24T21:41:21.657207Z",
     "shell.execute_reply": "2023-03-24T21:41:21.655567Z"
    },
    "papermill": {
     "duration": 30.33083,
     "end_time": "2023-03-24T21:41:21.674422",
     "exception": false,
     "start_time": "2023-03-24T21:40:51.343592",
     "status": "completed"
    },
    "tags": []
   },
   "outputs": [
    {
     "name": "stdout",
     "output_type": "stream",
     "text": [
      "\n",
      "Best Parameters: {'n_neighbors': 4}\n",
      "Best CV Score:   0.9445\n",
      "Training Acc:    0.9689\n",
      "\n",
      "CPU times: total: 14.3 s\n",
      "Wall time: 24.2 s\n"
     ]
    }
   ],
   "source": [
    "%%time \n",
    "# 2B\n",
    "knn_clf = KNeighborsClassifier()\n",
    "\n",
    "knn_parameters = {\n",
    "    'n_neighbors': list(range(2,20,2)),\n",
    "}\n",
    "\n",
    "knn_grid = GridSearchCV(knn_clf, knn_parameters, cv=5, refit='True', n_jobs=-1)\n",
    "knn_grid.fit(X_scaled, y_sample)\n",
    "\n",
    "knn_mod = knn_grid.best_estimator_\n",
    "\n",
    "print(f'''\n",
    "Best Parameters: {knn_grid.best_params_}\n",
    "Best CV Score:   {knn_grid.best_score_:.4f}\n",
    "Training Acc:    {knn_mod.score(X_scaled, y_sample):.4f}\n",
    "''')"
   ]
  },
  {
   "cell_type": "markdown",
   "id": "ef88cf6c",
   "metadata": {
    "papermill": {
     "duration": 0.014435,
     "end_time": "2023-03-24T21:41:21.707583",
     "exception": false,
     "start_time": "2023-03-24T21:41:21.693148",
     "status": "completed"
    },
    "tags": []
   },
   "source": [
    "Run the cell below to visualize your grid search results. Based on these results, you might want to adjust the hyperparameter values considered above. Your plot should provide strong support for the claim that you have found the best hyperparameter value. "
   ]
  },
  {
   "cell_type": "code",
   "execution_count": 10,
   "id": "4ab29ec0",
   "metadata": {
    "execution": {
     "iopub.execute_input": "2023-03-24T21:41:21.736706Z",
     "iopub.status.busy": "2023-03-24T21:41:21.735864Z",
     "iopub.status.idle": "2023-03-24T21:41:22.008956Z",
     "shell.execute_reply": "2023-03-24T21:41:22.006949Z"
    },
    "papermill": {
     "duration": 0.292318,
     "end_time": "2023-03-24T21:41:22.012408",
     "exception": false,
     "start_time": "2023-03-24T21:41:21.720090",
     "status": "completed"
    },
    "tags": []
   },
   "outputs": [
    {
     "data": {
      "image/png": "[encoded data removed]",
      "text/plain": [
       "<Figure size 640x480 with 1 Axes>"
      ]
     },
     "metadata": {},
     "output_type": "display_data"
    }
   ],
   "source": [
    "knn_summary = pd.DataFrame(knn_grid.cv_results_['params'])\n",
    "knn_summary['cv_score'] = knn_grid.cv_results_['mean_test_score']\n",
    "\n",
    "plt.plot(knn_summary.n_neighbors, knn_summary.cv_score)\n",
    "plt.xlabel('n_neighbors')\n",
    "plt.ylabel('CV Score')\n",
    "plt.xticks(knn_summary.n_neighbors)\n",
    "plt.grid()\n",
    "plt.show()"
   ]
  },
  {
   "cell_type": "markdown",
   "id": "1535bc20",
   "metadata": {
    "papermill": {
     "duration": 0.013794,
     "end_time": "2023-03-24T21:41:22.039602",
     "exception": false,
     "start_time": "2023-03-24T21:41:22.025808",
     "status": "completed"
    },
    "tags": []
   },
   "source": [
    "### Decision Trees\n",
    "\n",
    "**2C.** Use `GridSearchCV` to perform hyperparameter tuning for decision tree models, according to the following specifications:\n",
    "* Set `random_state=1` for your model.\n",
    "* Tune over the `max_depth` and `min_samples_leaf` parameters. \n",
    "* Considering at least 6 values for `max_depth` and at least 4 values for `min_samples_leaf`. \n",
    "* Adjust the list of hyperparameter values as needed in order to find a parameter set that is at least close to the best possible.\n",
    "* Name your `GridSearchCV` object `dt_grid` to be consistent with code provided in the next step.\n",
    "* Use the scaled sample data. \n",
    "* Use **5-fold** cross_validation. \n",
    "* Use the `best_estimator_` attribute to extract the best model found.\n",
    "* Summarize your results by printing messages of the type shown below, with numerical values rounded to four decimal places.\n",
    "\n",
    "```\n",
    "Best Parameters: ____\n",
    "Best CV Score:   ____\n",
    "Training Acc:    ____\n",
    "```"
   ]
  },
  {
   "cell_type": "code",
   "execution_count": 11,
   "id": "d514b172",
   "metadata": {
    "execution": {
     "iopub.execute_input": "2023-03-24T21:41:22.067864Z",
     "iopub.status.busy": "2023-03-24T21:41:22.067389Z",
     "iopub.status.idle": "2023-03-24T21:42:36.024479Z",
     "shell.execute_reply": "2023-03-24T21:42:36.022459Z"
    },
    "papermill": {
     "duration": 73.985205,
     "end_time": "2023-03-24T21:42:36.038086",
     "exception": false,
     "start_time": "2023-03-24T21:41:22.052881",
     "status": "completed"
    },
    "tags": []
   },
   "outputs": [
    {
     "name": "stdout",
     "output_type": "stream",
     "text": [
      "\n",
      "Best Parameters: {'max_depth': 12, 'min_samples_leaf': 1}\n",
      "Best CV Score:   0.8074\n",
      "Training Acc:    0.9717\n",
      "\n",
      "CPU times: total: 2.3 s\n",
      "Wall time: 1min 19s\n"
     ]
    }
   ],
   "source": [
    "%%time \n",
    "\n",
    "dt_clf = DecisionTreeClassifier(random_state=1)\n",
    "\n",
    "dt_parameters = {\n",
    "    'max_depth': [2, 4, 6, 8, 10, 12],\n",
    "    'min_samples_leaf': [1, 2, 4, 8]\n",
    "}\n",
    "\n",
    "dt_grid = GridSearchCV(dt_clf, dt_parameters, cv=10, refit='True', n_jobs=-1)\n",
    "dt_grid.fit(X_scaled, y_sample)\n",
    "\n",
    "dt_mod = dt_grid.best_estimator_\n",
    "\n",
    "print(f'''\n",
    "Best Parameters: {dt_grid.best_params_}\n",
    "Best CV Score:   {dt_grid.best_score_:.4f}\n",
    "Training Acc:    {dt_mod.score(X_scaled, y_sample):.4f}\n",
    "''')"
   ]
  },
  {
   "cell_type": "markdown",
   "id": "4a482ffc",
   "metadata": {
    "papermill": {
     "duration": 0.013008,
     "end_time": "2023-03-24T21:42:36.063262",
     "exception": false,
     "start_time": "2023-03-24T21:42:36.050254",
     "status": "completed"
    },
    "tags": []
   },
   "source": [
    "Run the cell below to visualize your grid search results. Based on these results, you might want to adjust the hyperparameter values considered above. Your plot should provide strong support for the claim that you have found the best set of hyperparameter values (or at least something close to it)."
   ]
  },
  {
   "cell_type": "code",
   "execution_count": 12,
   "id": "7ba5418c",
   "metadata": {
    "execution": {
     "iopub.execute_input": "2023-03-24T21:42:36.090625Z",
     "iopub.status.busy": "2023-03-24T21:42:36.090187Z",
     "iopub.status.idle": "2023-03-24T21:42:36.405324Z",
     "shell.execute_reply": "2023-03-24T21:42:36.403997Z"
    },
    "papermill": {
     "duration": 0.332945,
     "end_time": "2023-03-24T21:42:36.408638",
     "exception": false,
     "start_time": "2023-03-24T21:42:36.075693",
     "status": "completed"
    },
    "tags": []
   },
   "outputs": [
    {
     "data": {
      "image/png": "[encoded data removed]",
      "text/plain": [
       "<Figure size 640x480 with 1 Axes>"
      ]
     },
     "metadata": {},
     "output_type": "display_data"
    }
   ],
   "source": [
    "dt_summary = pd.DataFrame(dt_grid.cv_results_['params'])\n",
    "dt_summary['cv_score'] = dt_grid.cv_results_['mean_test_score']\n",
    "\n",
    "for ms in dt_parameters['min_samples_leaf']:\n",
    "    temp = dt_summary.query(f'min_samples_leaf == {ms}')\n",
    "    plt.plot(temp.max_depth, temp.cv_score, label=ms)\n",
    "plt.xlabel('Maximum Depth')\n",
    "plt.ylabel('CV Score')\n",
    "plt.legend(title='Min Samples', bbox_to_anchor=[1,1])\n",
    "plt.xticks(dt_parameters['max_depth'])\n",
    "plt.grid()\n",
    "plt.show()"
   ]
  },
  {
   "cell_type": "markdown",
   "id": "1ec08790",
   "metadata": {
    "papermill": {
     "duration": 0.012634,
     "end_time": "2023-03-24T21:42:36.435103",
     "exception": false,
     "start_time": "2023-03-24T21:42:36.422469",
     "status": "completed"
    },
    "tags": []
   },
   "source": [
    "### Random Forests\n",
    "\n",
    "**2D.** Use `GridSearchCV` to perform hyperparameter tuning for random forest models, according to the following specifications:\n",
    "* Set `random_state=1` for your model.\n",
    "* Use 100 trees in your forest. \n",
    "* Tune over the `max_depth` and `min_samples_leaf` parameters. \n",
    "* Considering at least 6 values for `max_depth` and at least 3 values for `min_samples_leaf`. \n",
    "* Adjust the list of hyperparameter values as needed in order to find a parameter set that is at least close to the best possible.\n",
    "* Name your `GridSearchCV` object `rf_grid` to be consistent with code provided in the next step.\n",
    "* Use the scaled sample data. \n",
    "* Use **5-fold** cross_validation. \n",
    "* Use the `best_estimator_` attribute to extract the best model found.\n",
    "* Summarize your results by printing messages of the type shown below, with numerical values rounded to four decimal places.\n",
    "\n",
    "```\n",
    "Best Parameters: ____\n",
    "Best CV Score:   ____\n",
    "Training Acc:    ____"
   ]
  },
  {
   "cell_type": "code",
   "execution_count": 13,
   "id": "e1a399b9",
   "metadata": {
    "execution": {
     "iopub.execute_input": "2023-03-24T21:42:36.466530Z",
     "iopub.status.busy": "2023-03-24T21:42:36.465575Z",
     "iopub.status.idle": "2023-03-24T21:45:34.447548Z",
     "shell.execute_reply": "2023-03-24T21:45:34.445912Z"
    },
    "papermill": {
     "duration": 178.001453,
     "end_time": "2023-03-24T21:45:34.450950",
     "exception": false,
     "start_time": "2023-03-24T21:42:36.449497",
     "status": "completed"
    },
    "tags": []
   },
   "outputs": [
    {
     "name": "stdout",
     "output_type": "stream",
     "text": [
      "\n",
      "Best Parameters: {'max_depth': 16, 'min_samples_leaf': 1}\n",
      "Best CV Score:   0.9471\n",
      "Training Acc:    0.9998\n",
      "\n",
      "CPU times: total: 7.64 s\n",
      "Wall time: 3min 19s\n"
     ]
    }
   ],
   "source": [
    "%%time \n",
    "\n",
    "rf_clf = RandomForestClassifier(n_estimators=100, random_state=1)\n",
    "\n",
    "rf_parameters = {\n",
    "    'max_depth': list(range(2, 18 ,2)),\n",
    "    'min_samples_leaf': list(range(1, 5))\n",
    "}\n",
    "\n",
    "rf_grid = GridSearchCV(rf_clf, rf_parameters, cv=5, refit='True', n_jobs=-1)\n",
    "rf_grid.fit(X_scaled, y_sample)\n",
    "\n",
    "rf_mod = rf_grid.best_estimator_\n",
    "\n",
    "print(f'''\n",
    "Best Parameters: {rf_grid.best_params_}\n",
    "Best CV Score:   {rf_grid.best_score_:.4f}\n",
    "Training Acc:    {rf_grid.score(X_scaled, y_sample):.4f}\n",
    "''')"
   ]
  },
  {
   "cell_type": "code",
   "execution_count": 14,
   "id": "f916a3f8",
   "metadata": {
    "execution": {
     "iopub.execute_input": "2023-03-24T21:45:34.480161Z",
     "iopub.status.busy": "2023-03-24T21:45:34.479126Z",
     "iopub.status.idle": "2023-03-24T21:45:34.752777Z",
     "shell.execute_reply": "2023-03-24T21:45:34.751718Z"
    },
    "papermill": {
     "duration": 0.291231,
     "end_time": "2023-03-24T21:45:34.755316",
     "exception": false,
     "start_time": "2023-03-24T21:45:34.464085",
     "status": "completed"
    },
    "tags": []
   },
   "outputs": [
    {
     "data": {
      "image/png": "[encoded data removed]",
      "text/plain": [
       "<Figure size 640x480 with 1 Axes>"
      ]
     },
     "metadata": {},
     "output_type": "display_data"
    }
   ],
   "source": [
    "rf_summary = pd.DataFrame(rf_grid.cv_results_['params'])\n",
    "rf_summary['cv_score'] = rf_grid.cv_results_['mean_test_score']\n",
    "\n",
    "for ms in rf_parameters['min_samples_leaf']:\n",
    "    temp = rf_summary.query(f'min_samples_leaf == {ms}')\n",
    "    plt.plot(temp.max_depth, temp.cv_score, label=ms)\n",
    "plt.xlabel('Maximum Depth')\n",
    "plt.ylabel('CV Score')\n",
    "plt.legend(title='Min Samples', bbox_to_anchor=[1,1])\n",
    "plt.xticks(rf_parameters['max_depth'])\n",
    "plt.grid()\n",
    "plt.show()"
   ]
  },
  {
   "cell_type": "markdown",
   "id": "634b6c4e",
   "metadata": {
    "papermill": {
     "duration": 0.013699,
     "end_time": "2023-03-24T21:45:34.783268",
     "exception": false,
     "start_time": "2023-03-24T21:45:34.769569",
     "status": "completed"
    },
    "tags": []
   },
   "source": [
    "# Part 3: Final Model\n",
    "\n",
    "In this part, you will identify, train, and evaluate your final model. For the sake of time, we only used 10,000 observations for hyperparameter tuning. However, in order to improve our model, we will train the our final model on the entire set of 42,000 observations. \n",
    "\n",
    "**3A.** In the cell below, create feature and label arrays using all of the observations from the original DataFrame. Scale the feature array by dividing the pixel values by 255. Then print the shape of the scaled feature array and the label array. "
   ]
  },
  {
   "cell_type": "code",
   "execution_count": 15,
   "id": "27b47875",
   "metadata": {
    "execution": {
     "iopub.execute_input": "2023-03-24T21:45:34.813187Z",
     "iopub.status.busy": "2023-03-24T21:45:34.812520Z",
     "iopub.status.idle": "2023-03-24T21:45:34.923830Z",
     "shell.execute_reply": "2023-03-24T21:45:34.922214Z"
    },
    "papermill": {
     "duration": 0.129621,
     "end_time": "2023-03-24T21:45:34.926855",
     "exception": false,
     "start_time": "2023-03-24T21:45:34.797234",
     "status": "completed"
    },
    "tags": []
   },
   "outputs": [
    {
     "name": "stdout",
     "output_type": "stream",
     "text": [
      "\n",
      "Shape of feature array: (42000, 784)\n",
      "Shape of target array:  (42000,)\n",
      "\n"
     ]
    }
   ],
   "source": [
    "# 3A\n",
    "X = train.drop(columns = 'label', inplace=False).values\n",
    "X = X/255\n",
    "y = train.label.values\n",
    "\n",
    "print(f\"\"\"\n",
    "Shape of feature array: {X.shape}\n",
    "Shape of target array:  {y.shape}\n",
    "\"\"\")"
   ]
  },
  {
   "cell_type": "markdown",
   "id": "fb62e77c",
   "metadata": {
    "papermill": {
     "duration": 0.014265,
     "end_time": "2023-03-24T21:45:34.955292",
     "exception": false,
     "start_time": "2023-03-24T21:45:34.941027",
     "status": "completed"
    },
    "tags": []
   },
   "source": [
    "Review the cross-validation scores for the models considered in Part 2 and identify the model with the highest CV score. If your best-performing model is a KNN model, and it is only slighlty better than another model, then select your second-best model instead. KNN models are are problematic with this dataset, for reasons discussed in class.  \n",
    "\n",
    "**3B.** After identifying your final model, train a new version of this model using the best set of hyperparameter values found previously. If creating a decision tree or random forest model, set `random_state=1`. Then fit the model to the full dataset. Next, evaluate the final model by performing **10-fold** cross-validation. Print the result rounded to 4 decimal places in a message of the following form: \n",
    "\n",
    "    CV Score: ____\n",
    "    \n",
    " **Note:** You are asked to use 10-fold CV here. "
   ]
  },
  {
   "cell_type": "code",
   "execution_count": 16,
   "id": "58e5bd27",
   "metadata": {
    "execution": {
     "iopub.execute_input": "2023-03-24T21:45:34.984735Z",
     "iopub.status.busy": "2023-03-24T21:45:34.984257Z",
     "iopub.status.idle": "2023-03-24T21:47:56.053294Z",
     "shell.execute_reply": "2023-03-24T21:47:56.051707Z"
    },
    "papermill": {
     "duration": 141.10179,
     "end_time": "2023-03-24T21:47:56.070762",
     "exception": false,
     "start_time": "2023-03-24T21:45:34.968972",
     "status": "completed"
    },
    "tags": []
   },
   "outputs": [
    {
     "name": "stdout",
     "output_type": "stream",
     "text": [
      "CV Score: 0.9623\n",
      "CPU times: total: 4min 28s\n",
      "Wall time: 5min 30s\n"
     ]
    }
   ],
   "source": [
    "%%time\n",
    "# 3B\n",
    "final_model = RandomForestClassifier(n_estimators=100, random_state=1, max_depth=16, min_samples_leaf=1)\n",
    "final_model.fit(X, y)\n",
    "\n",
    "scores = cross_val_score(final_model, X, y, cv=10)\n",
    "print(f\"CV Score: {np.round(scores.mean(), 4)}\")"
   ]
  },
  {
   "cell_type": "markdown",
   "id": "6ce6b836",
   "metadata": {
    "papermill": {
     "duration": 0.01444,
     "end_time": "2023-03-24T21:47:56.100141",
     "exception": false,
     "start_time": "2023-03-24T21:47:56.085701",
     "status": "completed"
    },
    "tags": []
   },
   "source": [
    "**3C.** Use 10-fold cross-validation prediction with your final model to generate out-of-sample predictions for the dataset. Use these predictions to generate a classification report. Display the report as a DataFrame. "
   ]
  },
  {
   "cell_type": "code",
   "execution_count": 17,
   "id": "7ee68ce1",
   "metadata": {
    "execution": {
     "iopub.execute_input": "2023-03-24T21:47:56.134397Z",
     "iopub.status.busy": "2023-03-24T21:47:56.133910Z",
     "iopub.status.idle": "2023-03-24T21:49:46.039826Z",
     "shell.execute_reply": "2023-03-24T21:49:46.038368Z"
    },
    "papermill": {
     "duration": 109.944524,
     "end_time": "2023-03-24T21:49:46.059151",
     "exception": false,
     "start_time": "2023-03-24T21:47:56.114627",
     "status": "completed"
    },
    "tags": []
   },
   "outputs": [
    {
     "name": "stdout",
     "output_type": "stream",
     "text": [
      "CPU times: total: 3min 59s\n",
      "Wall time: 4min 32s\n"
     ]
    },
    {
     "data": {
      "text/html": [
       "<div>\n",
       "<style scoped>\n",
       "    .dataframe tbody tr th:only-of-type {\n",
       "        vertical-align: middle;\n",
       "    }\n",
       "\n",
       "    .dataframe tbody tr th {\n",
       "        vertical-align: top;\n",
       "    }\n",
       "\n",
       "    .dataframe thead th {\n",
       "        text-align: right;\n",
       "    }\n",
       "</style>\n",
       "<table border=\"1\" class=\"dataframe\">\n",
       "  <thead>\n",
       "    <tr style=\"text-align: right;\">\n",
       "      <th></th>\n",
       "      <th>0</th>\n",
       "      <th>1</th>\n",
       "      <th>2</th>\n",
       "      <th>3</th>\n",
       "      <th>4</th>\n",
       "      <th>5</th>\n",
       "      <th>6</th>\n",
       "      <th>7</th>\n",
       "      <th>8</th>\n",
       "      <th>9</th>\n",
       "    </tr>\n",
       "  </thead>\n",
       "  <tbody>\n",
       "    <tr>\n",
       "      <th>0</th>\n",
       "      <td>4071</td>\n",
       "      <td>0</td>\n",
       "      <td>6</td>\n",
       "      <td>1</td>\n",
       "      <td>5</td>\n",
       "      <td>3</td>\n",
       "      <td>16</td>\n",
       "      <td>1</td>\n",
       "      <td>26</td>\n",
       "      <td>3</td>\n",
       "    </tr>\n",
       "    <tr>\n",
       "      <th>1</th>\n",
       "      <td>0</td>\n",
       "      <td>4607</td>\n",
       "      <td>22</td>\n",
       "      <td>16</td>\n",
       "      <td>9</td>\n",
       "      <td>4</td>\n",
       "      <td>7</td>\n",
       "      <td>9</td>\n",
       "      <td>5</td>\n",
       "      <td>5</td>\n",
       "    </tr>\n",
       "    <tr>\n",
       "      <th>2</th>\n",
       "      <td>13</td>\n",
       "      <td>13</td>\n",
       "      <td>4018</td>\n",
       "      <td>20</td>\n",
       "      <td>22</td>\n",
       "      <td>3</td>\n",
       "      <td>20</td>\n",
       "      <td>41</td>\n",
       "      <td>22</td>\n",
       "      <td>5</td>\n",
       "    </tr>\n",
       "    <tr>\n",
       "      <th>3</th>\n",
       "      <td>7</td>\n",
       "      <td>9</td>\n",
       "      <td>61</td>\n",
       "      <td>4093</td>\n",
       "      <td>2</td>\n",
       "      <td>63</td>\n",
       "      <td>10</td>\n",
       "      <td>35</td>\n",
       "      <td>45</td>\n",
       "      <td>26</td>\n",
       "    </tr>\n",
       "    <tr>\n",
       "      <th>4</th>\n",
       "      <td>6</td>\n",
       "      <td>5</td>\n",
       "      <td>5</td>\n",
       "      <td>0</td>\n",
       "      <td>3931</td>\n",
       "      <td>2</td>\n",
       "      <td>18</td>\n",
       "      <td>7</td>\n",
       "      <td>7</td>\n",
       "      <td>91</td>\n",
       "    </tr>\n",
       "    <tr>\n",
       "      <th>5</th>\n",
       "      <td>15</td>\n",
       "      <td>8</td>\n",
       "      <td>7</td>\n",
       "      <td>52</td>\n",
       "      <td>6</td>\n",
       "      <td>3633</td>\n",
       "      <td>27</td>\n",
       "      <td>2</td>\n",
       "      <td>22</td>\n",
       "      <td>23</td>\n",
       "    </tr>\n",
       "    <tr>\n",
       "      <th>6</th>\n",
       "      <td>22</td>\n",
       "      <td>6</td>\n",
       "      <td>3</td>\n",
       "      <td>0</td>\n",
       "      <td>11</td>\n",
       "      <td>25</td>\n",
       "      <td>4058</td>\n",
       "      <td>0</td>\n",
       "      <td>12</td>\n",
       "      <td>0</td>\n",
       "    </tr>\n",
       "    <tr>\n",
       "      <th>7</th>\n",
       "      <td>5</td>\n",
       "      <td>21</td>\n",
       "      <td>53</td>\n",
       "      <td>6</td>\n",
       "      <td>26</td>\n",
       "      <td>0</td>\n",
       "      <td>0</td>\n",
       "      <td>4221</td>\n",
       "      <td>9</td>\n",
       "      <td>60</td>\n",
       "    </tr>\n",
       "    <tr>\n",
       "      <th>8</th>\n",
       "      <td>9</td>\n",
       "      <td>29</td>\n",
       "      <td>17</td>\n",
       "      <td>37</td>\n",
       "      <td>20</td>\n",
       "      <td>26</td>\n",
       "      <td>17</td>\n",
       "      <td>7</td>\n",
       "      <td>3847</td>\n",
       "      <td>54</td>\n",
       "    </tr>\n",
       "    <tr>\n",
       "      <th>9</th>\n",
       "      <td>22</td>\n",
       "      <td>11</td>\n",
       "      <td>8</td>\n",
       "      <td>60</td>\n",
       "      <td>60</td>\n",
       "      <td>11</td>\n",
       "      <td>3</td>\n",
       "      <td>46</td>\n",
       "      <td>31</td>\n",
       "      <td>3936</td>\n",
       "    </tr>\n",
       "  </tbody>\n",
       "</table>\n",
       "</div>"
      ],
      "text/plain": [
       "      0     1     2     3     4     5     6     7     8     9\n",
       "0  4071     0     6     1     5     3    16     1    26     3\n",
       "1     0  4607    22    16     9     4     7     9     5     5\n",
       "2    13    13  4018    20    22     3    20    41    22     5\n",
       "3     7     9    61  4093     2    63    10    35    45    26\n",
       "4     6     5     5     0  3931     2    18     7     7    91\n",
       "5    15     8     7    52     6  3633    27     2    22    23\n",
       "6    22     6     3     0    11    25  4058     0    12     0\n",
       "7     5    21    53     6    26     0     0  4221     9    60\n",
       "8     9    29    17    37    20    26    17     7  3847    54\n",
       "9    22    11     8    60    60    11     3    46    31  3936"
      ]
     },
     "execution_count": 17,
     "metadata": {},
     "output_type": "execute_result"
    }
   ],
   "source": [
    "%%time\n",
    "# 3C\n",
    "cv_predict = cross_val_predict(final_model, X, y, cv=10)\n",
    "\n",
    "cm = confusion_matrix(y, cv_predict)\n",
    "pd.DataFrame(cm)"
   ]
  },
  {
   "cell_type": "markdown",
   "id": "43c9842a",
   "metadata": {
    "papermill": {
     "duration": 0.014169,
     "end_time": "2023-03-24T21:49:46.087771",
     "exception": false,
     "start_time": "2023-03-24T21:49:46.073602",
     "status": "completed"
    },
    "tags": []
   },
   "source": [
    "**3D.** Edit this markdown cell to fill complete the statements below. Please remove the underscores replacing them with the correct values. \n",
    "\n",
    "* The 1st most common misclassification mode by the model was to classify the digit **4** as the digit **9**. \n",
    "* The 2nd most common misclassification mode by the model was to classify the digit **3** as the digit **5**. "
   ]
  },
  {
   "cell_type": "markdown",
   "id": "06c149a4",
   "metadata": {
    "papermill": {
     "duration": 0.013779,
     "end_time": "2023-03-24T21:49:46.115599",
     "exception": false,
     "start_time": "2023-03-24T21:49:46.101820",
     "status": "completed"
    },
    "tags": []
   },
   "source": [
    "**3E.** Use the out-of-sample predictions to create and print a classification report. "
   ]
  },
  {
   "cell_type": "code",
   "execution_count": 18,
   "id": "7b44c370",
   "metadata": {
    "execution": {
     "iopub.execute_input": "2023-03-24T21:49:46.146321Z",
     "iopub.status.busy": "2023-03-24T21:49:46.145107Z",
     "iopub.status.idle": "2023-03-24T21:49:46.248104Z",
     "shell.execute_reply": "2023-03-24T21:49:46.246638Z"
    },
    "papermill": {
     "duration": 0.122696,
     "end_time": "2023-03-24T21:49:46.252229",
     "exception": false,
     "start_time": "2023-03-24T21:49:46.129533",
     "status": "completed"
    },
    "tags": []
   },
   "outputs": [
    {
     "name": "stdout",
     "output_type": "stream",
     "text": [
      "              precision    recall  f1-score   support\n",
      "\n",
      "           0       0.98      0.99      0.98      4132\n",
      "           1       0.98      0.98      0.98      4684\n",
      "           2       0.96      0.96      0.96      4177\n",
      "           3       0.96      0.94      0.95      4351\n",
      "           4       0.96      0.97      0.96      4072\n",
      "           5       0.96      0.96      0.96      3795\n",
      "           6       0.97      0.98      0.98      4137\n",
      "           7       0.97      0.96      0.96      4401\n",
      "           8       0.96      0.95      0.95      4063\n",
      "           9       0.94      0.94      0.94      4188\n",
      "\n",
      "    accuracy                           0.96     42000\n",
      "   macro avg       0.96      0.96      0.96     42000\n",
      "weighted avg       0.96      0.96      0.96     42000\n",
      "\n"
     ]
    }
   ],
   "source": [
    "# 3E\n",
    "print(classification_report(y, cv_predict))"
   ]
  },
  {
   "cell_type": "markdown",
   "id": "c6264c54",
   "metadata": {
    "papermill": {
     "duration": 0.014011,
     "end_time": "2023-03-24T21:49:46.280747",
     "exception": false,
     "start_time": "2023-03-24T21:49:46.266736",
     "status": "completed"
    },
    "tags": []
   },
   "source": [
    "# Part 4: New Observations\n",
    "\n",
    "The csv file `digit-recognizer/test.csv` contains pixel values for 28,000 unlabeled images. \n",
    "\n",
    "**4A.** Load this csv file into a DataFrame. Then use the `sample()` method to select 16 rows at random, setting `random_state=4`. Create a feature array by extract the pixel values and dividing them by 255. Print the shape of the new feature array. "
   ]
  },
  {
   "cell_type": "code",
   "execution_count": 19,
   "id": "6b435142",
   "metadata": {
    "execution": {
     "iopub.execute_input": "2023-03-24T21:49:46.311479Z",
     "iopub.status.busy": "2023-03-24T21:49:46.311008Z",
     "iopub.status.idle": "2023-03-24T21:49:48.555937Z",
     "shell.execute_reply": "2023-03-24T21:49:48.554302Z"
    },
    "papermill": {
     "duration": 2.264947,
     "end_time": "2023-03-24T21:49:48.560103",
     "exception": false,
     "start_time": "2023-03-24T21:49:46.295156",
     "status": "completed"
    },
    "tags": []
   },
   "outputs": [
    {
     "name": "stdout",
     "output_type": "stream",
     "text": [
      "(16, 784)\n"
     ]
    }
   ],
   "source": [
    "# 4A\n",
    "df_new = pd.read_csv('test.csv')\n",
    "df_new = df_new.sample(16, random_state=4)\n",
    "X_new = df_new.values / 255\n",
    "print(X_new.shape)"
   ]
  },
  {
   "cell_type": "markdown",
   "id": "ea0b25c9",
   "metadata": {
    "papermill": {
     "duration": 0.015246,
     "end_time": "2023-03-24T21:49:48.590833",
     "exception": false,
     "start_time": "2023-03-24T21:49:48.575587",
     "status": "completed"
    },
    "tags": []
   },
   "source": [
    "**4B**. Adapt the code form Part 1D to create a 4x4 grid of subplots displaying the 16 images in the sample of new observations. "
   ]
  },
  {
   "cell_type": "code",
   "execution_count": 20,
   "id": "0b6bcc08",
   "metadata": {
    "execution": {
     "iopub.execute_input": "2023-03-24T21:49:48.622018Z",
     "iopub.status.busy": "2023-03-24T21:49:48.621549Z",
     "iopub.status.idle": "2023-03-24T21:49:49.371735Z",
     "shell.execute_reply": "2023-03-24T21:49:49.370081Z"
    },
    "papermill": {
     "duration": 0.769981,
     "end_time": "2023-03-24T21:49:49.375028",
     "exception": false,
     "start_time": "2023-03-24T21:49:48.605047",
     "status": "completed"
    },
    "tags": []
   },
   "outputs": [
    {
     "data": {
      "image/png": "[encoded data removed]",
      "text/plain": [
       "<Figure size 640x480 with 16 Axes>"
      ]
     },
     "metadata": {},
     "output_type": "display_data"
    }
   ],
   "source": [
    "# 4B\n",
    "for i in range(16):\n",
    "    plt.subplot(4,4,i+1)\n",
    "    digit = X_new[i,:].reshape(28,28)\n",
    "    plt.imshow(digit, cmap='Greys')\n",
    "    plt.axis('off')\n",
    "plt.show()"
   ]
  },
  {
   "cell_type": "markdown",
   "id": "ea17a827",
   "metadata": {
    "papermill": {
     "duration": 0.014958,
     "end_time": "2023-03-24T21:49:49.406178",
     "exception": false,
     "start_time": "2023-03-24T21:49:49.391220",
     "status": "completed"
    },
    "tags": []
   },
   "source": [
    "**4C.** Generate class predictions for the 16 digits shown above. Print the predictions. To better compare the predictions with the digits, reshape the prediction array to a 4x4 array and then print this reshaped array. "
   ]
  },
  {
   "cell_type": "code",
   "execution_count": 24,
   "id": "2daa61f0",
   "metadata": {
    "execution": {
     "iopub.execute_input": "2023-03-24T21:49:49.439445Z",
     "iopub.status.busy": "2023-03-24T21:49:49.439015Z",
     "iopub.status.idle": "2023-03-24T21:49:49.465746Z",
     "shell.execute_reply": "2023-03-24T21:49:49.463791Z"
    },
    "papermill": {
     "duration": 0.046346,
     "end_time": "2023-03-24T21:49:49.468468",
     "exception": false,
     "start_time": "2023-03-24T21:49:49.422122",
     "status": "completed"
    },
    "tags": []
   },
   "outputs": [
    {
     "data": {
      "text/plain": [
       "array([[5, 0, 7, 1],\n",
       "       [6, 6, 7, 1],\n",
       "       [7, 3, 5, 1],\n",
       "       [3, 6, 4, 9]], dtype=int64)"
      ]
     },
     "execution_count": 24,
     "metadata": {},
     "output_type": "execute_result"
    }
   ],
   "source": [
    "# 4C\n",
    "predictions = final_model.predict(X_new)\n",
    "np.reshape(predictions, (4,4))"
   ]
  },
  {
   "cell_type": "markdown",
   "id": "6c7f5397",
   "metadata": {
    "papermill": {
     "duration": 0.014857,
     "end_time": "2023-03-24T21:49:49.498730",
     "exception": false,
     "start_time": "2023-03-24T21:49:49.483873",
     "status": "completed"
    },
    "tags": []
   },
   "source": [
    "**4D.** For which, if any, of the 16 new observations did the model generate an incorrect prediction? Provide your answer in this mark-down cell by providing the indices (0 - 15) for the misclassified observations. \n",
    "\n",
    "Answer: **6**"
   ]
  },
  {
   "cell_type": "markdown",
   "id": "bc2af716",
   "metadata": {
    "papermill": {
     "duration": 0.014863,
     "end_time": "2023-03-24T21:49:49.528632",
     "exception": false,
     "start_time": "2023-03-24T21:49:49.513769",
     "status": "completed"
    },
    "tags": []
   },
   "source": [
    "**4E.** Use your final model to generate class probability estimates for the 16 new observations. Print the array of probability estimates rounded to 2 decimal places."
   ]
  },
  {
   "cell_type": "code",
   "execution_count": 25,
   "id": "28792d0f",
   "metadata": {
    "execution": {
     "iopub.execute_input": "2023-03-24T21:49:49.560695Z",
     "iopub.status.busy": "2023-03-24T21:49:49.560260Z",
     "iopub.status.idle": "2023-03-24T21:49:49.585042Z",
     "shell.execute_reply": "2023-03-24T21:49:49.583021Z"
    },
    "papermill": {
     "duration": 0.044561,
     "end_time": "2023-03-24T21:49:49.588276",
     "exception": false,
     "start_time": "2023-03-24T21:49:49.543715",
     "status": "completed"
    },
    "tags": []
   },
   "outputs": [
    {
     "name": "stdout",
     "output_type": "stream",
     "text": [
      "[[0.   0.   0.   0.02 0.01 0.95 0.   0.   0.01 0.01]\n",
      " [1.   0.   0.   0.   0.   0.   0.   0.   0.   0.  ]\n",
      " [0.   0.14 0.02 0.08 0.01 0.   0.   0.72 0.   0.02]\n",
      " [0.   0.99 0.   0.   0.   0.   0.   0.   0.   0.  ]\n",
      " [0.   0.   0.   0.   0.   0.   1.   0.   0.   0.  ]\n",
      " [0.   0.   0.   0.   0.   0.   1.   0.   0.   0.  ]\n",
      " [0.   0.   0.09 0.24 0.04 0.01 0.01 0.32 0.18 0.11]\n",
      " [0.   0.98 0.   0.   0.   0.   0.   0.   0.01 0.  ]\n",
      " [0.   0.2  0.3  0.09 0.   0.01 0.01 0.31 0.06 0.02]\n",
      " [0.01 0.   0.01 0.92 0.   0.06 0.   0.   0.   0.  ]\n",
      " [0.02 0.01 0.   0.12 0.05 0.52 0.01 0.   0.11 0.16]\n",
      " [0.   0.96 0.   0.   0.01 0.   0.   0.   0.02 0.  ]\n",
      " [0.   0.   0.   0.98 0.   0.02 0.   0.   0.   0.  ]\n",
      " [0.01 0.   0.   0.   0.02 0.   0.97 0.   0.   0.  ]\n",
      " [0.   0.01 0.   0.02 0.79 0.08 0.01 0.05 0.01 0.03]\n",
      " [0.   0.   0.   0.01 0.03 0.   0.   0.01 0.01 0.94]]\n"
     ]
    }
   ],
   "source": [
    "# 4E\n",
    "pred_prob = final_model.predict_proba(X_new)\n",
    "print(np.round(pred_prob, 2))"
   ]
  },
  {
   "cell_type": "markdown",
   "id": "75820313",
   "metadata": {
    "papermill": {
     "duration": 0.016419,
     "end_time": "2023-03-24T21:49:49.620188",
     "exception": false,
     "start_time": "2023-03-24T21:49:49.603769",
     "status": "completed"
    },
    "tags": []
   },
   "source": [
    "**4F.** Use the `max()` method with `axis=1` to determine the largest value in each row of the probability estimate array. Print these values rounded to 2 decimal places."
   ]
  },
  {
   "cell_type": "code",
   "execution_count": 26,
   "id": "710e01f4",
   "metadata": {
    "execution": {
     "iopub.execute_input": "2023-03-24T21:49:49.655641Z",
     "iopub.status.busy": "2023-03-24T21:49:49.655211Z",
     "iopub.status.idle": "2023-03-24T21:49:49.661865Z",
     "shell.execute_reply": "2023-03-24T21:49:49.660291Z"
    },
    "papermill": {
     "duration": 0.029566,
     "end_time": "2023-03-24T21:49:49.666277",
     "exception": false,
     "start_time": "2023-03-24T21:49:49.636711",
     "status": "completed"
    },
    "tags": []
   },
   "outputs": [
    {
     "name": "stdout",
     "output_type": "stream",
     "text": [
      "[0.95 1.   0.72 0.99 1.   1.   0.32 0.98 0.31 0.92 0.52 0.96 0.98 0.97\n",
      " 0.79 0.94]\n"
     ]
    }
   ],
   "source": [
    "# 4F \n",
    "max_proba = np.max(pred_prob, axis=1)\n",
    "print(np.round(max_proba, 2))"
   ]
  },
  {
   "cell_type": "markdown",
   "id": "863a485b",
   "metadata": {
    "papermill": {
     "duration": 0.015773,
     "end_time": "2023-03-24T21:49:49.699797",
     "exception": false,
     "start_time": "2023-03-24T21:49:49.684024",
     "status": "completed"
    },
    "tags": []
   },
   "source": [
    "**4G.** Identify the three observations for which the model is the least confident in its prediction. Provide the indices (0-15) for these observations below, in increasing order of confidence. \n",
    "\n",
    "Answer: **8, 6, 10**"
   ]
  },
  {
   "cell_type": "code",
   "execution_count": null,
   "id": "be353bb7",
   "metadata": {},
   "outputs": [],
   "source": []
  }
 ],
 "metadata": {
  "kernelspec": {
   "display_name": "Python 3 (ipykernel)",
   "language": "python",
   "name": "python3"
  },
  "language_info": {
   "codemirror_mode": {
    "name": "ipython",
    "version": 3
   },
   "file_extension": ".py",
   "mimetype": "text/x-python",
   "name": "python",
   "nbconvert_exporter": "python",
   "pygments_lexer": "ipython3",
   "version": "3.10.9"
  },
  "papermill": {
   "default_parameters": {},
   "duration": 633.450814,
   "end_time": "2023-03-24T21:50:11.792589",
   "environment_variables": {},
   "exception": null,
   "input_path": "__notebook__.ipynb",
   "output_path": "__notebook__.ipynb",
   "parameters": {},
   "start_time": "2023-03-24T21:39:38.341775",
   "version": "2.4.0"
  }
 },
 "nbformat": 4,
 "nbformat_minor": 5
}
