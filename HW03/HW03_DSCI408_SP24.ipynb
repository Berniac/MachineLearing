{
 "cells": [
  {
   "cell_type": "markdown",
   "id": "fc80da42",
   "metadata": {
    "papermill": {
     "duration": 0.010947,
     "end_time": "2023-02-22T18:32:59.240388",
     "exception": false,
     "start_time": "2023-02-22T18:32:59.229441",
     "status": "completed"
    },
    "tags": []
   },
   "source": [
    "# Homework 03\n",
    "\n",
    "**Bernard Mwamburi**"
   ]
  },
  {
   "cell_type": "markdown",
   "id": "70fde7da",
   "metadata": {
    "papermill": {
     "duration": 0.009472,
     "end_time": "2023-02-22T18:32:59.259674",
     "exception": false,
     "start_time": "2023-02-22T18:32:59.250202",
     "status": "completed"
    },
    "tags": []
   },
   "source": [
    "## Preparing the Environment\n",
    "\n",
    "Use the cell below to import NumPy, Pandas, and the Pyplot library of Matplotlib, using the standard aliases. Also import the following tools from Scikit-Learn: `SimpleImputer`, `StandardScaler`, `OneHotEncoder`, `ColumnTransformer`, `Pipeline`, `LogisticRegresion`, `DecisionTreeClassifier`, `cross_val_score`, `cross_val_predict`, `classification_report`, `confusion_matrix`, and `RocCurveDisplay`. "
   ]
  },
  {
   "cell_type": "code",
   "execution_count": 1,
   "id": "1a22446a",
   "metadata": {
    "execution": {
     "iopub.execute_input": "2023-02-22T18:32:59.282195Z",
     "iopub.status.busy": "2023-02-22T18:32:59.281704Z",
     "iopub.status.idle": "2023-02-22T18:33:00.947262Z",
     "shell.execute_reply": "2023-02-22T18:33:00.945776Z"
    },
    "papermill": {
     "duration": 1.680496,
     "end_time": "2023-02-22T18:33:00.950365",
     "exception": false,
     "start_time": "2023-02-22T18:32:59.269869",
     "status": "completed"
    },
    "tags": []
   },
   "outputs": [],
   "source": [
    "import numpy as np\n",
    "import pandas as pd\n",
    "import matplotlib.pyplot as plt\n",
    "\n",
    "from sklearn.model_selection import cross_val_score, cross_val_predict\n",
    "from sklearn.compose import ColumnTransformer\n",
    "from sklearn.pipeline import Pipeline\n",
    "from sklearn.preprocessing import StandardScaler, OneHotEncoder\n",
    "from sklearn.impute import SimpleImputer\n",
    "from sklearn.linear_model import LogisticRegression\n",
    "from sklearn.tree import DecisionTreeClassifier\n",
    "from sklearn.metrics import classification_report, confusion_matrix, RocCurveDisplay"
   ]
  },
  {
   "cell_type": "markdown",
   "id": "215c07b2",
   "metadata": {
    "papermill": {
     "duration": 0.010845,
     "end_time": "2023-02-22T18:33:00.971188",
     "exception": false,
     "start_time": "2023-02-22T18:33:00.960343",
     "status": "completed"
    },
    "tags": []
   },
   "source": [
    "# Part 1: Load and Process Data"
   ]
  },
  {
   "cell_type": "markdown",
   "id": "cee58a84",
   "metadata": {
    "papermill": {
     "duration": 0.010175,
     "end_time": "2023-02-22T18:33:00.992560",
     "exception": false,
     "start_time": "2023-02-22T18:33:00.982385",
     "status": "completed"
    },
    "tags": []
   },
   "source": [
    "In this assignment, you will be working with data from the 1994 US Census. Our goal will be to create a model to predict whether or not an individual has an annual salary greater than $50,000 based on various demographic factors. You can find more information about the dataset, including a description of the features here: [Census Income Dataset](https://archive.ics.uci.edu/ml/datasets/adult). \n",
    "\n",
    "Note that the label values are stored in the income column. All other columns represent features. All feature columns containing numerical values represent numerical features and all feature columns containing string values represent categorical features.\n",
    "\n",
    "Use the cell below to load the dataset `census.csv` into a DataFrame. Shuffle the DataFrame (setting `random_state=1`), print its shape, and then display the head of the DataFrame. \n"
   ]
  },
  {
   "cell_type": "code",
   "execution_count": 2,
   "id": "8712b265",
   "metadata": {
    "execution": {
     "iopub.execute_input": "2023-02-22T18:33:01.015014Z",
     "iopub.status.busy": "2023-02-22T18:33:01.014589Z",
     "iopub.status.idle": "2023-02-22T18:33:01.196561Z",
     "shell.execute_reply": "2023-02-22T18:33:01.195191Z"
    },
    "papermill": {
     "duration": 0.196762,
     "end_time": "2023-02-22T18:33:01.199102",
     "exception": false,
     "start_time": "2023-02-22T18:33:01.002340",
     "status": "completed"
    },
    "tags": []
   },
   "outputs": [
    {
     "name": "stdout",
     "output_type": "stream",
     "text": [
      "(32561, 15)\n"
     ]
    },
    {
     "data": {
      "text/html": [
       "<div>\n",
       "<style scoped>\n",
       "    .dataframe tbody tr th:only-of-type {\n",
       "        vertical-align: middle;\n",
       "    }\n",
       "\n",
       "    .dataframe tbody tr th {\n",
       "        vertical-align: top;\n",
       "    }\n",
       "\n",
       "    .dataframe thead th {\n",
       "        text-align: right;\n",
       "    }\n",
       "</style>\n",
       "<table border=\"1\" class=\"dataframe\">\n",
       "  <thead>\n",
       "    <tr style=\"text-align: right;\">\n",
       "      <th></th>\n",
       "      <th>age</th>\n",
       "      <th>workclass</th>\n",
       "      <th>fnlwgt</th>\n",
       "      <th>education</th>\n",
       "      <th>educ_num</th>\n",
       "      <th>marital_status</th>\n",
       "      <th>occupation</th>\n",
       "      <th>relationship</th>\n",
       "      <th>race</th>\n",
       "      <th>sex</th>\n",
       "      <th>capital_gain</th>\n",
       "      <th>capital_loss</th>\n",
       "      <th>hrs_per_week</th>\n",
       "      <th>native_country</th>\n",
       "      <th>income</th>\n",
       "    </tr>\n",
       "  </thead>\n",
       "  <tbody>\n",
       "    <tr>\n",
       "      <th>9646</th>\n",
       "      <td>24</td>\n",
       "      <td>Private</td>\n",
       "      <td>336088</td>\n",
       "      <td>HS-grad</td>\n",
       "      <td>9</td>\n",
       "      <td>Divorced</td>\n",
       "      <td>Exec-managerial</td>\n",
       "      <td>Not-in-family</td>\n",
       "      <td>Amer-Indian-Eskimo</td>\n",
       "      <td>Female</td>\n",
       "      <td>0</td>\n",
       "      <td>0</td>\n",
       "      <td>50</td>\n",
       "      <td>United-States</td>\n",
       "      <td>&lt;=50K</td>\n",
       "    </tr>\n",
       "    <tr>\n",
       "      <th>709</th>\n",
       "      <td>34</td>\n",
       "      <td>Federal-gov</td>\n",
       "      <td>190228</td>\n",
       "      <td>Bachelors</td>\n",
       "      <td>13</td>\n",
       "      <td>Married-civ-spouse</td>\n",
       "      <td>Protective-serv</td>\n",
       "      <td>Husband</td>\n",
       "      <td>White</td>\n",
       "      <td>Male</td>\n",
       "      <td>0</td>\n",
       "      <td>1902</td>\n",
       "      <td>48</td>\n",
       "      <td>United-States</td>\n",
       "      <td>&gt;50K</td>\n",
       "    </tr>\n",
       "    <tr>\n",
       "      <th>7385</th>\n",
       "      <td>18</td>\n",
       "      <td>Private</td>\n",
       "      <td>104704</td>\n",
       "      <td>HS-grad</td>\n",
       "      <td>9</td>\n",
       "      <td>Never-married</td>\n",
       "      <td>Adm-clerical</td>\n",
       "      <td>Own-child</td>\n",
       "      <td>Black</td>\n",
       "      <td>Male</td>\n",
       "      <td>0</td>\n",
       "      <td>0</td>\n",
       "      <td>40</td>\n",
       "      <td>United-States</td>\n",
       "      <td>&lt;=50K</td>\n",
       "    </tr>\n",
       "    <tr>\n",
       "      <th>16671</th>\n",
       "      <td>44</td>\n",
       "      <td>Private</td>\n",
       "      <td>36271</td>\n",
       "      <td>Bachelors</td>\n",
       "      <td>13</td>\n",
       "      <td>Married-civ-spouse</td>\n",
       "      <td>Craft-repair</td>\n",
       "      <td>Husband</td>\n",
       "      <td>White</td>\n",
       "      <td>Male</td>\n",
       "      <td>0</td>\n",
       "      <td>0</td>\n",
       "      <td>40</td>\n",
       "      <td>United-States</td>\n",
       "      <td>&lt;=50K</td>\n",
       "    </tr>\n",
       "    <tr>\n",
       "      <th>21932</th>\n",
       "      <td>27</td>\n",
       "      <td>Private</td>\n",
       "      <td>178709</td>\n",
       "      <td>Masters</td>\n",
       "      <td>14</td>\n",
       "      <td>Never-married</td>\n",
       "      <td>Machine-op-inspct</td>\n",
       "      <td>Not-in-family</td>\n",
       "      <td>White</td>\n",
       "      <td>Female</td>\n",
       "      <td>0</td>\n",
       "      <td>0</td>\n",
       "      <td>40</td>\n",
       "      <td>United-States</td>\n",
       "      <td>&lt;=50K</td>\n",
       "    </tr>\n",
       "  </tbody>\n",
       "</table>\n",
       "</div>"
      ],
      "text/plain": [
       "       age    workclass  fnlwgt  education  educ_num      marital_status  \\\n",
       "9646    24      Private  336088    HS-grad         9            Divorced   \n",
       "709     34  Federal-gov  190228  Bachelors        13  Married-civ-spouse   \n",
       "7385    18      Private  104704    HS-grad         9       Never-married   \n",
       "16671   44      Private   36271  Bachelors        13  Married-civ-spouse   \n",
       "21932   27      Private  178709    Masters        14       Never-married   \n",
       "\n",
       "              occupation   relationship                race     sex  \\\n",
       "9646     Exec-managerial  Not-in-family  Amer-Indian-Eskimo  Female   \n",
       "709      Protective-serv        Husband               White    Male   \n",
       "7385        Adm-clerical      Own-child               Black    Male   \n",
       "16671       Craft-repair        Husband               White    Male   \n",
       "21932  Machine-op-inspct  Not-in-family               White  Female   \n",
       "\n",
       "       capital_gain  capital_loss  hrs_per_week native_country income  \n",
       "9646              0             0            50  United-States  <=50K  \n",
       "709               0          1902            48  United-States   >50K  \n",
       "7385              0             0            40  United-States  <=50K  \n",
       "16671             0             0            40  United-States  <=50K  \n",
       "21932             0             0            40  United-States  <=50K  "
      ]
     },
     "execution_count": 2,
     "metadata": {},
     "output_type": "execute_result"
    }
   ],
   "source": [
    "census = pd.read_csv('census.csv')\n",
    "census = census.sample(frac=1, random_state=1)\n",
    "print(census.shape)\n",
    "census.head()"
   ]
  },
  {
   "cell_type": "markdown",
   "id": "5968266f",
   "metadata": {
    "papermill": {
     "duration": 0.009658,
     "end_time": "2023-02-22T18:33:01.219091",
     "exception": false,
     "start_time": "2023-02-22T18:33:01.209433",
     "status": "completed"
    },
    "tags": []
   },
   "source": [
    "Use the `value_counts()` method to display a DataFrame showing the proportions of label observations with each class ('<=50K' or '>50K')."
   ]
  },
  {
   "cell_type": "code",
   "execution_count": 3,
   "id": "1fe41fff",
   "metadata": {
    "execution": {
     "iopub.execute_input": "2023-02-22T18:33:01.241625Z",
     "iopub.status.busy": "2023-02-22T18:33:01.241191Z",
     "iopub.status.idle": "2023-02-22T18:33:01.260354Z",
     "shell.execute_reply": "2023-02-22T18:33:01.259330Z"
    },
    "papermill": {
     "duration": 0.033692,
     "end_time": "2023-02-22T18:33:01.262992",
     "exception": false,
     "start_time": "2023-02-22T18:33:01.229300",
     "status": "completed"
    },
    "tags": []
   },
   "outputs": [
    {
     "data": {
      "text/html": [
       "<div>\n",
       "<style scoped>\n",
       "    .dataframe tbody tr th:only-of-type {\n",
       "        vertical-align: middle;\n",
       "    }\n",
       "\n",
       "    .dataframe tbody tr th {\n",
       "        vertical-align: top;\n",
       "    }\n",
       "\n",
       "    .dataframe thead th {\n",
       "        text-align: right;\n",
       "    }\n",
       "</style>\n",
       "<table border=\"1\" class=\"dataframe\">\n",
       "  <thead>\n",
       "    <tr style=\"text-align: right;\">\n",
       "      <th></th>\n",
       "      <th>income</th>\n",
       "    </tr>\n",
       "  </thead>\n",
       "  <tbody>\n",
       "    <tr>\n",
       "      <th>&lt;=50K</th>\n",
       "      <td>0.75919</td>\n",
       "    </tr>\n",
       "    <tr>\n",
       "      <th>&gt;50K</th>\n",
       "      <td>0.24081</td>\n",
       "    </tr>\n",
       "  </tbody>\n",
       "</table>\n",
       "</div>"
      ],
      "text/plain": [
       "        income\n",
       "<=50K  0.75919\n",
       ">50K   0.24081"
      ]
     },
     "execution_count": 3,
     "metadata": {},
     "output_type": "execute_result"
    }
   ],
   "source": [
    "census.income.value_counts(normalize=True).to_frame()"
   ]
  },
  {
   "cell_type": "markdown",
   "id": "617e1dc3",
   "metadata": {
    "papermill": {
     "duration": 0.010062,
     "end_time": "2023-02-22T18:33:01.283740",
     "exception": false,
     "start_time": "2023-02-22T18:33:01.273678",
     "status": "completed"
    },
    "tags": []
   },
   "source": [
    "Use the `isnull()` method to display a DataFrame showing the number of missing values in each column. Use the `T` (or transpose) attribute to display the DataFrame as a single row."
   ]
  },
  {
   "cell_type": "code",
   "execution_count": 4,
   "id": "d266a4c1",
   "metadata": {
    "execution": {
     "iopub.execute_input": "2023-02-22T18:33:01.307331Z",
     "iopub.status.busy": "2023-02-22T18:33:01.306643Z",
     "iopub.status.idle": "2023-02-22T18:33:01.335539Z",
     "shell.execute_reply": "2023-02-22T18:33:01.334210Z"
    },
    "papermill": {
     "duration": 0.044125,
     "end_time": "2023-02-22T18:33:01.338317",
     "exception": false,
     "start_time": "2023-02-22T18:33:01.294192",
     "status": "completed"
    },
    "tags": []
   },
   "outputs": [
    {
     "data": {
      "text/html": [
       "<div>\n",
       "<style scoped>\n",
       "    .dataframe tbody tr th:only-of-type {\n",
       "        vertical-align: middle;\n",
       "    }\n",
       "\n",
       "    .dataframe tbody tr th {\n",
       "        vertical-align: top;\n",
       "    }\n",
       "\n",
       "    .dataframe thead th {\n",
       "        text-align: right;\n",
       "    }\n",
       "</style>\n",
       "<table border=\"1\" class=\"dataframe\">\n",
       "  <thead>\n",
       "    <tr style=\"text-align: right;\">\n",
       "      <th></th>\n",
       "      <th>age</th>\n",
       "      <th>workclass</th>\n",
       "      <th>fnlwgt</th>\n",
       "      <th>education</th>\n",
       "      <th>educ_num</th>\n",
       "      <th>marital_status</th>\n",
       "      <th>occupation</th>\n",
       "      <th>relationship</th>\n",
       "      <th>race</th>\n",
       "      <th>sex</th>\n",
       "      <th>capital_gain</th>\n",
       "      <th>capital_loss</th>\n",
       "      <th>hrs_per_week</th>\n",
       "      <th>native_country</th>\n",
       "      <th>income</th>\n",
       "    </tr>\n",
       "  </thead>\n",
       "  <tbody>\n",
       "    <tr>\n",
       "      <th>0</th>\n",
       "      <td>0</td>\n",
       "      <td>1836</td>\n",
       "      <td>0</td>\n",
       "      <td>0</td>\n",
       "      <td>0</td>\n",
       "      <td>0</td>\n",
       "      <td>1843</td>\n",
       "      <td>0</td>\n",
       "      <td>0</td>\n",
       "      <td>0</td>\n",
       "      <td>0</td>\n",
       "      <td>0</td>\n",
       "      <td>0</td>\n",
       "      <td>583</td>\n",
       "      <td>0</td>\n",
       "    </tr>\n",
       "  </tbody>\n",
       "</table>\n",
       "</div>"
      ],
      "text/plain": [
       "   age  workclass  fnlwgt  education  educ_num  marital_status  occupation  \\\n",
       "0    0       1836       0          0         0               0        1843   \n",
       "\n",
       "   relationship  race  sex  capital_gain  capital_loss  hrs_per_week  \\\n",
       "0             0     0    0             0             0             0   \n",
       "\n",
       "   native_country  income  \n",
       "0             583       0  "
      ]
     },
     "execution_count": 4,
     "metadata": {},
     "output_type": "execute_result"
    }
   ],
   "source": [
    "census.isnull().sum().to_frame().T"
   ]
  },
  {
   "cell_type": "markdown",
   "id": "420a08d8",
   "metadata": {
    "papermill": {
     "duration": 0.01037,
     "end_time": "2023-02-22T18:33:01.359404",
     "exception": false,
     "start_time": "2023-02-22T18:33:01.349034",
     "status": "completed"
    },
    "tags": []
   },
   "source": [
    "Create lists (or arrays) containing the names of the numerical and categorical features. Print these lists along with messages indicating which features are numerical and which are categorical. "
   ]
  },
  {
   "cell_type": "code",
   "execution_count": 5,
   "id": "f27174f7",
   "metadata": {},
   "outputs": [
    {
     "data": {
      "text/plain": [
       "array(['age', 'workclass', 'fnlwgt', 'education', 'educ_num',\n",
       "       'marital_status', 'occupation', 'relationship', 'race', 'sex',\n",
       "       'capital_gain', 'capital_loss', 'hrs_per_week', 'native_country',\n",
       "       'income'], dtype=object)"
      ]
     },
     "execution_count": 5,
     "metadata": {},
     "output_type": "execute_result"
    }
   ],
   "source": [
    "census.columns.values"
   ]
  },
  {
   "cell_type": "code",
   "execution_count": 6,
   "id": "6535a25d",
   "metadata": {
    "execution": {
     "iopub.execute_input": "2023-02-22T18:33:01.383592Z",
     "iopub.status.busy": "2023-02-22T18:33:01.383127Z",
     "iopub.status.idle": "2023-02-22T18:33:01.390067Z",
     "shell.execute_reply": "2023-02-22T18:33:01.388919Z"
    },
    "papermill": {
     "duration": 0.022507,
     "end_time": "2023-02-22T18:33:01.393188",
     "exception": false,
     "start_time": "2023-02-22T18:33:01.370681",
     "status": "completed"
    },
    "tags": []
   },
   "outputs": [
    {
     "name": "stdout",
     "output_type": "stream",
     "text": [
      "Numerical features:  ['age', 'fnlwgt', 'capital_gain', 'capital_loss', 'hrs_per_week']\n",
      "Categorical featurs: ['workclass', 'education', 'educ_num', 'marital_status', 'occupation', 'relationship', 'race', 'sex', 'native_country']\n"
     ]
    }
   ],
   "source": [
    "num_features = ['age', 'fnlwgt', 'capital_gain', 'capital_loss', 'hrs_per_week']\n",
    "cat_features = ['workclass', 'education', 'educ_num', 'marital_status', 'occupation',\n",
    "                'relationship', 'race', 'sex', 'native_country']\n",
    "print(f\"Numerical features:  {num_features}\")\n",
    "print(f\"Categorical featurs: {cat_features}\")"
   ]
  },
  {
   "cell_type": "markdown",
   "id": "08378ba8",
   "metadata": {
    "papermill": {
     "duration": 0.011006,
     "end_time": "2023-02-22T18:33:01.415060",
     "exception": false,
     "start_time": "2023-02-22T18:33:01.404054",
     "status": "completed"
    },
    "tags": []
   },
   "source": [
    "Use the `nunique()` method to display a DataFrame showing the number of levels for each categorical feature. Use the `T` (or transpose) attribute to display the DataFrame as a single row."
   ]
  },
  {
   "cell_type": "code",
   "execution_count": 7,
   "id": "fc2c2448",
   "metadata": {
    "execution": {
     "iopub.execute_input": "2023-02-22T18:33:01.438867Z",
     "iopub.status.busy": "2023-02-22T18:33:01.437878Z",
     "iopub.status.idle": "2023-02-22T18:33:01.474889Z",
     "shell.execute_reply": "2023-02-22T18:33:01.473466Z"
    },
    "papermill": {
     "duration": 0.051895,
     "end_time": "2023-02-22T18:33:01.477719",
     "exception": false,
     "start_time": "2023-02-22T18:33:01.425824",
     "status": "completed"
    },
    "tags": []
   },
   "outputs": [
    {
     "data": {
      "text/html": [
       "<div>\n",
       "<style scoped>\n",
       "    .dataframe tbody tr th:only-of-type {\n",
       "        vertical-align: middle;\n",
       "    }\n",
       "\n",
       "    .dataframe tbody tr th {\n",
       "        vertical-align: top;\n",
       "    }\n",
       "\n",
       "    .dataframe thead th {\n",
       "        text-align: right;\n",
       "    }\n",
       "</style>\n",
       "<table border=\"1\" class=\"dataframe\">\n",
       "  <thead>\n",
       "    <tr style=\"text-align: right;\">\n",
       "      <th></th>\n",
       "      <th>workclass</th>\n",
       "      <th>education</th>\n",
       "      <th>educ_num</th>\n",
       "      <th>marital_status</th>\n",
       "      <th>occupation</th>\n",
       "      <th>relationship</th>\n",
       "      <th>race</th>\n",
       "      <th>sex</th>\n",
       "      <th>native_country</th>\n",
       "    </tr>\n",
       "  </thead>\n",
       "  <tbody>\n",
       "    <tr>\n",
       "      <th>0</th>\n",
       "      <td>8</td>\n",
       "      <td>16</td>\n",
       "      <td>16</td>\n",
       "      <td>7</td>\n",
       "      <td>14</td>\n",
       "      <td>6</td>\n",
       "      <td>5</td>\n",
       "      <td>2</td>\n",
       "      <td>41</td>\n",
       "    </tr>\n",
       "  </tbody>\n",
       "</table>\n",
       "</div>"
      ],
      "text/plain": [
       "   workclass  education  educ_num  marital_status  occupation  relationship  \\\n",
       "0          8         16        16               7          14             6   \n",
       "\n",
       "   race  sex  native_country  \n",
       "0     5    2              41  "
      ]
     },
     "execution_count": 7,
     "metadata": {},
     "output_type": "execute_result"
    }
   ],
   "source": [
    "census[cat_features].nunique().to_frame().T"
   ]
  },
  {
   "cell_type": "markdown",
   "id": "2b9100b0",
   "metadata": {
    "papermill": {
     "duration": 0.010518,
     "end_time": "2023-02-22T18:33:01.499079",
     "exception": false,
     "start_time": "2023-02-22T18:33:01.488561",
     "status": "completed"
    },
    "tags": []
   },
   "source": [
    "Create two `Pipeline` objects, one for the numerical features and another for the categorical features. The numerical feature pipeline should contain a `SimpleImputer` with `strategy='mean'` as well as a `StandardScaler`. The categorical transformer should contain a `SimpleImputer` with `strategy='constant'` and `fill_value='Missing'`, as well as a `OneHotEncoder` with `handle_unknown='ignore'` and `sparse=False`. \n",
    "\n",
    "Combine the two pipelines into a `ColumnTransformer`, applying each pipeline to the correct features. \n",
    "\n",
    "Then create a label array named `y` and use the `ColumnTransformer` to create a feature array `X`. Print the shape of `X`. "
   ]
  },
  {
   "cell_type": "code",
   "execution_count": 8,
   "id": "1d15d74a",
   "metadata": {
    "execution": {
     "iopub.execute_input": "2023-02-22T18:33:01.523432Z",
     "iopub.status.busy": "2023-02-22T18:33:01.522986Z",
     "iopub.status.idle": "2023-02-22T18:33:01.698578Z",
     "shell.execute_reply": "2023-02-22T18:33:01.697099Z"
    },
    "papermill": {
     "duration": 0.191306,
     "end_time": "2023-02-22T18:33:01.701324",
     "exception": false,
     "start_time": "2023-02-22T18:33:01.510018",
     "status": "completed"
    },
    "tags": []
   },
   "outputs": [
    {
     "name": "stdout",
     "output_type": "stream",
     "text": [
      "(32561, 123)\n"
     ]
    }
   ],
   "source": [
    "num_transformer = Pipeline(\n",
    "    steps = [\n",
    "        ('imputer', SimpleImputer(strategy='mean')),\n",
    "        ('scaler', StandardScaler())\n",
    "    ]\n",
    ")\n",
    "\n",
    "cat_transformer = Pipeline(\n",
    "    steps = [\n",
    "        ('imputer', SimpleImputer(strategy = 'constant', fill_value = 'Missing')),\n",
    "        ('encoder', OneHotEncoder(sparse_output = False, handle_unknown = 'ignore'))\n",
    "    ]\n",
    ")\n",
    "\n",
    "preprocessor = ColumnTransformer(\n",
    "    transformers = [\n",
    "        ('num', num_transformer, num_features),\n",
    "        ('cat', cat_transformer, cat_features)\n",
    "    ]\n",
    ")\n",
    "\n",
    "y = census.income\n",
    "X = preprocessor.fit_transform(census)\n",
    "print(X.shape)"
   ]
  },
  {
   "cell_type": "markdown",
   "id": "cfc754d7",
   "metadata": {
    "papermill": {
     "duration": 0.01068,
     "end_time": "2023-02-22T18:33:01.722878",
     "exception": false,
     "start_time": "2023-02-22T18:33:01.712198",
     "status": "completed"
    },
    "tags": []
   },
   "source": [
    "# Part 2: Compare Models"
   ]
  },
  {
   "cell_type": "markdown",
   "id": "12ef7ef9",
   "metadata": {
    "papermill": {
     "duration": 0.010352,
     "end_time": "2023-02-22T18:33:01.744179",
     "exception": false,
     "start_time": "2023-02-22T18:33:01.733827",
     "status": "completed"
    },
    "tags": []
   },
   "source": [
    "Create a logistic regression model, setting `penalty='none'`. Estimate the model's out-of-sample accuracy using 10-cross validation. Print the result rounded to 4 decimal places in a message of the following form: `\"CV Score: ----\"`. You might need to adjust the `max_iter` parameter of your model to avoid convergence warnings. Note that you are not asked to actually fit a model on the full dataset at this point. "
   ]
  },
  {
   "cell_type": "code",
   "execution_count": 9,
   "id": "7853db87",
   "metadata": {
    "execution": {
     "iopub.execute_input": "2023-02-22T18:33:01.768678Z",
     "iopub.status.busy": "2023-02-22T18:33:01.767904Z",
     "iopub.status.idle": "2023-02-22T18:34:10.346292Z",
     "shell.execute_reply": "2023-02-22T18:34:10.344663Z"
    },
    "papermill": {
     "duration": 68.621768,
     "end_time": "2023-02-22T18:34:10.377376",
     "exception": false,
     "start_time": "2023-02-22T18:33:01.755608",
     "status": "completed"
    },
    "tags": []
   },
   "outputs": [
    {
     "name": "stdout",
     "output_type": "stream",
     "text": [
      "CV Score: 0.8521\n"
     ]
    }
   ],
   "source": [
    "log_reg = LogisticRegression(penalty=None, max_iter=1000)\n",
    "print(f\"CV Score: {np.round(cross_val_score(log_reg, X, y, cv=10).mean(), 4)}\")"
   ]
  },
  {
   "cell_type": "markdown",
   "id": "0fb11704",
   "metadata": {
    "papermill": {
     "duration": 0.026828,
     "end_time": "2023-02-22T18:34:10.431768",
     "exception": false,
     "start_time": "2023-02-22T18:34:10.404940",
     "status": "completed"
    },
    "tags": []
   },
   "source": [
    "Perform the following tasks in the cell below:\n",
    "1. Create an empty list named `scores`.\n",
    "2. Create a list named `depth_list` containing potential `max_depth` values to use for a decision tree model. \n",
    "3. Loop over the values of `depth_list`. For each iteration of the loop, perform the following steps:\n",
    "    A. Create a `DecisionTreeClassifier` with the current value for `max_depth` and with `random_state=1`. \n",
    "    B. Estimate the out-of-sample accuracy for the model using 10-fold cross-validation.\n",
    "    C. Append the CV score to the `scores` list. \n",
    "4. Use `np.max()` and `np.argmax()` to determine the best CV score obtained, and the value of `max_depth` that produced it. \n",
    "5. Print the best score and best hyperparameter value found in Step 4. Add text of the form `\"Best CV Score:\"` and `\"Best Max Depth:\"` to explain what the values are. \n",
    "\n",
    "After running this, you might need to adjust your depth list to make sure that you are considering a good range of values. Your goal is to find the best possible maximum depth, but also to demonstrate (with reasonable certainty) that this is, in fact, the best possible value. "
   ]
  },
  {
   "cell_type": "code",
   "execution_count": 10,
   "id": "9c39cd6e",
   "metadata": {
    "execution": {
     "iopub.execute_input": "2023-02-22T18:34:10.462677Z",
     "iopub.status.busy": "2023-02-22T18:34:10.462187Z",
     "iopub.status.idle": "2023-02-22T18:34:44.138344Z",
     "shell.execute_reply": "2023-02-22T18:34:44.136865Z"
    },
    "papermill": {
     "duration": 33.701153,
     "end_time": "2023-02-22T18:34:44.151046",
     "exception": false,
     "start_time": "2023-02-22T18:34:10.449893",
     "status": "completed"
    },
    "tags": []
   },
   "outputs": [
    {
     "name": "stdout",
     "output_type": "stream",
     "text": [
      "\n",
      "Best CV score:  0.8577\n",
      "Best Max Depth: 12\n",
      "\n"
     ]
    }
   ],
   "source": [
    "scores = []\n",
    "depth_list = list(range(2, 21, 1))\n",
    "for dep in depth_list:\n",
    "    temp_model = DecisionTreeClassifier(max_depth=dep, random_state=1)\n",
    "    scores.append(cross_val_score(temp_model, X, y, scoring=\"accuracy\", cv=10).mean())\n",
    "\n",
    "max_value = np.max(scores)\n",
    "max_idx = np.argmax(scores)\n",
    "\n",
    "print(f\"\"\"\n",
    "Best CV score:  {np.round(max_value, 4)}\n",
    "Best Max Depth: {depth_list[max_idx]}\n",
    "\"\"\")"
   ]
  },
  {
   "cell_type": "markdown",
   "id": "261bc554",
   "metadata": {
    "papermill": {
     "duration": 0.010784,
     "end_time": "2023-02-22T18:34:44.172790",
     "exception": false,
     "start_time": "2023-02-22T18:34:44.162006",
     "status": "completed"
    },
    "tags": []
   },
   "source": [
    "Create a plot that shows how the CV-scores vary with the maximum depth. Label the x-axis as \"max_depth\" and the y-axis as \"CV Score\". \n",
    "\n",
    "Your plot should demonstrate a clear peak in the CV scores. If it does not, please adjust `depth_list` in the previous cell accordingly. "
   ]
  },
  {
   "cell_type": "code",
   "execution_count": 11,
   "id": "42b968e1",
   "metadata": {
    "execution": {
     "iopub.execute_input": "2023-02-22T18:34:44.196929Z",
     "iopub.status.busy": "2023-02-22T18:34:44.196489Z",
     "iopub.status.idle": "2023-02-22T18:34:44.389959Z",
     "shell.execute_reply": "2023-02-22T18:34:44.389041Z"
    },
    "papermill": {
     "duration": 0.208639,
     "end_time": "2023-02-22T18:34:44.392355",
     "exception": false,
     "start_time": "2023-02-22T18:34:44.183716",
     "status": "completed"
    },
    "tags": []
   },
   "outputs": [
    {
     "data": {
      "image/png": "[encoded data removed]",
      "text/plain": [
       "<Figure size 640x480 with 1 Axes>"
      ]
     },
     "metadata": {},
     "output_type": "display_data"
    }
   ],
   "source": [
    "plt.plot(depth_list, scores)\n",
    "plt.xlabel(\"max_depth\")\n",
    "plt.ylabel(\"CV Score\")\n",
    "plt.xticks(depth_list)\n",
    "plt.grid()\n",
    "plt.show()"
   ]
  },
  {
   "cell_type": "markdown",
   "id": "a317e6d2",
   "metadata": {
    "papermill": {
     "duration": 0.011122,
     "end_time": "2023-02-22T18:34:44.415810",
     "exception": false,
     "start_time": "2023-02-22T18:34:44.404688",
     "status": "completed"
    },
    "tags": []
   },
   "source": [
    "# Part 3: Analyze Final Model"
   ]
  },
  {
   "cell_type": "markdown",
   "id": "860e46e8",
   "metadata": {
    "papermill": {
     "duration": 0.010999,
     "end_time": "2023-02-22T18:34:44.438317",
     "exception": false,
     "start_time": "2023-02-22T18:34:44.427318",
     "status": "completed"
    },
    "tags": []
   },
   "source": [
    "Identify the model with the best CV score, whether that is the logistic regression model, or a decision tree model with a specific value for `max_depth`. Use the cell below to recreate that model, naming it `final_model` (or something similar). Then fit the model to the entire dataset. Finally, print the training accuracy rounded to 4 decimal places. "
   ]
  },
  {
   "cell_type": "code",
   "execution_count": 12,
   "id": "bab2c677",
   "metadata": {
    "execution": {
     "iopub.execute_input": "2023-02-22T18:34:44.463675Z",
     "iopub.status.busy": "2023-02-22T18:34:44.463201Z",
     "iopub.status.idle": "2023-02-22T18:34:44.885671Z",
     "shell.execute_reply": "2023-02-22T18:34:44.883331Z"
    },
    "papermill": {
     "duration": 0.440036,
     "end_time": "2023-02-22T18:34:44.890150",
     "exception": false,
     "start_time": "2023-02-22T18:34:44.450114",
     "status": "completed"
    },
    "tags": []
   },
   "outputs": [
    {
     "name": "stdout",
     "output_type": "stream",
     "text": [
      "Training Accuracy: 0.881\n"
     ]
    }
   ],
   "source": [
    "final_model = DecisionTreeClassifier(max_depth=depth_list[max_idx], random_state=1)\n",
    "final_model.fit(X, y)\n",
    "print(f\"Training Accuracy: {np.round(final_model.score(X, y), 4)}\")"
   ]
  },
  {
   "cell_type": "markdown",
   "id": "77c191c6",
   "metadata": {
    "papermill": {
     "duration": 0.011394,
     "end_time": "2023-02-22T18:34:44.914034",
     "exception": false,
     "start_time": "2023-02-22T18:34:44.902640",
     "status": "completed"
    },
    "tags": []
   },
   "source": [
    "Use `cross_val_score()` to estimate the out-of-sample accuracy and the out-of-sample AUC scores for the final model. Print both scores rounded to 4 decimal places, and with text indicating what the values represent. "
   ]
  },
  {
   "cell_type": "code",
   "execution_count": 13,
   "id": "b7cbc14e",
   "metadata": {
    "execution": {
     "iopub.execute_input": "2023-02-22T18:34:44.939482Z",
     "iopub.status.busy": "2023-02-22T18:34:44.938662Z",
     "iopub.status.idle": "2023-02-22T18:34:50.260251Z",
     "shell.execute_reply": "2023-02-22T18:34:50.258693Z"
    },
    "papermill": {
     "duration": 5.337197,
     "end_time": "2023-02-22T18:34:50.263151",
     "exception": false,
     "start_time": "2023-02-22T18:34:44.925954",
     "status": "completed"
    },
    "tags": []
   },
   "outputs": [
    {
     "name": "stdout",
     "output_type": "stream",
     "text": [
      "\n",
      "CV Accuracy:  0.8577\n",
      "CV AUC:       0.8809\n",
      "\n"
     ]
    }
   ],
   "source": [
    "print(f\"\"\"\n",
    "CV Accuracy:  {np.round(cross_val_score(final_model, X, y, scoring='accuracy', cv=10).mean(), 4)}\n",
    "CV AUC:       {np.round(cross_val_score(final_model, X, y, scoring='roc_auc').mean(), 4)}\n",
    "\"\"\")"
   ]
  },
  {
   "cell_type": "markdown",
   "id": "60b6d410",
   "metadata": {
    "papermill": {
     "duration": 0.010971,
     "end_time": "2023-02-22T18:34:50.285624",
     "exception": false,
     "start_time": "2023-02-22T18:34:50.274653",
     "status": "completed"
    },
    "tags": []
   },
   "source": [
    "Use `cross_val_predict()` to generate out-of-sample class predictions as well as out-of-sample class probability estimates. Use 10-fold CV in both cases and store the results in arrays. Print the shapes of the two arrays. "
   ]
  },
  {
   "cell_type": "code",
   "execution_count": 14,
   "id": "b20056e2",
   "metadata": {
    "execution": {
     "iopub.execute_input": "2023-02-22T18:34:50.310299Z",
     "iopub.status.busy": "2023-02-22T18:34:50.309859Z",
     "iopub.status.idle": "2023-02-22T18:34:56.321913Z",
     "shell.execute_reply": "2023-02-22T18:34:56.320326Z"
    },
    "papermill": {
     "duration": 6.027679,
     "end_time": "2023-02-22T18:34:56.324544",
     "exception": false,
     "start_time": "2023-02-22T18:34:50.296865",
     "status": "completed"
    },
    "tags": []
   },
   "outputs": [
    {
     "name": "stdout",
     "output_type": "stream",
     "text": [
      "(32561,)\n",
      "(32561, 2)\n"
     ]
    }
   ],
   "source": [
    "cv_predict = cross_val_predict(final_model, X, y, cv=10)\n",
    "cv_predict_proba = cross_val_predict(final_model, X, y, cv=10, method='predict_proba')\n",
    "\n",
    "print(cv_predict.shape)\n",
    "print(cv_predict_proba.shape)"
   ]
  },
  {
   "cell_type": "markdown",
   "id": "da09f744",
   "metadata": {
    "papermill": {
     "duration": 0.011688,
     "end_time": "2023-02-22T18:34:56.347602",
     "exception": false,
     "start_time": "2023-02-22T18:34:56.335914",
     "status": "completed"
    },
    "tags": []
   },
   "source": [
    "Use the out-of-sample class predictions to create a confusion matrix. Display the confusion matrix as a DataFrame, with rows and columns labeled `'<=50K'` and `'>50K'`. \n"
   ]
  },
  {
   "cell_type": "code",
   "execution_count": 15,
   "id": "1f6e1d71",
   "metadata": {
    "execution": {
     "iopub.execute_input": "2023-02-22T18:34:56.373749Z",
     "iopub.status.busy": "2023-02-22T18:34:56.373016Z",
     "iopub.status.idle": "2023-02-22T18:34:56.532131Z",
     "shell.execute_reply": "2023-02-22T18:34:56.530776Z"
    },
    "papermill": {
     "duration": 0.175798,
     "end_time": "2023-02-22T18:34:56.534905",
     "exception": false,
     "start_time": "2023-02-22T18:34:56.359107",
     "status": "completed"
    },
    "tags": []
   },
   "outputs": [
    {
     "data": {
      "text/html": [
       "<div>\n",
       "<style scoped>\n",
       "    .dataframe tbody tr th:only-of-type {\n",
       "        vertical-align: middle;\n",
       "    }\n",
       "\n",
       "    .dataframe tbody tr th {\n",
       "        vertical-align: top;\n",
       "    }\n",
       "\n",
       "    .dataframe thead th {\n",
       "        text-align: right;\n",
       "    }\n",
       "</style>\n",
       "<table border=\"1\" class=\"dataframe\">\n",
       "  <thead>\n",
       "    <tr style=\"text-align: right;\">\n",
       "      <th></th>\n",
       "      <th>&lt;=50K</th>\n",
       "      <th>&gt;50K</th>\n",
       "    </tr>\n",
       "  </thead>\n",
       "  <tbody>\n",
       "    <tr>\n",
       "      <th>&lt;=50K</th>\n",
       "      <td>23221</td>\n",
       "      <td>1499</td>\n",
       "    </tr>\n",
       "    <tr>\n",
       "      <th>&gt;50K</th>\n",
       "      <td>3134</td>\n",
       "      <td>4707</td>\n",
       "    </tr>\n",
       "  </tbody>\n",
       "</table>\n",
       "</div>"
      ],
      "text/plain": [
       "       <=50K  >50K\n",
       "<=50K  23221  1499\n",
       ">50K    3134  4707"
      ]
     },
     "execution_count": 15,
     "metadata": {},
     "output_type": "execute_result"
    }
   ],
   "source": [
    "cm = confusion_matrix(y, cv_predict)\n",
    "pd.DataFrame(cm, columns=['<=50K', '>50K'], index=['<=50K', '>50K'])"
   ]
  },
  {
   "cell_type": "markdown",
   "id": "4d53b399",
   "metadata": {
    "papermill": {
     "duration": 0.011177,
     "end_time": "2023-02-22T18:34:56.557816",
     "exception": false,
     "start_time": "2023-02-22T18:34:56.546639",
     "status": "completed"
    },
    "tags": []
   },
   "source": [
    "Use the out-of-sample class predictions to create and print a classification report. "
   ]
  },
  {
   "cell_type": "code",
   "execution_count": 16,
   "id": "67a3b9d3",
   "metadata": {
    "execution": {
     "iopub.execute_input": "2023-02-22T18:34:56.582614Z",
     "iopub.status.busy": "2023-02-22T18:34:56.581874Z",
     "iopub.status.idle": "2023-02-22T18:34:57.826788Z",
     "shell.execute_reply": "2023-02-22T18:34:57.824915Z"
    },
    "papermill": {
     "duration": 1.260637,
     "end_time": "2023-02-22T18:34:57.829902",
     "exception": false,
     "start_time": "2023-02-22T18:34:56.569265",
     "status": "completed"
    },
    "tags": []
   },
   "outputs": [
    {
     "name": "stdout",
     "output_type": "stream",
     "text": [
      "              precision    recall  f1-score   support\n",
      "\n",
      "       <=50K       0.88      0.94      0.91     24720\n",
      "        >50K       0.76      0.60      0.67      7841\n",
      "\n",
      "    accuracy                           0.86     32561\n",
      "   macro avg       0.82      0.77      0.79     32561\n",
      "weighted avg       0.85      0.86      0.85     32561\n",
      "\n"
     ]
    }
   ],
   "source": [
    "print(classification_report(y, cv_predict))"
   ]
  },
  {
   "cell_type": "markdown",
   "id": "60b63e84",
   "metadata": {
    "papermill": {
     "duration": 0.012063,
     "end_time": "2023-02-22T18:34:57.854857",
     "exception": false,
     "start_time": "2023-02-22T18:34:57.842794",
     "status": "completed"
    },
    "tags": []
   },
   "source": [
    "Use the out-of-sample class probability estimates to dispay an ROC curve. You will need to set `pos_label='>50K'`. "
   ]
  },
  {
   "cell_type": "code",
   "execution_count": 17,
   "id": "76bbe6cd",
   "metadata": {
    "execution": {
     "iopub.execute_input": "2023-02-22T18:34:57.881498Z",
     "iopub.status.busy": "2023-02-22T18:34:57.880065Z",
     "iopub.status.idle": "2023-02-22T18:34:58.158643Z",
     "shell.execute_reply": "2023-02-22T18:34:58.157328Z"
    },
    "papermill": {
     "duration": 0.294855,
     "end_time": "2023-02-22T18:34:58.161599",
     "exception": false,
     "start_time": "2023-02-22T18:34:57.866744",
     "status": "completed"
    },
    "tags": []
   },
   "outputs": [
    {
     "data": {
      "image/png": "[encoded data removed]",
      "text/plain": [
       "<Figure size 640x480 with 1 Axes>"
      ]
     },
     "metadata": {},
     "output_type": "display_data"
    }
   ],
   "source": [
    "roc_curve = RocCurveDisplay.from_predictions(y, cv_predict_proba[:, 1], pos_label='>50K')"
   ]
  },
  {
   "cell_type": "markdown",
   "id": "f8338b8c",
   "metadata": {
    "papermill": {
     "duration": 0.011765,
     "end_time": "2023-02-22T18:34:58.185630",
     "exception": false,
     "start_time": "2023-02-22T18:34:58.173865",
     "status": "completed"
    },
    "tags": []
   },
   "source": [
    "In the cell below, you will determine the classification threshold that will result in a recall of at least 0.8 for the label `'>50K'`. Partial code has been provided for you. You need to do the following:\n",
    "1. Set a value for `t`.\n",
    "2. Set the indices for `cv_prob` to select the estimated probabilities for the label `'>50K'`. \n",
    "3. Adjust the values of `t` so that the recall for `'>50K'` is at least 0.8, but is also as close as posible to 0.8."
   ]
  },
  {
   "cell_type": "code",
   "execution_count": 18,
   "id": "47c14d2a",
   "metadata": {
    "execution": {
     "iopub.execute_input": "2023-02-22T18:34:58.212386Z",
     "iopub.status.busy": "2023-02-22T18:34:58.211897Z",
     "iopub.status.idle": "2023-02-22T18:34:59.261341Z",
     "shell.execute_reply": "2023-02-22T18:34:59.259535Z"
    },
    "papermill": {
     "duration": 1.066631,
     "end_time": "2023-02-22T18:34:59.264429",
     "exception": false,
     "start_time": "2023-02-22T18:34:58.197798",
     "status": "completed"
    },
    "scrolled": true,
    "tags": []
   },
   "outputs": [
    {
     "name": "stdout",
     "output_type": "stream",
     "text": [
      "              precision    recall  f1-score   support\n",
      "\n",
      "       <=50K       0.93      0.82      0.87     24720\n",
      "        >50K       0.59      0.79      0.67      7841\n",
      "\n",
      "    accuracy                           0.82     32561\n",
      "   macro avg       0.76      0.81      0.77     32561\n",
      "weighted avg       0.84      0.82      0.82     32561\n",
      "\n"
     ]
    }
   ],
   "source": [
    "t = 0.3\n",
    "\n",
    "adj_pred = np.where(cv_predict_proba[:,1]<t, '<=50K', '>50K')\n",
    "print(classification_report(y, adj_pred))"
   ]
  },
  {
   "cell_type": "markdown",
   "id": "c69580d9",
   "metadata": {
    "papermill": {
     "duration": 0.01166,
     "end_time": "2023-02-22T18:34:59.288556",
     "exception": false,
     "start_time": "2023-02-22T18:34:59.276896",
     "status": "completed"
    },
    "tags": []
   },
   "source": [
    "# Part 4: Applying the Model to New Observations"
   ]
  },
  {
   "cell_type": "markdown",
   "id": "35196f1e",
   "metadata": {
    "papermill": {
     "duration": 0.011823,
     "end_time": "2023-02-22T18:34:59.313491",
     "exception": false,
     "start_time": "2023-02-22T18:34:59.301668",
     "status": "completed"
    },
    "tags": []
   },
   "source": [
    "We will now apply our final model to a new set of observations. The new observations are stored in the CSV file `census_new.csv`. Load these observations into a new DataFrame. Print the shape of the DataFrame and display it. **Do not shuffle the DataFrame.**"
   ]
  },
  {
   "cell_type": "code",
   "execution_count": 19,
   "id": "b3b69a6f",
   "metadata": {
    "execution": {
     "iopub.execute_input": "2023-02-22T18:34:59.339246Z",
     "iopub.status.busy": "2023-02-22T18:34:59.338840Z",
     "iopub.status.idle": "2023-02-22T18:34:59.373951Z",
     "shell.execute_reply": "2023-02-22T18:34:59.371842Z"
    },
    "papermill": {
     "duration": 0.051424,
     "end_time": "2023-02-22T18:34:59.376901",
     "exception": false,
     "start_time": "2023-02-22T18:34:59.325477",
     "status": "completed"
    },
    "tags": []
   },
   "outputs": [
    {
     "name": "stdout",
     "output_type": "stream",
     "text": [
      "(10, 14)\n"
     ]
    },
    {
     "data": {
      "text/html": [
       "<div>\n",
       "<style scoped>\n",
       "    .dataframe tbody tr th:only-of-type {\n",
       "        vertical-align: middle;\n",
       "    }\n",
       "\n",
       "    .dataframe tbody tr th {\n",
       "        vertical-align: top;\n",
       "    }\n",
       "\n",
       "    .dataframe thead th {\n",
       "        text-align: right;\n",
       "    }\n",
       "</style>\n",
       "<table border=\"1\" class=\"dataframe\">\n",
       "  <thead>\n",
       "    <tr style=\"text-align: right;\">\n",
       "      <th></th>\n",
       "      <th>age</th>\n",
       "      <th>workclass</th>\n",
       "      <th>fnlwgt</th>\n",
       "      <th>education</th>\n",
       "      <th>educ_num</th>\n",
       "      <th>marital_status</th>\n",
       "      <th>occupation</th>\n",
       "      <th>relationship</th>\n",
       "      <th>race</th>\n",
       "      <th>sex</th>\n",
       "      <th>capital_gain</th>\n",
       "      <th>capital_loss</th>\n",
       "      <th>hrs_per_week</th>\n",
       "      <th>native_country</th>\n",
       "    </tr>\n",
       "  </thead>\n",
       "  <tbody>\n",
       "    <tr>\n",
       "      <th>0</th>\n",
       "      <td>33</td>\n",
       "      <td>Private</td>\n",
       "      <td>229466</td>\n",
       "      <td>Bachelors</td>\n",
       "      <td>9</td>\n",
       "      <td>Married-civ-spouse</td>\n",
       "      <td>NaN</td>\n",
       "      <td>Not-in-family</td>\n",
       "      <td>White</td>\n",
       "      <td>Male</td>\n",
       "      <td>0</td>\n",
       "      <td>0</td>\n",
       "      <td>40.0</td>\n",
       "      <td>United-States</td>\n",
       "    </tr>\n",
       "    <tr>\n",
       "      <th>1</th>\n",
       "      <td>48</td>\n",
       "      <td>Private</td>\n",
       "      <td>366324</td>\n",
       "      <td>5th-6th</td>\n",
       "      <td>3</td>\n",
       "      <td>Married-spouse-absent</td>\n",
       "      <td>Handlers-cleaners</td>\n",
       "      <td>Not-in-family</td>\n",
       "      <td>White</td>\n",
       "      <td>Male</td>\n",
       "      <td>0</td>\n",
       "      <td>0</td>\n",
       "      <td>NaN</td>\n",
       "      <td>United-States</td>\n",
       "    </tr>\n",
       "    <tr>\n",
       "      <th>2</th>\n",
       "      <td>24</td>\n",
       "      <td>Self-emp-not-inc</td>\n",
       "      <td>312017</td>\n",
       "      <td>HS-grad</td>\n",
       "      <td>10</td>\n",
       "      <td>Divorced</td>\n",
       "      <td>Handlers-cleaners</td>\n",
       "      <td>Not-in-family</td>\n",
       "      <td>Black</td>\n",
       "      <td>Male</td>\n",
       "      <td>3464</td>\n",
       "      <td>0</td>\n",
       "      <td>60.0</td>\n",
       "      <td>United-States</td>\n",
       "    </tr>\n",
       "    <tr>\n",
       "      <th>3</th>\n",
       "      <td>24</td>\n",
       "      <td>Private</td>\n",
       "      <td>160634</td>\n",
       "      <td>Assoc-voc</td>\n",
       "      <td>13</td>\n",
       "      <td>Widowed</td>\n",
       "      <td>Sales</td>\n",
       "      <td>Husband</td>\n",
       "      <td>White</td>\n",
       "      <td>Female</td>\n",
       "      <td>0</td>\n",
       "      <td>0</td>\n",
       "      <td>50.0</td>\n",
       "      <td>United-States</td>\n",
       "    </tr>\n",
       "    <tr>\n",
       "      <th>4</th>\n",
       "      <td>62</td>\n",
       "      <td>Private</td>\n",
       "      <td>125457</td>\n",
       "      <td>Some-college</td>\n",
       "      <td>13</td>\n",
       "      <td>Married-civ-spouse</td>\n",
       "      <td>Handlers-cleaners</td>\n",
       "      <td>Husband</td>\n",
       "      <td>White</td>\n",
       "      <td>Male</td>\n",
       "      <td>0</td>\n",
       "      <td>0</td>\n",
       "      <td>45.0</td>\n",
       "      <td>United-States</td>\n",
       "    </tr>\n",
       "    <tr>\n",
       "      <th>5</th>\n",
       "      <td>31</td>\n",
       "      <td>Private</td>\n",
       "      <td>153183</td>\n",
       "      <td>Bachelors</td>\n",
       "      <td>6</td>\n",
       "      <td>Married-civ-spouse</td>\n",
       "      <td>Prof-specialty</td>\n",
       "      <td>Husband</td>\n",
       "      <td>White</td>\n",
       "      <td>Male</td>\n",
       "      <td>0</td>\n",
       "      <td>0</td>\n",
       "      <td>70.0</td>\n",
       "      <td>United-States</td>\n",
       "    </tr>\n",
       "    <tr>\n",
       "      <th>6</th>\n",
       "      <td>36</td>\n",
       "      <td>Self-emp-not-inc</td>\n",
       "      <td>102308</td>\n",
       "      <td>Assoc-voc</td>\n",
       "      <td>10</td>\n",
       "      <td>Never-married</td>\n",
       "      <td>Machine-op-inspct</td>\n",
       "      <td>Husband</td>\n",
       "      <td>White</td>\n",
       "      <td>Male</td>\n",
       "      <td>8614</td>\n",
       "      <td>1977</td>\n",
       "      <td>40.0</td>\n",
       "      <td>United-States</td>\n",
       "    </tr>\n",
       "    <tr>\n",
       "      <th>7</th>\n",
       "      <td>42</td>\n",
       "      <td>Local-gov</td>\n",
       "      <td>397317</td>\n",
       "      <td>Bachelors</td>\n",
       "      <td>7</td>\n",
       "      <td>Never-married</td>\n",
       "      <td>Adm-clerical</td>\n",
       "      <td>Not-in-family</td>\n",
       "      <td>White</td>\n",
       "      <td>Female</td>\n",
       "      <td>0</td>\n",
       "      <td>0</td>\n",
       "      <td>40.0</td>\n",
       "      <td>United-States</td>\n",
       "    </tr>\n",
       "    <tr>\n",
       "      <th>8</th>\n",
       "      <td>25</td>\n",
       "      <td>Private</td>\n",
       "      <td>289886</td>\n",
       "      <td>Bachelors</td>\n",
       "      <td>11</td>\n",
       "      <td>Divorced</td>\n",
       "      <td>Adm-clerical</td>\n",
       "      <td>Husband</td>\n",
       "      <td>White</td>\n",
       "      <td>Male</td>\n",
       "      <td>0</td>\n",
       "      <td>0</td>\n",
       "      <td>40.0</td>\n",
       "      <td>United-States</td>\n",
       "    </tr>\n",
       "    <tr>\n",
       "      <th>9</th>\n",
       "      <td>22</td>\n",
       "      <td>NaN</td>\n",
       "      <td>386378</td>\n",
       "      <td>11th</td>\n",
       "      <td>9</td>\n",
       "      <td>Never-married</td>\n",
       "      <td>NaN</td>\n",
       "      <td>Husband</td>\n",
       "      <td>White</td>\n",
       "      <td>Female</td>\n",
       "      <td>0</td>\n",
       "      <td>0</td>\n",
       "      <td>40.0</td>\n",
       "      <td>United-States</td>\n",
       "    </tr>\n",
       "  </tbody>\n",
       "</table>\n",
       "</div>"
      ],
      "text/plain": [
       "   age         workclass  fnlwgt     education  educ_num  \\\n",
       "0   33           Private  229466     Bachelors         9   \n",
       "1   48           Private  366324       5th-6th         3   \n",
       "2   24  Self-emp-not-inc  312017       HS-grad        10   \n",
       "3   24           Private  160634     Assoc-voc        13   \n",
       "4   62           Private  125457  Some-college        13   \n",
       "5   31           Private  153183     Bachelors         6   \n",
       "6   36  Self-emp-not-inc  102308     Assoc-voc        10   \n",
       "7   42         Local-gov  397317     Bachelors         7   \n",
       "8   25           Private  289886     Bachelors        11   \n",
       "9   22               NaN  386378          11th         9   \n",
       "\n",
       "          marital_status         occupation   relationship   race     sex  \\\n",
       "0     Married-civ-spouse                NaN  Not-in-family  White    Male   \n",
       "1  Married-spouse-absent  Handlers-cleaners  Not-in-family  White    Male   \n",
       "2               Divorced  Handlers-cleaners  Not-in-family  Black    Male   \n",
       "3                Widowed              Sales        Husband  White  Female   \n",
       "4     Married-civ-spouse  Handlers-cleaners        Husband  White    Male   \n",
       "5     Married-civ-spouse     Prof-specialty        Husband  White    Male   \n",
       "6          Never-married  Machine-op-inspct        Husband  White    Male   \n",
       "7          Never-married       Adm-clerical  Not-in-family  White  Female   \n",
       "8               Divorced       Adm-clerical        Husband  White    Male   \n",
       "9          Never-married                NaN        Husband  White  Female   \n",
       "\n",
       "   capital_gain  capital_loss  hrs_per_week native_country  \n",
       "0             0             0          40.0  United-States  \n",
       "1             0             0           NaN  United-States  \n",
       "2          3464             0          60.0  United-States  \n",
       "3             0             0          50.0  United-States  \n",
       "4             0             0          45.0  United-States  \n",
       "5             0             0          70.0  United-States  \n",
       "6          8614          1977          40.0  United-States  \n",
       "7             0             0          40.0  United-States  \n",
       "8             0             0          40.0  United-States  \n",
       "9             0             0          40.0  United-States  "
      ]
     },
     "execution_count": 19,
     "metadata": {},
     "output_type": "execute_result"
    }
   ],
   "source": [
    "df = pd.read_csv('census_new.csv')\n",
    "print(df.shape)\n",
    "df"
   ]
  },
  {
   "cell_type": "markdown",
   "id": "54bb0de7",
   "metadata": {
    "papermill": {
     "duration": 0.01215,
     "end_time": "2023-02-22T18:34:59.402193",
     "exception": false,
     "start_time": "2023-02-22T18:34:59.390043",
     "status": "completed"
    },
    "tags": []
   },
   "source": [
    "In the cell below, apply the `ColumnTransformer` object you created previously to the new data, storing the results in an array. Print the shape of this array. "
   ]
  },
  {
   "cell_type": "code",
   "execution_count": 20,
   "id": "bccde853",
   "metadata": {
    "execution": {
     "iopub.execute_input": "2023-02-22T18:34:59.429205Z",
     "iopub.status.busy": "2023-02-22T18:34:59.428752Z",
     "iopub.status.idle": "2023-02-22T18:34:59.445115Z",
     "shell.execute_reply": "2023-02-22T18:34:59.443082Z"
    },
    "papermill": {
     "duration": 0.033171,
     "end_time": "2023-02-22T18:34:59.447754",
     "exception": false,
     "start_time": "2023-02-22T18:34:59.414583",
     "status": "completed"
    },
    "tags": []
   },
   "outputs": [
    {
     "data": {
      "text/plain": [
       "(10, 123)"
      ]
     },
     "execution_count": 20,
     "metadata": {},
     "output_type": "execute_result"
    }
   ],
   "source": [
    "X_new = preprocessor.transform(df)\n",
    "X_new.shape"
   ]
  },
  {
   "cell_type": "markdown",
   "id": "914147c3",
   "metadata": {
    "papermill": {
     "duration": 0.012148,
     "end_time": "2023-02-22T18:34:59.472698",
     "exception": false,
     "start_time": "2023-02-22T18:34:59.460550",
     "status": "completed"
    },
    "tags": []
   },
   "source": [
    "Use your final model to generate class predictions for the new observations. Print those predictions. "
   ]
  },
  {
   "cell_type": "code",
   "execution_count": 21,
   "id": "7ecab07f",
   "metadata": {
    "execution": {
     "iopub.execute_input": "2023-02-22T18:34:59.499351Z",
     "iopub.status.busy": "2023-02-22T18:34:59.498939Z",
     "iopub.status.idle": "2023-02-22T18:34:59.505819Z",
     "shell.execute_reply": "2023-02-22T18:34:59.504605Z"
    },
    "papermill": {
     "duration": 0.02336,
     "end_time": "2023-02-22T18:34:59.508484",
     "exception": false,
     "start_time": "2023-02-22T18:34:59.485124",
     "status": "completed"
    },
    "tags": []
   },
   "outputs": [
    {
     "name": "stdout",
     "output_type": "stream",
     "text": [
      "['<=50K' '<=50K' '<=50K' '<=50K' '>50K' '<=50K' '>50K' '<=50K' '<=50K'\n",
      " '<=50K']\n"
     ]
    }
   ],
   "source": [
    "predictions = final_model.predict(X_new)\n",
    "print(predictions)"
   ]
  },
  {
   "cell_type": "markdown",
   "id": "fca64a82",
   "metadata": {
    "papermill": {
     "duration": 0.012173,
     "end_time": "2023-02-22T18:34:59.533097",
     "exception": false,
     "start_time": "2023-02-22T18:34:59.520924",
     "status": "completed"
    },
    "tags": []
   },
   "source": [
    "Use your final model to generate class probability estimates for the new observations. Print those estimates. "
   ]
  },
  {
   "cell_type": "code",
   "execution_count": 22,
   "id": "2214ff3c",
   "metadata": {
    "execution": {
     "iopub.execute_input": "2023-02-22T18:34:59.559877Z",
     "iopub.status.busy": "2023-02-22T18:34:59.559494Z",
     "iopub.status.idle": "2023-02-22T18:34:59.566629Z",
     "shell.execute_reply": "2023-02-22T18:34:59.565323Z"
    },
    "papermill": {
     "duration": 0.024162,
     "end_time": "2023-02-22T18:34:59.569753",
     "exception": false,
     "start_time": "2023-02-22T18:34:59.545591",
     "status": "completed"
    },
    "tags": []
   },
   "outputs": [
    {
     "name": "stdout",
     "output_type": "stream",
     "text": [
      "[[8.40032814e-01 1.59967186e-01]\n",
      " [9.80815348e-01 1.91846523e-02]\n",
      " [1.00000000e+00 0.00000000e+00]\n",
      " [1.00000000e+00 0.00000000e+00]\n",
      " [3.21561338e-01 6.78438662e-01]\n",
      " [6.66666667e-01 3.33333333e-01]\n",
      " [0.00000000e+00 1.00000000e+00]\n",
      " [9.80815348e-01 1.91846523e-02]\n",
      " [9.99379653e-01 6.20347395e-04]\n",
      " [9.99379653e-01 6.20347395e-04]]\n"
     ]
    }
   ],
   "source": [
    "probabilities = final_model.predict_proba(X_new)\n",
    "print(probabilities)"
   ]
  }
 ],
 "metadata": {
  "kernelspec": {
   "display_name": "Python 3 (ipykernel)",
   "language": "python",
   "name": "python3"
  },
  "language_info": {
   "codemirror_mode": {
    "name": "ipython",
    "version": 3
   },
   "file_extension": ".py",
   "mimetype": "text/x-python",
   "name": "python",
   "nbconvert_exporter": "python",
   "pygments_lexer": "ipython3",
   "version": "3.10.9"
  },
  "papermill": {
   "default_parameters": {},
   "duration": 139.546181,
   "end_time": "2023-02-22T18:35:07.243805",
   "environment_variables": {},
   "exception": null,
   "input_path": "__notebook__.ipynb",
   "output_path": "__notebook__.ipynb",
   "parameters": {},
   "start_time": "2023-02-22T18:32:47.697624",
   "version": "2.3.4"
  }
 },
 "nbformat": 4,
 "nbformat_minor": 5
}
