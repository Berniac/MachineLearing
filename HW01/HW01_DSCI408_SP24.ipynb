{
 "cells": [
  {
   "cell_type": "markdown",
   "id": "7071848e",
   "metadata": {
    "papermill": {
     "duration": 0.011675,
     "end_time": "2023-01-24T04:58:39.356985",
     "exception": false,
     "start_time": "2023-01-24T04:58:39.345310",
     "status": "completed"
    },
    "tags": []
   },
   "source": [
    "# Homework 01\n",
    "\n",
    "**Bernard Mwamburi**"
   ]
  },
  {
   "cell_type": "markdown",
   "id": "3a2c345e",
   "metadata": {
    "papermill": {
     "duration": 0.009936,
     "end_time": "2023-01-24T04:58:39.377720",
     "exception": false,
     "start_time": "2023-01-24T04:58:39.367784",
     "status": "completed"
    },
    "tags": []
   },
   "source": [
    "## Preparing the Environment\n",
    "\n",
    "Use the cell below to import NumPy, Pandas, and the Pyplot library of Matplotlib, using the standard aliases. Also import the following tools from Scikit-Learn: `train_test_split`, `cross_val_score`, `LinearRegression`, and `StandardScaler`. "
   ]
  },
  {
   "cell_type": "code",
   "execution_count": 1,
   "id": "d267641e",
   "metadata": {
    "execution": {
     "iopub.execute_input": "2023-01-24T04:58:39.399925Z",
     "iopub.status.busy": "2023-01-24T04:58:39.399291Z",
     "iopub.status.idle": "2023-01-24T04:58:40.571528Z",
     "shell.execute_reply": "2023-01-24T04:58:40.570556Z"
    },
    "papermill": {
     "duration": 1.186922,
     "end_time": "2023-01-24T04:58:40.574686",
     "exception": false,
     "start_time": "2023-01-24T04:58:39.387764",
     "status": "completed"
    },
    "tags": []
   },
   "outputs": [],
   "source": [
    "import numpy as np\n",
    "import pandas as pd\n",
    "import matplotlib.pyplot as plt\n",
    "\n",
    "from sklearn.model_selection import train_test_split, cross_val_score\n",
    "from sklearn.preprocessing import StandardScaler\n",
    "from sklearn.linear_model import LinearRegression"
   ]
  },
  {
   "cell_type": "markdown",
   "id": "806ea27e",
   "metadata": {
    "papermill": {
     "duration": 0.010125,
     "end_time": "2023-01-24T04:58:40.594835",
     "exception": false,
     "start_time": "2023-01-24T04:58:40.584710",
     "status": "completed"
    },
    "tags": []
   },
   "source": [
    "# Part 1: Boston Housing Data\n",
    "\n",
    "In Part 1, you will be working with the Boston Housing Dataset. Your goal will be to create a linear regression model to predict the median value of homes in neighborhoods of Boston using various characteristics of the neighborhoods as features. You can find detailed information about the dataset, including a description of its features [here](https://www.kaggle.com/code/prasadperera/the-boston-housing-dataset/notebook). "
   ]
  },
  {
   "cell_type": "markdown",
   "id": "5cd545d8",
   "metadata": {
    "papermill": {
     "duration": 0.009573,
     "end_time": "2023-01-24T04:58:40.615287",
     "exception": false,
     "start_time": "2023-01-24T04:58:40.605714",
     "status": "completed"
    },
    "tags": []
   },
   "source": [
    "Use the cell below to load the dataset into a DataFrame named `boston`. Shuffle the dataset (setting `random_state=1`), print its shape, and then display the head of the DataFrame. \n"
   ]
  },
  {
   "cell_type": "code",
   "execution_count": 2,
   "id": "84bc68ee",
   "metadata": {
    "execution": {
     "iopub.execute_input": "2023-01-24T04:58:40.637204Z",
     "iopub.status.busy": "2023-01-24T04:58:40.636181Z",
     "iopub.status.idle": "2023-01-24T04:58:40.692280Z",
     "shell.execute_reply": "2023-01-24T04:58:40.691440Z"
    },
    "papermill": {
     "duration": 0.071015,
     "end_time": "2023-01-24T04:58:40.696092",
     "exception": false,
     "start_time": "2023-01-24T04:58:40.625077",
     "status": "completed"
    },
    "tags": []
   },
   "outputs": [
    {
     "data": {
      "text/html": [
       "<div>\n",
       "<style scoped>\n",
       "    .dataframe tbody tr th:only-of-type {\n",
       "        vertical-align: middle;\n",
       "    }\n",
       "\n",
       "    .dataframe tbody tr th {\n",
       "        vertical-align: top;\n",
       "    }\n",
       "\n",
       "    .dataframe thead th {\n",
       "        text-align: right;\n",
       "    }\n",
       "</style>\n",
       "<table border=\"1\" class=\"dataframe\">\n",
       "  <thead>\n",
       "    <tr style=\"text-align: right;\">\n",
       "      <th></th>\n",
       "      <th>town</th>\n",
       "      <th>tract</th>\n",
       "      <th>lon</th>\n",
       "      <th>lat</th>\n",
       "      <th>medv</th>\n",
       "      <th>cmedv</th>\n",
       "      <th>crim</th>\n",
       "      <th>zn</th>\n",
       "      <th>indus</th>\n",
       "      <th>chas</th>\n",
       "      <th>nox</th>\n",
       "      <th>rm</th>\n",
       "      <th>age</th>\n",
       "      <th>dis</th>\n",
       "      <th>rad</th>\n",
       "      <th>tax</th>\n",
       "      <th>ptratio</th>\n",
       "      <th>b</th>\n",
       "      <th>lstat</th>\n",
       "    </tr>\n",
       "  </thead>\n",
       "  <tbody>\n",
       "    <tr>\n",
       "      <th>307</th>\n",
       "      <td>Milton</td>\n",
       "      <td>4164</td>\n",
       "      <td>-71.028</td>\n",
       "      <td>42.1565</td>\n",
       "      <td>28.2</td>\n",
       "      <td>28.2</td>\n",
       "      <td>0.04932</td>\n",
       "      <td>33.0</td>\n",
       "      <td>2.18</td>\n",
       "      <td>0</td>\n",
       "      <td>0.472</td>\n",
       "      <td>6.849</td>\n",
       "      <td>70.3</td>\n",
       "      <td>3.1827</td>\n",
       "      <td>7</td>\n",
       "      <td>222</td>\n",
       "      <td>18.4</td>\n",
       "      <td>396.90</td>\n",
       "      <td>7.53</td>\n",
       "    </tr>\n",
       "    <tr>\n",
       "      <th>343</th>\n",
       "      <td>Hingham</td>\n",
       "      <td>5011</td>\n",
       "      <td>-70.937</td>\n",
       "      <td>42.1475</td>\n",
       "      <td>23.9</td>\n",
       "      <td>23.9</td>\n",
       "      <td>0.02543</td>\n",
       "      <td>55.0</td>\n",
       "      <td>3.78</td>\n",
       "      <td>0</td>\n",
       "      <td>0.484</td>\n",
       "      <td>6.696</td>\n",
       "      <td>56.4</td>\n",
       "      <td>5.7321</td>\n",
       "      <td>5</td>\n",
       "      <td>370</td>\n",
       "      <td>17.6</td>\n",
       "      <td>396.90</td>\n",
       "      <td>7.18</td>\n",
       "    </tr>\n",
       "    <tr>\n",
       "      <th>47</th>\n",
       "      <td>Peabody</td>\n",
       "      <td>2107</td>\n",
       "      <td>-70.956</td>\n",
       "      <td>42.3125</td>\n",
       "      <td>16.6</td>\n",
       "      <td>16.6</td>\n",
       "      <td>0.22927</td>\n",
       "      <td>0.0</td>\n",
       "      <td>6.91</td>\n",
       "      <td>0</td>\n",
       "      <td>0.448</td>\n",
       "      <td>6.030</td>\n",
       "      <td>85.5</td>\n",
       "      <td>5.6894</td>\n",
       "      <td>3</td>\n",
       "      <td>233</td>\n",
       "      <td>17.9</td>\n",
       "      <td>392.74</td>\n",
       "      <td>18.80</td>\n",
       "    </tr>\n",
       "    <tr>\n",
       "      <th>67</th>\n",
       "      <td>Wilmington</td>\n",
       "      <td>3311</td>\n",
       "      <td>-71.090</td>\n",
       "      <td>42.3362</td>\n",
       "      <td>22.0</td>\n",
       "      <td>22.0</td>\n",
       "      <td>0.05789</td>\n",
       "      <td>12.5</td>\n",
       "      <td>6.07</td>\n",
       "      <td>0</td>\n",
       "      <td>0.409</td>\n",
       "      <td>5.878</td>\n",
       "      <td>21.4</td>\n",
       "      <td>6.4980</td>\n",
       "      <td>4</td>\n",
       "      <td>345</td>\n",
       "      <td>18.9</td>\n",
       "      <td>396.21</td>\n",
       "      <td>8.10</td>\n",
       "    </tr>\n",
       "    <tr>\n",
       "      <th>362</th>\n",
       "      <td>Boston Allston-Brighton</td>\n",
       "      <td>7</td>\n",
       "      <td>-71.081</td>\n",
       "      <td>42.2080</td>\n",
       "      <td>20.8</td>\n",
       "      <td>20.8</td>\n",
       "      <td>3.67822</td>\n",
       "      <td>0.0</td>\n",
       "      <td>18.10</td>\n",
       "      <td>0</td>\n",
       "      <td>0.770</td>\n",
       "      <td>5.362</td>\n",
       "      <td>96.2</td>\n",
       "      <td>2.1036</td>\n",
       "      <td>24</td>\n",
       "      <td>666</td>\n",
       "      <td>20.2</td>\n",
       "      <td>380.79</td>\n",
       "      <td>10.19</td>\n",
       "    </tr>\n",
       "  </tbody>\n",
       "</table>\n",
       "</div>"
      ],
      "text/plain": [
       "                        town  tract     lon      lat  medv  cmedv     crim  \\\n",
       "307                   Milton   4164 -71.028  42.1565  28.2   28.2  0.04932   \n",
       "343                  Hingham   5011 -70.937  42.1475  23.9   23.9  0.02543   \n",
       "47                   Peabody   2107 -70.956  42.3125  16.6   16.6  0.22927   \n",
       "67                Wilmington   3311 -71.090  42.3362  22.0   22.0  0.05789   \n",
       "362  Boston Allston-Brighton      7 -71.081  42.2080  20.8   20.8  3.67822   \n",
       "\n",
       "       zn  indus  chas    nox     rm   age     dis  rad  tax  ptratio       b  \\\n",
       "307  33.0   2.18     0  0.472  6.849  70.3  3.1827    7  222     18.4  396.90   \n",
       "343  55.0   3.78     0  0.484  6.696  56.4  5.7321    5  370     17.6  396.90   \n",
       "47    0.0   6.91     0  0.448  6.030  85.5  5.6894    3  233     17.9  392.74   \n",
       "67   12.5   6.07     0  0.409  5.878  21.4  6.4980    4  345     18.9  396.21   \n",
       "362   0.0  18.10     0  0.770  5.362  96.2  2.1036   24  666     20.2  380.79   \n",
       "\n",
       "     lstat  \n",
       "307   7.53  \n",
       "343   7.18  \n",
       "47   18.80  \n",
       "67    8.10  \n",
       "362  10.19  "
      ]
     },
     "execution_count": 2,
     "metadata": {},
     "output_type": "execute_result"
    }
   ],
   "source": [
    "boston = pd.read_csv('boston_housing.csv')\n",
    "boston = boston.sample(frac=1, random_state=1)\n",
    "boston.head()"
   ]
  },
  {
   "cell_type": "markdown",
   "id": "62bf1c7f",
   "metadata": {
    "papermill": {
     "duration": 0.009939,
     "end_time": "2023-01-24T04:58:40.716460",
     "exception": false,
     "start_time": "2023-01-24T04:58:40.706521",
     "status": "completed"
    },
    "tags": []
   },
   "source": [
    "Each record in the DataFrame above represents a tract (or area) of Boston. The `cmedv` column contains the \"corrected\" median value of homes in each tract, and will be our label column. The `medv` column contains an earlier estimate of the label values, and will be ignored. The column `tract` is a unique identifer of the tracts, and will be ignored. The column `town` is a categorical feature, and will be ignored in this assignment. The column `chas` is a binary categorical variable, which can be treated as a numerical feature. All other columns represent numerical features. "
   ]
  },
  {
   "cell_type": "markdown",
   "id": "5078e4fd",
   "metadata": {
    "papermill": {
     "duration": 0.009882,
     "end_time": "2023-01-24T04:58:40.736657",
     "exception": false,
     "start_time": "2023-01-24T04:58:40.726775",
     "status": "completed"
    },
    "tags": []
   },
   "source": [
    "Use the cell below to create a histogram of `cmedv`. Your histogram should have 20 bins. Select a [named color](https://matplotlib.org/stable/gallery/color/named_colors.html) for the bars, and set their `edgecolor` to black. Set the title to \"Histogram of Median Home Values\". Use `plt.show()` to display the figure. \n",
    "\n",
    "**Note:** As a general rule, which selecting colors, you should avoid colors that are highly-saturated, since these can be visually harsh. You should tend toward colors that are more muted, such as pastels. "
   ]
  },
  {
   "cell_type": "code",
   "execution_count": 3,
   "id": "6c4667d0",
   "metadata": {
    "execution": {
     "iopub.execute_input": "2023-01-24T04:58:40.759475Z",
     "iopub.status.busy": "2023-01-24T04:58:40.758782Z",
     "iopub.status.idle": "2023-01-24T04:58:40.976203Z",
     "shell.execute_reply": "2023-01-24T04:58:40.975091Z"
    },
    "papermill": {
     "duration": 0.231734,
     "end_time": "2023-01-24T04:58:40.978861",
     "exception": false,
     "start_time": "2023-01-24T04:58:40.747127",
     "status": "completed"
    },
    "tags": []
   },
   "outputs": [
    {
     "data": {
      "image/png": "[encoded data removed]",
      "text/plain": [
       "<Figure size 640x480 with 1 Axes>"
      ]
     },
     "metadata": {},
     "output_type": "display_data"
    }
   ],
   "source": [
    "plt.hist(boston.cmedv, bins=20, color='orchid', edgecolor='k')\n",
    "plt.title(\"Histogram of Median Home Values\")\n",
    "\n",
    "plt.show()"
   ]
  },
  {
   "cell_type": "markdown",
   "id": "b190633a",
   "metadata": {
    "papermill": {
     "duration": 0.010206,
     "end_time": "2023-01-24T04:58:40.999763",
     "exception": false,
     "start_time": "2023-01-24T04:58:40.989557",
     "status": "completed"
    },
    "tags": []
   },
   "source": [
    "In the cell below, create any array to hold the names of the feature columns that we will be using in this exercise. It might be easiest to select these from the array `boston.columns.values`. Print this array to confirm that you have selected the correct features. "
   ]
  },
  {
   "cell_type": "code",
   "execution_count": 4,
   "id": "3d516960",
   "metadata": {
    "execution": {
     "iopub.execute_input": "2023-01-24T04:58:41.022695Z",
     "iopub.status.busy": "2023-01-24T04:58:41.021984Z",
     "iopub.status.idle": "2023-01-24T04:58:41.028187Z",
     "shell.execute_reply": "2023-01-24T04:58:41.027072Z"
    },
    "papermill": {
     "duration": 0.021046,
     "end_time": "2023-01-24T04:58:41.031301",
     "exception": false,
     "start_time": "2023-01-24T04:58:41.010255",
     "status": "completed"
    },
    "tags": []
   },
   "outputs": [
    {
     "name": "stdout",
     "output_type": "stream",
     "text": [
      "['lon', 'lat', 'crim', 'zn', 'indus', 'chas', 'nox', 'rm', 'age', 'dis', 'rad', 'tax', 'ptratio', 'b', 'lstat']\n"
     ]
    }
   ],
   "source": [
    "features = ['lon', 'lat', 'crim', 'zn', 'indus', 'chas', 'nox', 'rm', 'age', 'dis', 'rad', 'tax', 'ptratio', 'b', 'lstat']\n",
    "print(features)"
   ]
  },
  {
   "cell_type": "markdown",
   "id": "111757f7",
   "metadata": {
    "papermill": {
     "duration": 0.010148,
     "end_time": "2023-01-24T04:58:41.052070",
     "exception": false,
     "start_time": "2023-01-24T04:58:41.041922",
     "status": "completed"
    },
    "tags": []
   },
   "source": [
    "Create a feature array and a label array. Name these `X1` and `y1`, or something similar."
   ]
  },
  {
   "cell_type": "code",
   "execution_count": 5,
   "id": "454548c5",
   "metadata": {
    "execution": {
     "iopub.execute_input": "2023-01-24T04:58:41.075008Z",
     "iopub.status.busy": "2023-01-24T04:58:41.074621Z",
     "iopub.status.idle": "2023-01-24T04:58:41.082530Z",
     "shell.execute_reply": "2023-01-24T04:58:41.081347Z"
    },
    "papermill": {
     "duration": 0.02209,
     "end_time": "2023-01-24T04:58:41.084796",
     "exception": false,
     "start_time": "2023-01-24T04:58:41.062706",
     "status": "completed"
    },
    "tags": []
   },
   "outputs": [],
   "source": [
    "X1 = boston[features]\n",
    "y1 = boston.cmedv"
   ]
  },
  {
   "cell_type": "markdown",
   "id": "bb479820",
   "metadata": {
    "papermill": {
     "duration": 0.010231,
     "end_time": "2023-01-24T04:58:41.105773",
     "exception": false,
     "start_time": "2023-01-24T04:58:41.095542",
     "status": "completed"
    },
    "tags": []
   },
   "source": [
    "Create an instance of `StandardScaler` and use it to scale the feature array. "
   ]
  },
  {
   "cell_type": "code",
   "execution_count": 6,
   "id": "101a60f8",
   "metadata": {
    "execution": {
     "iopub.execute_input": "2023-01-24T04:58:41.128456Z",
     "iopub.status.busy": "2023-01-24T04:58:41.128019Z",
     "iopub.status.idle": "2023-01-24T04:58:41.134690Z",
     "shell.execute_reply": "2023-01-24T04:58:41.133687Z"
    },
    "papermill": {
     "duration": 0.02055,
     "end_time": "2023-01-24T04:58:41.136905",
     "exception": false,
     "start_time": "2023-01-24T04:58:41.116355",
     "status": "completed"
    },
    "tags": []
   },
   "outputs": [
    {
     "data": {
      "text/plain": [
       "array([[ 0.37685429, -0.97122643, -0.41477789, ..., -0.02567665,\n",
       "         0.44105193, -0.71811916],\n",
       "       [ 1.58485952, -1.11705545, -0.41755805, ..., -0.39556665,\n",
       "         0.44105193, -0.76717998],\n",
       "       [ 1.33263865,  1.55647666, -0.39383653, ..., -0.2568579 ,\n",
       "         0.3954402 ,  0.86163938],\n",
       "       ...,\n",
       "       [ 0.40340386, -0.2777284 ,  0.26283202, ...,  0.80657583,\n",
       "         0.44105193,  0.94153844],\n",
       "       [-1.08337181, -0.03792067, -0.38206188, ..., -0.48803915,\n",
       "         0.22012011, -0.24853698],\n",
       "       [ 0.69544908,  1.13519282, -0.41119127, ...,  0.34421334,\n",
       "         0.44105193, -0.54430367]])"
      ]
     },
     "execution_count": 6,
     "metadata": {},
     "output_type": "execute_result"
    }
   ],
   "source": [
    "scaler = StandardScaler()\n",
    "scaler.fit_transform(X1)"
   ]
  },
  {
   "cell_type": "markdown",
   "id": "232bb605",
   "metadata": {
    "papermill": {
     "duration": 0.010223,
     "end_time": "2023-01-24T04:58:41.157885",
     "exception": false,
     "start_time": "2023-01-24T04:58:41.147662",
     "status": "completed"
    },
    "tags": []
   },
   "source": [
    "Perform the following steps in the cell below: (1) Create an instance of LinearRegression, (2) train it on dataset (using the scaled features), (3) print the model intercept and model coefficients. "
   ]
  },
  {
   "cell_type": "code",
   "execution_count": 7,
   "id": "c11c9c2b",
   "metadata": {},
   "outputs": [],
   "source": [
    "X1_train, X1_test, y1_train, y1_test = train_test_split(X1, y1, test_size = 0.20, random_state=1)"
   ]
  },
  {
   "cell_type": "code",
   "execution_count": 8,
   "id": "ac18b59e",
   "metadata": {
    "execution": {
     "iopub.execute_input": "2023-01-24T04:58:41.181213Z",
     "iopub.status.busy": "2023-01-24T04:58:41.180583Z",
     "iopub.status.idle": "2023-01-24T04:58:41.201811Z",
     "shell.execute_reply": "2023-01-24T04:58:41.200000Z"
    },
    "papermill": {
     "duration": 0.035975,
     "end_time": "2023-01-24T04:58:41.204494",
     "exception": false,
     "start_time": "2023-01-24T04:58:41.168519",
     "status": "completed"
    },
    "tags": []
   },
   "outputs": [
    {
     "name": "stdout",
     "output_type": "stream",
     "text": [
      "\n",
      "Intercept:          -375.8875004130923\n",
      "Model coefficients: [-3.76362003e+00  3.46157901e+00 -1.00327713e-01  5.50436633e-02\n",
      "  2.68941543e-02  2.69294509e+00 -1.62315204e+01  3.23113214e+00\n",
      "  6.07841822e-03 -1.39632834e+00  2.80606125e-01 -1.11051994e-02\n",
      " -9.17076138e-01  1.01125634e-02 -5.67647418e-01]\n",
      "\n"
     ]
    }
   ],
   "source": [
    "lm = LinearRegression()\n",
    "lm.fit(X1_train, y1_train)\n",
    "print(f\"\"\"\n",
    "Intercept:          {lm.intercept_}\n",
    "Model coefficients: {lm.coef_}\n",
    "\"\"\")"
   ]
  },
  {
   "cell_type": "markdown",
   "id": "d17f5fb2",
   "metadata": {
    "papermill": {
     "duration": 0.010386,
     "end_time": "2023-01-24T04:58:41.225922",
     "exception": false,
     "start_time": "2023-01-24T04:58:41.215536",
     "status": "completed"
    },
    "tags": []
   },
   "source": [
    "Use the `score()` method to calculate the training r-squared value for the model. "
   ]
  },
  {
   "cell_type": "code",
   "execution_count": 9,
   "id": "413dd25f",
   "metadata": {
    "execution": {
     "iopub.execute_input": "2023-01-24T04:58:41.249316Z",
     "iopub.status.busy": "2023-01-24T04:58:41.248570Z",
     "iopub.status.idle": "2023-01-24T04:58:41.257463Z",
     "shell.execute_reply": "2023-01-24T04:58:41.256411Z"
    },
    "papermill": {
     "duration": 0.023126,
     "end_time": "2023-01-24T04:58:41.259704",
     "exception": false,
     "start_time": "2023-01-24T04:58:41.236578",
     "status": "completed"
    },
    "tags": []
   },
   "outputs": [
    {
     "name": "stdout",
     "output_type": "stream",
     "text": [
      "\n",
      "Training r-squared: 0.731364691031646\n",
      "Test r-squared:     0.7804070621380069\n",
      "\n"
     ]
    }
   ],
   "source": [
    "print(f\"\"\"\n",
    "Training r-squared: {lm.score(X1_train, y1_train)}\n",
    "Test r-squared:     {lm.score(X1_test, y1_test)}\n",
    "\"\"\")"
   ]
  },
  {
   "cell_type": "markdown",
   "id": "da80e5f2",
   "metadata": {
    "papermill": {
     "duration": 0.010653,
     "end_time": "2023-01-24T04:58:41.281301",
     "exception": false,
     "start_time": "2023-01-24T04:58:41.270648",
     "status": "completed"
    },
    "tags": []
   },
   "source": [
    "Use `cross_val_score()` to estimate the model's out of-sample r-squared value. "
   ]
  },
  {
   "cell_type": "code",
   "execution_count": 10,
   "id": "6746eb99",
   "metadata": {
    "execution": {
     "iopub.execute_input": "2023-01-24T04:58:41.305233Z",
     "iopub.status.busy": "2023-01-24T04:58:41.304593Z",
     "iopub.status.idle": "2023-01-24T04:58:41.325946Z",
     "shell.execute_reply": "2023-01-24T04:58:41.324803Z"
    },
    "papermill": {
     "duration": 0.037339,
     "end_time": "2023-01-24T04:58:41.329358",
     "exception": false,
     "start_time": "2023-01-24T04:58:41.292019",
     "status": "completed"
    },
    "tags": []
   },
   "outputs": [
    {
     "name": "stdout",
     "output_type": "stream",
     "text": [
      "Cross validation score: 0.7027960535728877\n"
     ]
    }
   ],
   "source": [
    "print(f\"Cross validation score: {cross_val_score(lm, X1_train, y1_train, cv=10, scoring='r2').mean()}\")"
   ]
  },
  {
   "cell_type": "markdown",
   "id": "d00e77d7",
   "metadata": {
    "papermill": {
     "duration": 0.010473,
     "end_time": "2023-01-24T04:58:41.351301",
     "exception": false,
     "start_time": "2023-01-24T04:58:41.340828",
     "status": "completed"
    },
    "tags": []
   },
   "source": [
    "Create a DataFrame with two columns: The first should contain the names of the features (as stored in the array you created previously). The second column should contain the absolute value of the corresponding coefficients for the linear regression model. Sort this DataFrame in ascending order according to the second column. "
   ]
  },
  {
   "cell_type": "code",
   "execution_count": 11,
   "id": "0d1e7f5c",
   "metadata": {
    "execution": {
     "iopub.execute_input": "2023-01-24T04:58:41.375070Z",
     "iopub.status.busy": "2023-01-24T04:58:41.374394Z",
     "iopub.status.idle": "2023-01-24T04:58:41.381404Z",
     "shell.execute_reply": "2023-01-24T04:58:41.380467Z"
    },
    "papermill": {
     "duration": 0.021516,
     "end_time": "2023-01-24T04:58:41.383695",
     "exception": false,
     "start_time": "2023-01-24T04:58:41.362179",
     "status": "completed"
    },
    "scrolled": true,
    "tags": []
   },
   "outputs": [
    {
     "data": {
      "text/html": [
       "<div>\n",
       "<style scoped>\n",
       "    .dataframe tbody tr th:only-of-type {\n",
       "        vertical-align: middle;\n",
       "    }\n",
       "\n",
       "    .dataframe tbody tr th {\n",
       "        vertical-align: top;\n",
       "    }\n",
       "\n",
       "    .dataframe thead th {\n",
       "        text-align: right;\n",
       "    }\n",
       "</style>\n",
       "<table border=\"1\" class=\"dataframe\">\n",
       "  <thead>\n",
       "    <tr style=\"text-align: right;\">\n",
       "      <th></th>\n",
       "      <th>columns</th>\n",
       "      <th>coefficients</th>\n",
       "    </tr>\n",
       "  </thead>\n",
       "  <tbody>\n",
       "    <tr>\n",
       "      <th>0</th>\n",
       "      <td>age</td>\n",
       "      <td>0.006078</td>\n",
       "    </tr>\n",
       "    <tr>\n",
       "      <th>1</th>\n",
       "      <td>b</td>\n",
       "      <td>0.010113</td>\n",
       "    </tr>\n",
       "    <tr>\n",
       "      <th>2</th>\n",
       "      <td>tax</td>\n",
       "      <td>0.011105</td>\n",
       "    </tr>\n",
       "    <tr>\n",
       "      <th>3</th>\n",
       "      <td>indus</td>\n",
       "      <td>0.026894</td>\n",
       "    </tr>\n",
       "    <tr>\n",
       "      <th>4</th>\n",
       "      <td>zn</td>\n",
       "      <td>0.055044</td>\n",
       "    </tr>\n",
       "    <tr>\n",
       "      <th>5</th>\n",
       "      <td>crim</td>\n",
       "      <td>0.100328</td>\n",
       "    </tr>\n",
       "    <tr>\n",
       "      <th>6</th>\n",
       "      <td>rad</td>\n",
       "      <td>0.280606</td>\n",
       "    </tr>\n",
       "    <tr>\n",
       "      <th>7</th>\n",
       "      <td>lstat</td>\n",
       "      <td>0.567647</td>\n",
       "    </tr>\n",
       "    <tr>\n",
       "      <th>8</th>\n",
       "      <td>ptratio</td>\n",
       "      <td>0.917076</td>\n",
       "    </tr>\n",
       "    <tr>\n",
       "      <th>9</th>\n",
       "      <td>dis</td>\n",
       "      <td>1.396328</td>\n",
       "    </tr>\n",
       "    <tr>\n",
       "      <th>10</th>\n",
       "      <td>chas</td>\n",
       "      <td>2.692945</td>\n",
       "    </tr>\n",
       "    <tr>\n",
       "      <th>11</th>\n",
       "      <td>rm</td>\n",
       "      <td>3.231132</td>\n",
       "    </tr>\n",
       "    <tr>\n",
       "      <th>12</th>\n",
       "      <td>lat</td>\n",
       "      <td>3.461579</td>\n",
       "    </tr>\n",
       "    <tr>\n",
       "      <th>13</th>\n",
       "      <td>lon</td>\n",
       "      <td>3.763620</td>\n",
       "    </tr>\n",
       "    <tr>\n",
       "      <th>14</th>\n",
       "      <td>nox</td>\n",
       "      <td>16.231520</td>\n",
       "    </tr>\n",
       "  </tbody>\n",
       "</table>\n",
       "</div>"
      ],
      "text/plain": [
       "    columns  coefficients\n",
       "0       age      0.006078\n",
       "1         b      0.010113\n",
       "2       tax      0.011105\n",
       "3     indus      0.026894\n",
       "4        zn      0.055044\n",
       "5      crim      0.100328\n",
       "6       rad      0.280606\n",
       "7     lstat      0.567647\n",
       "8   ptratio      0.917076\n",
       "9       dis      1.396328\n",
       "10     chas      2.692945\n",
       "11       rm      3.231132\n",
       "12      lat      3.461579\n",
       "13      lon      3.763620\n",
       "14      nox     16.231520"
      ]
     },
     "execution_count": 11,
     "metadata": {},
     "output_type": "execute_result"
    }
   ],
   "source": [
    "df = pd.DataFrame(data={'columns': features,\n",
    "                        'coefficients': abs(lm.coef_)})\n",
    "df.sort_values(by='coefficients', inplace=True, ignore_index=True)\n",
    "df"
   ]
  },
  {
   "cell_type": "markdown",
   "id": "32310d6e",
   "metadata": {
    "papermill": {
     "duration": 0.010562,
     "end_time": "2023-01-24T04:58:41.405283",
     "exception": false,
     "start_time": "2023-01-24T04:58:41.394721",
     "status": "completed"
    },
    "tags": []
   },
   "source": [
    "Use the DataFrame from the previous cell and `plt.barh()` to create a horizontal bar chart demonstrating the magnitude of the coefficient values for each feature. Select a [named color](https://matplotlib.org/stable/gallery/color/named_colors.html) for the bars, and set their `edgecolor` to black. Set the title to \"Coefficient Values\". Use `plt.show()` to display the figure. "
   ]
  },
  {
   "cell_type": "code",
   "execution_count": 12,
   "id": "fab70a22",
   "metadata": {
    "execution": {
     "iopub.execute_input": "2023-01-24T04:58:41.429063Z",
     "iopub.status.busy": "2023-01-24T04:58:41.428357Z",
     "iopub.status.idle": "2023-01-24T04:58:41.614942Z",
     "shell.execute_reply": "2023-01-24T04:58:41.614089Z"
    },
    "papermill": {
     "duration": 0.201119,
     "end_time": "2023-01-24T04:58:41.617245",
     "exception": false,
     "start_time": "2023-01-24T04:58:41.416126",
     "status": "completed"
    },
    "tags": []
   },
   "outputs": [
    {
     "data": {
      "image/png": "[encoded data removed]",
      "text/plain": [
       "<Figure size 640x480 with 1 Axes>"
      ]
     },
     "metadata": {},
     "output_type": "display_data"
    }
   ],
   "source": [
    "plt.barh(df['columns'], df['coefficients'], label=df['columns'], color='gold', edgecolor='k')\n",
    "plt.xlabel(\"Coefficients\")\n",
    "plt.ylabel(\"Column names\")\n",
    "plt.title(\"Coefficient Values\")\n",
    "plt.show()"
   ]
  },
  {
   "cell_type": "markdown",
   "id": "54abb932",
   "metadata": {
    "papermill": {
     "duration": 0.010802,
     "end_time": "2023-01-24T04:58:41.639133",
     "exception": false,
     "start_time": "2023-01-24T04:58:41.628331",
     "status": "completed"
    },
    "tags": []
   },
   "source": [
    "# Part 2: Diamonds Dataset\n",
    "\n",
    "In Part 2, you will be working with the Diamonds Dataset. Your goal will be to create a linear regression model to predict the price of a diamond using several numerical characteristics of the diamond as features. You can find detailed information about the dataset, including a description of its features [here](https://www.kaggle.com/datasets/shivam2503/diamonds). "
   ]
  },
  {
   "cell_type": "markdown",
   "id": "95415319",
   "metadata": {
    "papermill": {
     "duration": 0.010872,
     "end_time": "2023-01-24T04:58:41.661096",
     "exception": false,
     "start_time": "2023-01-24T04:58:41.650224",
     "status": "completed"
    },
    "tags": []
   },
   "source": [
    "Use the cell below to load the dataset into a DataFrame named `diamonds`. Shuffle the dataset (setting `random_state=1`), print its shape, and then display the head of the DataFrame. "
   ]
  },
  {
   "cell_type": "code",
   "execution_count": 13,
   "id": "a1d2b30a",
   "metadata": {
    "execution": {
     "iopub.execute_input": "2023-01-24T04:58:41.685559Z",
     "iopub.status.busy": "2023-01-24T04:58:41.684802Z",
     "iopub.status.idle": "2023-01-24T04:58:41.814355Z",
     "shell.execute_reply": "2023-01-24T04:58:41.813094Z"
    },
    "papermill": {
     "duration": 0.145071,
     "end_time": "2023-01-24T04:58:41.817256",
     "exception": false,
     "start_time": "2023-01-24T04:58:41.672185",
     "status": "completed"
    },
    "tags": []
   },
   "outputs": [
    {
     "data": {
      "text/html": [
       "<div>\n",
       "<style scoped>\n",
       "    .dataframe tbody tr th:only-of-type {\n",
       "        vertical-align: middle;\n",
       "    }\n",
       "\n",
       "    .dataframe tbody tr th {\n",
       "        vertical-align: top;\n",
       "    }\n",
       "\n",
       "    .dataframe thead th {\n",
       "        text-align: right;\n",
       "    }\n",
       "</style>\n",
       "<table border=\"1\" class=\"dataframe\">\n",
       "  <thead>\n",
       "    <tr style=\"text-align: right;\">\n",
       "      <th></th>\n",
       "      <th>carat</th>\n",
       "      <th>cut</th>\n",
       "      <th>color</th>\n",
       "      <th>clarity</th>\n",
       "      <th>depth</th>\n",
       "      <th>table</th>\n",
       "      <th>price</th>\n",
       "      <th>x</th>\n",
       "      <th>y</th>\n",
       "      <th>z</th>\n",
       "    </tr>\n",
       "  </thead>\n",
       "  <tbody>\n",
       "    <tr>\n",
       "      <th>2714</th>\n",
       "      <td>0.33</td>\n",
       "      <td>Ideal</td>\n",
       "      <td>H</td>\n",
       "      <td>SI1</td>\n",
       "      <td>61.7</td>\n",
       "      <td>55.0</td>\n",
       "      <td>564</td>\n",
       "      <td>4.43</td>\n",
       "      <td>4.46</td>\n",
       "      <td>2.74</td>\n",
       "    </tr>\n",
       "    <tr>\n",
       "      <th>14653</th>\n",
       "      <td>1.20</td>\n",
       "      <td>Ideal</td>\n",
       "      <td>I</td>\n",
       "      <td>VS2</td>\n",
       "      <td>62.1</td>\n",
       "      <td>57.0</td>\n",
       "      <td>5914</td>\n",
       "      <td>6.78</td>\n",
       "      <td>6.71</td>\n",
       "      <td>4.19</td>\n",
       "    </tr>\n",
       "    <tr>\n",
       "      <th>52760</th>\n",
       "      <td>0.62</td>\n",
       "      <td>Ideal</td>\n",
       "      <td>D</td>\n",
       "      <td>VS1</td>\n",
       "      <td>61.0</td>\n",
       "      <td>57.0</td>\n",
       "      <td>2562</td>\n",
       "      <td>5.51</td>\n",
       "      <td>5.54</td>\n",
       "      <td>3.37</td>\n",
       "    </tr>\n",
       "    <tr>\n",
       "      <th>48658</th>\n",
       "      <td>0.34</td>\n",
       "      <td>Good</td>\n",
       "      <td>H</td>\n",
       "      <td>VS2</td>\n",
       "      <td>63.1</td>\n",
       "      <td>56.0</td>\n",
       "      <td>537</td>\n",
       "      <td>4.41</td>\n",
       "      <td>4.46</td>\n",
       "      <td>2.80</td>\n",
       "    </tr>\n",
       "    <tr>\n",
       "      <th>14812</th>\n",
       "      <td>1.20</td>\n",
       "      <td>Ideal</td>\n",
       "      <td>E</td>\n",
       "      <td>SI2</td>\n",
       "      <td>62.5</td>\n",
       "      <td>55.0</td>\n",
       "      <td>5964</td>\n",
       "      <td>6.77</td>\n",
       "      <td>6.84</td>\n",
       "      <td>4.25</td>\n",
       "    </tr>\n",
       "  </tbody>\n",
       "</table>\n",
       "</div>"
      ],
      "text/plain": [
       "       carat    cut color clarity  depth  table  price     x     y     z\n",
       "2714    0.33  Ideal     H     SI1   61.7   55.0    564  4.43  4.46  2.74\n",
       "14653   1.20  Ideal     I     VS2   62.1   57.0   5914  6.78  6.71  4.19\n",
       "52760   0.62  Ideal     D     VS1   61.0   57.0   2562  5.51  5.54  3.37\n",
       "48658   0.34   Good     H     VS2   63.1   56.0    537  4.41  4.46  2.80\n",
       "14812   1.20  Ideal     E     SI2   62.5   55.0   5964  6.77  6.84  4.25"
      ]
     },
     "execution_count": 13,
     "metadata": {},
     "output_type": "execute_result"
    }
   ],
   "source": [
    "diamonds = pd.read_csv('diamonds.csv')\n",
    "diamonds = diamonds.sample(frac=1, random_state=1)\n",
    "diamonds.head()"
   ]
  },
  {
   "cell_type": "markdown",
   "id": "62f08d20",
   "metadata": {
    "papermill": {
     "duration": 0.011099,
     "end_time": "2023-01-24T04:58:41.840117",
     "exception": false,
     "start_time": "2023-01-24T04:58:41.829018",
     "status": "completed"
    },
    "tags": []
   },
   "source": [
    "Each record in the DataFrame above represents a single diamond sold in the US. The `price` column represents the label. The `cut`, `color`, and `clarity` columns represent categorical features that will not be used in this assignment. All other columns represent numerical features."
   ]
  },
  {
   "cell_type": "markdown",
   "id": "09c0577b",
   "metadata": {
    "papermill": {
     "duration": 0.011265,
     "end_time": "2023-01-24T04:58:41.863488",
     "exception": false,
     "start_time": "2023-01-24T04:58:41.852223",
     "status": "completed"
    },
    "tags": []
   },
   "source": [
    "Use the cell below to create a histogram of the `price` column. Your histogram should have 20 bins. Select a [named color](https://matplotlib.org/stable/gallery/color/named_colors.html) for the bars, and set their `edgecolor` to black. Set the title to \"Histogram of Median Home Values\". Use `plt.show()` to display the figure. "
   ]
  },
  {
   "cell_type": "code",
   "execution_count": 14,
   "id": "70a81769",
   "metadata": {
    "execution": {
     "iopub.execute_input": "2023-01-24T04:58:41.887900Z",
     "iopub.status.busy": "2023-01-24T04:58:41.887493Z",
     "iopub.status.idle": "2023-01-24T04:58:42.069242Z",
     "shell.execute_reply": "2023-01-24T04:58:42.067883Z"
    },
    "papermill": {
     "duration": 0.196928,
     "end_time": "2023-01-24T04:58:42.071769",
     "exception": false,
     "start_time": "2023-01-24T04:58:41.874841",
     "status": "completed"
    },
    "tags": []
   },
   "outputs": [
    {
     "data": {
      "text/plain": [
       "Text(0.5, 1.0, 'Histogram of Diamond Prices')"
      ]
     },
     "execution_count": 14,
     "metadata": {},
     "output_type": "execute_result"
    },
    {
     "data": {
      "image/png": "[encoded data removed]",
      "text/plain": [
       "<Figure size 640x480 with 1 Axes>"
      ]
     },
     "metadata": {},
     "output_type": "display_data"
    }
   ],
   "source": [
    "plt.hist(diamonds.price, bins=20, color=\"deepskyblue\", edgecolor=\"k\")\n",
    "plt.title(\"Histogram of Diamond Prices\")"
   ]
  },
  {
   "cell_type": "markdown",
   "id": "643476cb",
   "metadata": {
    "papermill": {
     "duration": 0.011318,
     "end_time": "2023-01-24T04:58:42.094809",
     "exception": false,
     "start_time": "2023-01-24T04:58:42.083491",
     "status": "completed"
    },
    "tags": []
   },
   "source": [
    "The price and carat size of diamonds in this dataset have an exponential relationship rather than a linear one. We will confirm this momentarily. We will also confirm that the natural log of each of these columns will display an approximately linear relationship. \n",
    "\n",
    "In the cell below, add two new columns to the `diamonds` DataFrame. These should be named `log_price` and `log_carat`, and should contain the natural logarithms of the `price` and `carat` columns respectively. You can calculate the natural logarithms using `np.log()`. \n",
    "\n",
    "After adding the new columns, display the head of the DataFrame. "
   ]
  },
  {
   "cell_type": "code",
   "execution_count": 15,
   "id": "edb9d226",
   "metadata": {
    "execution": {
     "iopub.execute_input": "2023-01-24T04:58:42.120627Z",
     "iopub.status.busy": "2023-01-24T04:58:42.119567Z",
     "iopub.status.idle": "2023-01-24T04:58:42.143858Z",
     "shell.execute_reply": "2023-01-24T04:58:42.142674Z"
    },
    "papermill": {
     "duration": 0.039723,
     "end_time": "2023-01-24T04:58:42.146243",
     "exception": false,
     "start_time": "2023-01-24T04:58:42.106520",
     "status": "completed"
    },
    "tags": []
   },
   "outputs": [
    {
     "data": {
      "text/html": [
       "<div>\n",
       "<style scoped>\n",
       "    .dataframe tbody tr th:only-of-type {\n",
       "        vertical-align: middle;\n",
       "    }\n",
       "\n",
       "    .dataframe tbody tr th {\n",
       "        vertical-align: top;\n",
       "    }\n",
       "\n",
       "    .dataframe thead th {\n",
       "        text-align: right;\n",
       "    }\n",
       "</style>\n",
       "<table border=\"1\" class=\"dataframe\">\n",
       "  <thead>\n",
       "    <tr style=\"text-align: right;\">\n",
       "      <th></th>\n",
       "      <th>carat</th>\n",
       "      <th>cut</th>\n",
       "      <th>color</th>\n",
       "      <th>clarity</th>\n",
       "      <th>depth</th>\n",
       "      <th>table</th>\n",
       "      <th>price</th>\n",
       "      <th>x</th>\n",
       "      <th>y</th>\n",
       "      <th>z</th>\n",
       "      <th>log_price</th>\n",
       "      <th>log_carat</th>\n",
       "    </tr>\n",
       "  </thead>\n",
       "  <tbody>\n",
       "    <tr>\n",
       "      <th>2714</th>\n",
       "      <td>0.33</td>\n",
       "      <td>Ideal</td>\n",
       "      <td>H</td>\n",
       "      <td>SI1</td>\n",
       "      <td>61.7</td>\n",
       "      <td>55.0</td>\n",
       "      <td>564</td>\n",
       "      <td>4.43</td>\n",
       "      <td>4.46</td>\n",
       "      <td>2.74</td>\n",
       "      <td>6.335054</td>\n",
       "      <td>-1.108663</td>\n",
       "    </tr>\n",
       "    <tr>\n",
       "      <th>14653</th>\n",
       "      <td>1.20</td>\n",
       "      <td>Ideal</td>\n",
       "      <td>I</td>\n",
       "      <td>VS2</td>\n",
       "      <td>62.1</td>\n",
       "      <td>57.0</td>\n",
       "      <td>5914</td>\n",
       "      <td>6.78</td>\n",
       "      <td>6.71</td>\n",
       "      <td>4.19</td>\n",
       "      <td>8.685078</td>\n",
       "      <td>0.182322</td>\n",
       "    </tr>\n",
       "    <tr>\n",
       "      <th>52760</th>\n",
       "      <td>0.62</td>\n",
       "      <td>Ideal</td>\n",
       "      <td>D</td>\n",
       "      <td>VS1</td>\n",
       "      <td>61.0</td>\n",
       "      <td>57.0</td>\n",
       "      <td>2562</td>\n",
       "      <td>5.51</td>\n",
       "      <td>5.54</td>\n",
       "      <td>3.37</td>\n",
       "      <td>7.848543</td>\n",
       "      <td>-0.478036</td>\n",
       "    </tr>\n",
       "    <tr>\n",
       "      <th>48658</th>\n",
       "      <td>0.34</td>\n",
       "      <td>Good</td>\n",
       "      <td>H</td>\n",
       "      <td>VS2</td>\n",
       "      <td>63.1</td>\n",
       "      <td>56.0</td>\n",
       "      <td>537</td>\n",
       "      <td>4.41</td>\n",
       "      <td>4.46</td>\n",
       "      <td>2.80</td>\n",
       "      <td>6.285998</td>\n",
       "      <td>-1.078810</td>\n",
       "    </tr>\n",
       "    <tr>\n",
       "      <th>14812</th>\n",
       "      <td>1.20</td>\n",
       "      <td>Ideal</td>\n",
       "      <td>E</td>\n",
       "      <td>SI2</td>\n",
       "      <td>62.5</td>\n",
       "      <td>55.0</td>\n",
       "      <td>5964</td>\n",
       "      <td>6.77</td>\n",
       "      <td>6.84</td>\n",
       "      <td>4.25</td>\n",
       "      <td>8.693497</td>\n",
       "      <td>0.182322</td>\n",
       "    </tr>\n",
       "  </tbody>\n",
       "</table>\n",
       "</div>"
      ],
      "text/plain": [
       "       carat    cut color clarity  depth  table  price     x     y     z  \\\n",
       "2714    0.33  Ideal     H     SI1   61.7   55.0    564  4.43  4.46  2.74   \n",
       "14653   1.20  Ideal     I     VS2   62.1   57.0   5914  6.78  6.71  4.19   \n",
       "52760   0.62  Ideal     D     VS1   61.0   57.0   2562  5.51  5.54  3.37   \n",
       "48658   0.34   Good     H     VS2   63.1   56.0    537  4.41  4.46  2.80   \n",
       "14812   1.20  Ideal     E     SI2   62.5   55.0   5964  6.77  6.84  4.25   \n",
       "\n",
       "       log_price  log_carat  \n",
       "2714    6.335054  -1.108663  \n",
       "14653   8.685078   0.182322  \n",
       "52760   7.848543  -0.478036  \n",
       "48658   6.285998  -1.078810  \n",
       "14812   8.693497   0.182322  "
      ]
     },
     "execution_count": 15,
     "metadata": {},
     "output_type": "execute_result"
    }
   ],
   "source": [
    "diamonds.loc[:, 'log_price'], diamonds.loc[:, 'log_carat'] = np.log(diamonds.price), np.log(diamonds.carat)\n",
    "diamonds.head()"
   ]
  },
  {
   "cell_type": "markdown",
   "id": "f536ea7f",
   "metadata": {
    "papermill": {
     "duration": 0.011571,
     "end_time": "2023-01-24T04:58:42.169737",
     "exception": false,
     "start_time": "2023-01-24T04:58:42.158166",
     "status": "completed"
    },
    "tags": []
   },
   "source": [
    "Use `plt.subplot()` to create a 1x2 grid of subplots. The first subplot should be a scatter plot of `price` against `carat`. The second should be a scatter plot of `log_price` against `log_carat`. For both scatterplots, selected a named color for the points and set their `alpha` (or opaqueness) to 0.6. \n",
    "\n",
    "The first subplot should have x and y axes labeled as \"Carat\" and \"Price\" (respectively), and should have a title of \"Price vs Carat\". The second subplot should have x and y axes labeled as \"ln(Carat)\" and \"ln(Log Price)\" (respectively), and should have a title of \"ln(Price) vs ln(Carat)\". "
   ]
  },
  {
   "cell_type": "code",
   "execution_count": 16,
   "id": "5d984fbd",
   "metadata": {
    "execution": {
     "iopub.execute_input": "2023-01-24T04:58:42.195833Z",
     "iopub.status.busy": "2023-01-24T04:58:42.195144Z",
     "iopub.status.idle": "2023-01-24T04:58:42.684744Z",
     "shell.execute_reply": "2023-01-24T04:58:42.683586Z"
    },
    "papermill": {
     "duration": 0.506436,
     "end_time": "2023-01-24T04:58:42.688040",
     "exception": false,
     "start_time": "2023-01-24T04:58:42.181604",
     "status": "completed"
    },
    "tags": []
   },
   "outputs": [
    {
     "data": {
      "image/png": "[encoded data removed]",
      "text/plain": [
       "<Figure size 1200x800 with 2 Axes>"
      ]
     },
     "metadata": {},
     "output_type": "display_data"
    }
   ],
   "source": [
    "plt.figure(figsize=[12, 8])\n",
    "plt.subplot(1,2,1)\n",
    "plt.scatter(diamonds.carat, diamonds.price, color='teal', alpha=0.6)\n",
    "plt.xlabel('Carat')\n",
    "plt.ylabel('Price')\n",
    "plt.title('Price vs Carat')\n",
    "\n",
    "plt.subplot(1,2,2)\n",
    "plt.scatter(diamonds.log_carat, diamonds.log_price, color='chartreuse', alpha=0.6)\n",
    "plt.xlabel('ln(Carat)')\n",
    "plt.ylabel('ln(Log Price)')\n",
    "plt.title('ln(Price) vs ln(Carat)')\n",
    "\n",
    "plt.show()"
   ]
  },
  {
   "cell_type": "markdown",
   "id": "94d05f8e",
   "metadata": {
    "papermill": {
     "duration": 0.012544,
     "end_time": "2023-01-24T04:58:42.713867",
     "exception": false,
     "start_time": "2023-01-24T04:58:42.701323",
     "status": "completed"
    },
    "tags": []
   },
   "source": [
    "Going forward, we will use `log_price` as the label instead of `price`, and we will use `log_carat` as a feature in place of `carat`. \n",
    "\n",
    "In the cell below, create any array to hold the names of the numerical feature columns that we will be using in this exercise. "
   ]
  },
  {
   "cell_type": "code",
   "execution_count": 18,
   "id": "985e9fa2",
   "metadata": {
    "execution": {
     "iopub.execute_input": "2023-01-24T04:58:42.741103Z",
     "iopub.status.busy": "2023-01-24T04:58:42.740688Z",
     "iopub.status.idle": "2023-01-24T04:58:42.747055Z",
     "shell.execute_reply": "2023-01-24T04:58:42.745925Z"
    },
    "papermill": {
     "duration": 0.023015,
     "end_time": "2023-01-24T04:58:42.749725",
     "exception": false,
     "start_time": "2023-01-24T04:58:42.726710",
     "status": "completed"
    },
    "tags": []
   },
   "outputs": [],
   "source": [
    "features2 = ['depth', 'table', 'x', 'y', 'z', 'log_carat']"
   ]
  },
  {
   "cell_type": "markdown",
   "id": "32e910e2",
   "metadata": {
    "papermill": {
     "duration": 0.012807,
     "end_time": "2023-01-24T04:58:42.775949",
     "exception": false,
     "start_time": "2023-01-24T04:58:42.763142",
     "status": "completed"
    },
    "tags": []
   },
   "source": [
    "Create a feature array and a label array. Name these `X2` and `y2`, or something similar."
   ]
  },
  {
   "cell_type": "code",
   "execution_count": 19,
   "id": "3bf79148",
   "metadata": {
    "execution": {
     "iopub.execute_input": "2023-01-24T04:58:42.804845Z",
     "iopub.status.busy": "2023-01-24T04:58:42.804014Z",
     "iopub.status.idle": "2023-01-24T04:58:42.816980Z",
     "shell.execute_reply": "2023-01-24T04:58:42.815734Z"
    },
    "papermill": {
     "duration": 0.030479,
     "end_time": "2023-01-24T04:58:42.819694",
     "exception": false,
     "start_time": "2023-01-24T04:58:42.789215",
     "status": "completed"
    },
    "tags": []
   },
   "outputs": [],
   "source": [
    "X2 = diamonds[features2]\n",
    "y2 = diamonds.log_price"
   ]
  },
  {
   "cell_type": "markdown",
   "id": "82a5265e",
   "metadata": {
    "papermill": {
     "duration": 0.01256,
     "end_time": "2023-01-24T04:58:42.845344",
     "exception": false,
     "start_time": "2023-01-24T04:58:42.832784",
     "status": "completed"
    },
    "tags": []
   },
   "source": [
    "Create an instance of `StandardScaler` and use it to scale the feature array. "
   ]
  },
  {
   "cell_type": "code",
   "execution_count": 20,
   "id": "9bc0b2f7",
   "metadata": {
    "execution": {
     "iopub.execute_input": "2023-01-24T04:58:42.872766Z",
     "iopub.status.busy": "2023-01-24T04:58:42.872354Z",
     "iopub.status.idle": "2023-01-24T04:58:42.881871Z",
     "shell.execute_reply": "2023-01-24T04:58:42.880791Z"
    },
    "papermill": {
     "duration": 0.026093,
     "end_time": "2023-01-24T04:58:42.884333",
     "exception": false,
     "start_time": "2023-01-24T04:58:42.858240",
     "status": "completed"
    },
    "tags": []
   },
   "outputs": [
    {
     "data": {
      "text/plain": [
       "array([[-0.03448598, -1.09967199, -1.15993475, -1.11592599, -1.13184425,\n",
       "        -1.22036373],\n",
       "       [ 0.24472507, -0.20460509,  0.93500554,  0.85408762,  0.92287562,\n",
       "         0.9871182 ],\n",
       "       [-0.52310533, -0.20460509, -0.19715368, -0.17031946, -0.23910389,\n",
       "        -0.14204121],\n",
       "       ...,\n",
       "       [ 0.66354165,  2.48059561,  0.28423685,  0.23243888,  0.34188586,\n",
       "         0.51409872],\n",
       "       [-0.03448598, -0.65213854,  0.94392018,  0.9503994 ,  0.9370461 ,\n",
       "         0.95837934],\n",
       "       [-0.59290809, -0.65213854, -1.17776403, -1.14219284, -1.20269666,\n",
       "        -1.27298086]])"
      ]
     },
     "execution_count": 20,
     "metadata": {},
     "output_type": "execute_result"
    }
   ],
   "source": [
    "preprocessor = StandardScaler()\n",
    "preprocessor.fit_transform(X2)"
   ]
  },
  {
   "cell_type": "markdown",
   "id": "02ea9c28",
   "metadata": {
    "papermill": {
     "duration": 0.012614,
     "end_time": "2023-01-24T04:58:42.910213",
     "exception": false,
     "start_time": "2023-01-24T04:58:42.897599",
     "status": "completed"
    },
    "tags": []
   },
   "source": [
    "Perform the following steps in the cell below: (1) Create an instance of LinearRegression, (2) train it on dataset (using the scaled features), (3) print the model intercept and model coefficients. "
   ]
  },
  {
   "cell_type": "code",
   "execution_count": 21,
   "id": "98116d1b",
   "metadata": {},
   "outputs": [],
   "source": [
    "X2_train, X2_test, y2_train, y2_test = train_test_split(X2, y2, test_size = 0.20, random_state = 1)"
   ]
  },
  {
   "cell_type": "code",
   "execution_count": 22,
   "id": "6f4ac59d",
   "metadata": {
    "execution": {
     "iopub.execute_input": "2023-01-24T04:58:42.937831Z",
     "iopub.status.busy": "2023-01-24T04:58:42.937436Z",
     "iopub.status.idle": "2023-01-24T04:58:42.956600Z",
     "shell.execute_reply": "2023-01-24T04:58:42.954764Z"
    },
    "papermill": {
     "duration": 0.036514,
     "end_time": "2023-01-24T04:58:42.959740",
     "exception": false,
     "start_time": "2023-01-24T04:58:42.923226",
     "status": "completed"
    },
    "tags": []
   },
   "outputs": [
    {
     "name": "stdout",
     "output_type": "stream",
     "text": [
      "\n",
      "Intercept:          11.65354615792726\n",
      "Model Coefficients: [-0.03212807 -0.01858183 -0.04207623  0.00420601  0.02436735  1.73457276]\n",
      "\n"
     ]
    }
   ],
   "source": [
    "lm2 = LinearRegression()\n",
    "lm2.fit(X2_train, y2_train)\n",
    "print(f\"\"\"\n",
    "Intercept:          {lm2.intercept_}\n",
    "Model Coefficients: {lm2.coef_}\n",
    "\"\"\")"
   ]
  },
  {
   "cell_type": "markdown",
   "id": "c9e8a3f4",
   "metadata": {
    "papermill": {
     "duration": 0.012599,
     "end_time": "2023-01-24T04:58:42.985773",
     "exception": false,
     "start_time": "2023-01-24T04:58:42.973174",
     "status": "completed"
    },
    "tags": []
   },
   "source": [
    "Use the `score()` method to calculate the training r-squared value for the model. "
   ]
  },
  {
   "cell_type": "code",
   "execution_count": 23,
   "id": "1a08c5fd",
   "metadata": {
    "execution": {
     "iopub.execute_input": "2023-01-24T04:58:43.014444Z",
     "iopub.status.busy": "2023-01-24T04:58:43.013463Z",
     "iopub.status.idle": "2023-01-24T04:58:43.027091Z",
     "shell.execute_reply": "2023-01-24T04:58:43.025864Z"
    },
    "papermill": {
     "duration": 0.031283,
     "end_time": "2023-01-24T04:58:43.030124",
     "exception": false,
     "start_time": "2023-01-24T04:58:42.998841",
     "status": "completed"
    },
    "tags": []
   },
   "outputs": [
    {
     "name": "stdout",
     "output_type": "stream",
     "text": [
      "\n",
      "Training r-squared: 0.935266851839351\n",
      "Test r-squared:     0.9353652966157293\n",
      "\n"
     ]
    }
   ],
   "source": [
    "print(f\"\"\"\n",
    "Training r-squared: {lm2.score(X2_train, y2_train)}\n",
    "Test r-squared:     {lm2.score(X2_test, y2_test)}\n",
    "\"\"\")"
   ]
  },
  {
   "cell_type": "markdown",
   "id": "f0ba1a08",
   "metadata": {
    "papermill": {
     "duration": 0.021312,
     "end_time": "2023-01-24T04:58:43.072584",
     "exception": false,
     "start_time": "2023-01-24T04:58:43.051272",
     "status": "completed"
    },
    "tags": []
   },
   "source": [
    "Use `cross_val_score()` to estimate the model's out of-sample r-squared value. "
   ]
  },
  {
   "cell_type": "code",
   "execution_count": 24,
   "id": "3a8b9b92",
   "metadata": {
    "execution": {
     "iopub.execute_input": "2023-01-24T04:58:43.116652Z",
     "iopub.status.busy": "2023-01-24T04:58:43.116033Z",
     "iopub.status.idle": "2023-01-24T04:58:43.350618Z",
     "shell.execute_reply": "2023-01-24T04:58:43.349173Z"
    },
    "papermill": {
     "duration": 0.260399,
     "end_time": "2023-01-24T04:58:43.354008",
     "exception": false,
     "start_time": "2023-01-24T04:58:43.093609",
     "status": "completed"
    },
    "tags": []
   },
   "outputs": [
    {
     "name": "stdout",
     "output_type": "stream",
     "text": [
      "Cross validation score: 0.9336344355962944\n"
     ]
    }
   ],
   "source": [
    "print(f\"Cross validation score: {cross_val_score(lm2, X2_train, y2_train, scoring='r2').mean()}\")"
   ]
  },
  {
   "cell_type": "markdown",
   "id": "decc9fd4",
   "metadata": {
    "papermill": {
     "duration": 0.036468,
     "end_time": "2023-01-24T04:58:43.422760",
     "exception": false,
     "start_time": "2023-01-24T04:58:43.386292",
     "status": "completed"
    },
    "tags": []
   },
   "source": [
    "Create a DataFrame with two columns: The first should contain the names of the features (as stored in the array you created previously). The second column should contain the absolute value of the corresponding coefficients for the linear regression model. Sort this DataFrame in ascending order according to the second column. "
   ]
  },
  {
   "cell_type": "code",
   "execution_count": 25,
   "id": "688ff14b",
   "metadata": {
    "execution": {
     "iopub.execute_input": "2023-01-24T04:58:43.480613Z",
     "iopub.status.busy": "2023-01-24T04:58:43.480210Z",
     "iopub.status.idle": "2023-01-24T04:58:43.487355Z",
     "shell.execute_reply": "2023-01-24T04:58:43.486196Z"
    },
    "papermill": {
     "duration": 0.023904,
     "end_time": "2023-01-24T04:58:43.489551",
     "exception": false,
     "start_time": "2023-01-24T04:58:43.465647",
     "status": "completed"
    },
    "tags": []
   },
   "outputs": [
    {
     "data": {
      "text/html": [
       "<div>\n",
       "<style scoped>\n",
       "    .dataframe tbody tr th:only-of-type {\n",
       "        vertical-align: middle;\n",
       "    }\n",
       "\n",
       "    .dataframe tbody tr th {\n",
       "        vertical-align: top;\n",
       "    }\n",
       "\n",
       "    .dataframe thead th {\n",
       "        text-align: right;\n",
       "    }\n",
       "</style>\n",
       "<table border=\"1\" class=\"dataframe\">\n",
       "  <thead>\n",
       "    <tr style=\"text-align: right;\">\n",
       "      <th></th>\n",
       "      <th>colnames</th>\n",
       "      <th>coefficients</th>\n",
       "    </tr>\n",
       "  </thead>\n",
       "  <tbody>\n",
       "    <tr>\n",
       "      <th>0</th>\n",
       "      <td>y</td>\n",
       "      <td>0.004206</td>\n",
       "    </tr>\n",
       "    <tr>\n",
       "      <th>1</th>\n",
       "      <td>table</td>\n",
       "      <td>0.018582</td>\n",
       "    </tr>\n",
       "    <tr>\n",
       "      <th>2</th>\n",
       "      <td>z</td>\n",
       "      <td>0.024367</td>\n",
       "    </tr>\n",
       "    <tr>\n",
       "      <th>3</th>\n",
       "      <td>depth</td>\n",
       "      <td>0.032128</td>\n",
       "    </tr>\n",
       "    <tr>\n",
       "      <th>4</th>\n",
       "      <td>x</td>\n",
       "      <td>0.042076</td>\n",
       "    </tr>\n",
       "    <tr>\n",
       "      <th>5</th>\n",
       "      <td>log_carat</td>\n",
       "      <td>1.734573</td>\n",
       "    </tr>\n",
       "  </tbody>\n",
       "</table>\n",
       "</div>"
      ],
      "text/plain": [
       "    colnames  coefficients\n",
       "0          y      0.004206\n",
       "1      table      0.018582\n",
       "2          z      0.024367\n",
       "3      depth      0.032128\n",
       "4          x      0.042076\n",
       "5  log_carat      1.734573"
      ]
     },
     "execution_count": 25,
     "metadata": {},
     "output_type": "execute_result"
    }
   ],
   "source": [
    "df2 = pd.DataFrame(data={\n",
    "    'colnames': features2,\n",
    "    'coefficients': abs(lm2.coef_)\n",
    "})\n",
    "df2.sort_values(\"coefficients\", inplace=True, ignore_index=True)\n",
    "df2"
   ]
  },
  {
   "cell_type": "markdown",
   "id": "8a359ca5",
   "metadata": {
    "papermill": {
     "duration": 0.012406,
     "end_time": "2023-01-24T04:58:43.514856",
     "exception": false,
     "start_time": "2023-01-24T04:58:43.502450",
     "status": "completed"
    },
    "tags": []
   },
   "source": [
    "Use the DataFrame from the previous cell and `plt.barh()` to create a horizontal bar chart demonstrating the magnitude of the coefficient values for each feature. Select a [named color](https://matplotlib.org/stable/gallery/color/named_colors.html) for the bars, and set their `edgecolor` to black. Set the title to \"Coefficient Values\". Use `plt.show()` to display the figure. "
   ]
  },
  {
   "cell_type": "code",
   "execution_count": 26,
   "id": "abc8ffee",
   "metadata": {
    "execution": {
     "iopub.execute_input": "2023-01-24T04:58:43.542415Z",
     "iopub.status.busy": "2023-01-24T04:58:43.541521Z",
     "iopub.status.idle": "2023-01-24T04:58:43.709409Z",
     "shell.execute_reply": "2023-01-24T04:58:43.708047Z"
    },
    "papermill": {
     "duration": 0.184249,
     "end_time": "2023-01-24T04:58:43.711866",
     "exception": false,
     "start_time": "2023-01-24T04:58:43.527617",
     "status": "completed"
    },
    "tags": []
   },
   "outputs": [
    {
     "data": {
      "image/png": "[encoded data removed]",
      "text/plain": [
       "<Figure size 640x480 with 1 Axes>"
      ]
     },
     "metadata": {},
     "output_type": "display_data"
    }
   ],
   "source": [
    "plt.barh(df2['colnames'], df2['coefficients'], label=df2['colnames'], color='rosybrown', edgecolor='k')\n",
    "plt.xlabel(\"Coefficients\")\n",
    "plt.ylabel(\"Column names\")\n",
    "plt.title(\"Coefficient Values\")\n",
    "plt.show()"
   ]
  }
 ],
 "metadata": {
  "kernelspec": {
   "display_name": "Python 3 (ipykernel)",
   "language": "python",
   "name": "python3"
  },
  "language_info": {
   "codemirror_mode": {
    "name": "ipython",
    "version": 3
   },
   "file_extension": ".py",
   "mimetype": "text/x-python",
   "name": "python",
   "nbconvert_exporter": "python",
   "pygments_lexer": "ipython3",
   "version": "3.10.9"
  },
  "papermill": {
   "default_parameters": {},
   "duration": 14.972701,
   "end_time": "2023-01-24T04:58:44.446021",
   "environment_variables": {},
   "exception": null,
   "input_path": "__notebook__.ipynb",
   "output_path": "__notebook__.ipynb",
   "parameters": {},
   "start_time": "2023-01-24T04:58:29.473320",
   "version": "2.3.4"
  }
 },
 "nbformat": 4,
 "nbformat_minor": 5
}
